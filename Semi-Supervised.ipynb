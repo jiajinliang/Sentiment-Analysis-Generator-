{
 "cells": [
  {
   "cell_type": "code",
   "execution_count": 34,
   "metadata": {},
   "outputs": [],
   "source": [
    "import sentiment as sentimentinterface\n",
    "import classify\n",
    "import numpy as np\n",
    "import matplotlib.pyplot as plt\n",
    "from mpl_toolkits.mplot3d import Axes3D\n",
    "plt.switch_backend('agg')\n",
    "import matplotlib.ticker as ticker\n",
    "%matplotlib inline\n",
    "\n",
    "import importlib"
   ]
  },
  {
   "cell_type": "code",
   "execution_count": 65,
   "metadata": {
    "scrolled": false
   },
   "outputs": [
    {
     "name": "stdout",
     "output_type": "stream",
     "text": [
      "Reading data\n",
      "-- train data\n",
      "sentiment/train.tsv\n",
      "4582\n",
      "-- dev data\n",
      "sentiment/dev.tsv\n",
      "458\n",
      "-- transforming data and labels\n",
      "sentiment/unlabeled.tsv\n",
      "(91524, 2123)\n",
      "  Accuracy on dev is: 0.7947598253275109\n",
      "Original size: 91524 Final size: 3983\n",
      "Adapted portion: 0.9564813600804161\n",
      "Reading data\n",
      "-- train data\n",
      "sentiment/train.tsv\n",
      "4582\n",
      "-- dev data\n",
      "sentiment/dev.tsv\n",
      "458\n",
      "-- transforming data and labels\n",
      "sentiment/unlabeled.tsv\n",
      "(91524, 2123)\n",
      "  Accuracy on dev is: 0.7903930131004366\n",
      "Original size: 91524 Final size: 5117\n",
      "Adapted portion: 0.9440911673440846\n",
      "Reading data\n",
      "-- train data\n",
      "sentiment/train.tsv\n",
      "4582\n",
      "-- dev data\n",
      "sentiment/dev.tsv\n",
      "458\n",
      "-- transforming data and labels\n",
      "sentiment/unlabeled.tsv\n",
      "(91524, 2123)\n",
      "  Accuracy on dev is: 0.7947598253275109\n",
      "Original size: 91524 Final size: 6280\n",
      "Adapted portion: 0.931384117827018\n",
      "Reading data\n",
      "-- train data\n",
      "sentiment/train.tsv\n",
      "4582\n",
      "-- dev data\n",
      "sentiment/dev.tsv\n",
      "458\n",
      "-- transforming data and labels\n",
      "sentiment/unlabeled.tsv\n",
      "(91524, 2123)\n",
      "  Accuracy on dev is: 0.7816593886462883\n",
      "Original size: 91524 Final size: 7829\n",
      "Adapted portion: 0.9144595952974083\n",
      "Reading data\n",
      "-- train data\n",
      "sentiment/train.tsv\n",
      "4582\n",
      "-- dev data\n",
      "sentiment/dev.tsv\n",
      "458\n",
      "-- transforming data and labels\n",
      "sentiment/unlabeled.tsv\n",
      "(91524, 2123)\n",
      "  Accuracy on dev is: 0.7794759825327511\n",
      "Original size: 91524 Final size: 9528\n",
      "Adapted portion: 0.895896158384686\n"
     ]
    }
   ],
   "source": [
    "importlib.reload(sentimentinterface)\n",
    "CONF = np.arange(0.35, 0.60, 0.05)\n",
    "acc = []\n",
    "portions = []\n",
    "for conf in CONF:\n",
    "    print(\"Reading data\")\n",
    "    tarfname = \"data/sentiment.tar.gz\"\n",
    "    sentiment = sentimentinterface.read_data(tarfname)\n",
    "\n",
    "    importlib.reload(sentimentinterface)\n",
    "    opt_diff = 0.4\n",
    "    opt_max = 0.2\n",
    "    opt_min = 3\n",
    "    opt_c = 3.7\n",
    "    stop_words = sentimentinterface.generate_stop_words(sentiment, diff = opt_diff)\n",
    "    sentimentinterface.vectorize_data(sentiment, stop_words = stop_words, max_df = opt_max, min_df = opt_min)\n",
    "    cls = classify.train_classifier(sentiment.trainX, sentiment.trainy, C = opt_c)\n",
    "\n",
    "    unlabeled = sentimentinterface.read_unlabeled(tarfname, sentiment)\n",
    "    yp = cls.predict_proba(unlabeled.X)\n",
    "    original_size = len(unlabeled.data)\n",
    "\n",
    "    importlib.reload(sentimentinterface)\n",
    "    stop_words = sentimentinterface.generate_stop_words(sentiment, diff = opt_diff)\n",
    "    sentimentinterface.vectorize_data(sentiment, stop_words = stop_words, max_df = opt_max, min_df = opt_min)\n",
    "    while(1):\n",
    "        cls = classify.train_classifier(sentiment.trainX, sentiment.trainy, C = opt_c)\n",
    "        yprob = cls.predict_proba(unlabeled.X)\n",
    "        yp = cls.predict(unlabeled.X)\n",
    "\n",
    "        extend_data = []\n",
    "        extend_labels = []\n",
    "        removes = []\n",
    "        for i in range(len(yprob)):\n",
    "            if abs(yprob[i][1] - yprob[i][0]) > conf:\n",
    "                extend_data.append(unlabeled.data[i])\n",
    "                if yp[i] == 1:\n",
    "                    extend_labels.append(\"POSITIVE\")\n",
    "                else:\n",
    "                    extend_labels.append(\"NEGATIVE\")\n",
    "                removes.append(i)\n",
    "\n",
    "        if len(removes) == 0:\n",
    "            break\n",
    "\n",
    "        sentimentinterface.extend_training(sentiment, extend_data, extend_labels)\n",
    "\n",
    "        stop_words = sentimentinterface.generate_stop_words(sentiment, diff = opt_diff)\n",
    "        sentimentinterface.vectorize_data(sentiment, stop_words = stop_words, max_df = opt_max, min_df = opt_min)\n",
    "\n",
    "        sentimentinterface.remove_data(unlabeled, sentiment, removes)\n",
    "        \n",
    "    final_size = len(unlabeled.data)\n",
    "    portion = (original_size - final_size) / original_size\n",
    "    portions.append(portion)\n",
    "    acc.append(classify.evaluate(sentiment.devX, sentiment.devy, cls, 'dev'))\n",
    "    print(\"Original size:\", original_size, \"Final size:\", final_size)\n",
    "    print(\"Adapted portion:\", portion)"
   ]
  },
  {
   "cell_type": "code",
   "execution_count": 74,
   "metadata": {},
   "outputs": [
    {
     "data": {
      "image/png": "[encoded data removed]",
      "text/plain": [
       "<Figure size 432x288 with 1 Axes>"
      ]
     },
     "metadata": {
      "needs_background": "light"
     },
     "output_type": "display_data"
    }
   ],
   "source": [
    "plt.plot(portions[1:], acc[1:])\n",
    "plt.title(\"Plot 5: Accuracy - Adapted portion\")\n",
    "plt.xlabel(\"Adapted portion\")\n",
    "plt.ylabel(\"Accuracy\")\n",
    "plt.show()"
   ]
  },
  {
   "cell_type": "code",
   "execution_count": 60,
   "metadata": {},
   "outputs": [
    {
     "name": "stdout",
     "output_type": "stream",
     "text": [
      "  Accuracy on dev is: 0.7903930131004366\n",
      "\n",
      "Reading unlabeled data\n",
      "sentiment/unlabeled.tsv\n",
      "(91524, 11922)\n",
      "Writing predictions to a file\n"
     ]
    }
   ],
   "source": [
    "classify.evaluate(sentiment.devX, sentiment.devy, cls, 'dev')\n",
    "print(\"\\nReading unlabeled data\")\n",
    "unlabeled = sentimentinterface.read_unlabeled(tarfname, sentiment)\n",
    "print(\"Writing predictions to a file\")\n",
    "sentimentinterface.write_pred_kaggle_file(unlabeled, cls, \"data/sentiment-pred.csv\", sentiment)"
   ]
  },
  {
   "cell_type": "code",
   "execution_count": null,
   "metadata": {},
   "outputs": [],
   "source": []
  }
 ],
 "metadata": {
  "kernelspec": {
   "display_name": "Python 3",
   "language": "python",
   "name": "python3"
  },
  "language_info": {
   "codemirror_mode": {
    "name": "ipython",
    "version": 3
   },
   "file_extension": ".py",
   "mimetype": "text/x-python",
   "name": "python",
   "nbconvert_exporter": "python",
   "pygments_lexer": "ipython3",
   "version": "3.7.1"
  }
 },
 "nbformat": 4,
 "nbformat_minor": 2
}
