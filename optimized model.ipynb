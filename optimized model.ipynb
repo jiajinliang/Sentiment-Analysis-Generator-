{
 "cells": [
  {
   "cell_type": "code",
   "execution_count": 1,
   "metadata": {},
   "outputs": [],
   "source": [
    "import sentiment as sentimentinterface\n",
    "import classify\n",
    "import numpy as np\n",
    "import matplotlib.pyplot as plt\n",
    "from mpl_toolkits.mplot3d import Axes3D\n",
    "plt.switch_backend('agg')\n",
    "import matplotlib.ticker as ticker\n",
    "%matplotlib inline\n",
    "\n",
    "import importlib"
   ]
  },
  {
   "cell_type": "code",
   "execution_count": 2,
   "metadata": {},
   "outputs": [
    {
     "name": "stdout",
     "output_type": "stream",
     "text": [
      "Reading data\n",
      "-- train data\n",
      "sentiment/train.tsv\n",
      "4582\n",
      "-- dev data\n",
      "sentiment/dev.tsv\n",
      "458\n",
      "-- transforming data and labels\n"
     ]
    }
   ],
   "source": [
    "importlib.reload(sentimentinterface)\n",
    "print(\"Reading data\")\n",
    "tarfname = \"data/sentiment.tar.gz\"\n",
    "sentiment = sentimentinterface.read_data(tarfname)"
   ]
  },
  {
   "cell_type": "code",
   "execution_count": 3,
   "metadata": {},
   "outputs": [
    {
     "name": "stdout",
     "output_type": "stream",
     "text": [
      "  Accuracy on dev is: 0.8187772925764192\n",
      "\n",
      "Reading unlabeled data\n",
      "sentiment/unlabeled.tsv\n",
      "(91524, 2123)\n",
      "Writing predictions to a file\n"
     ]
    }
   ],
   "source": [
    "stop_words = sentimentinterface.generate_stop_words(sentiment, diff = 0.4)\n",
    "sentimentinterface.vectorize_data(sentiment, stop_words = stop_words, max_df = 0.2, min_df = 3)\n",
    "cls = classify.train_classifier(sentiment.trainX, sentiment.trainy, C = 3.7)\n",
    "\n",
    "classify.evaluate(sentiment.devX, sentiment.devy, cls, 'dev')\n",
    "print(\"\\nReading unlabeled data\")\n",
    "unlabeled = sentimentinterface.read_unlabeled(tarfname, sentiment)\n",
    "print(\"Writing predictions to a file\")\n",
    "sentimentinterface.write_pred_kaggle_file(unlabeled, cls, \"data/sentiment-pred.csv\", sentiment)"
   ]
  },
  {
   "cell_type": "markdown",
   "metadata": {},
   "source": [
    "### Now cls is the optimized model"
   ]
  },
  {
   "cell_type": "code",
   "execution_count": 8,
   "metadata": {},
   "outputs": [],
   "source": [
    "def vectorize_sentence(sentence, count_vect = sentiment.count_vect):\n",
    "    return count_vect.transform([sentence])"
   ]
  },
  {
   "cell_type": "code",
   "execution_count": 9,
   "metadata": {},
   "outputs": [],
   "source": [
    "def predict(sentence, cls = cls):\n",
    "    sentence_vect = vectorize_sentence(sentence)\n",
    "    result = cls.predict(sentence_vect)\n",
    "    return result"
   ]
  },
  {
   "cell_type": "code",
   "execution_count": 11,
   "metadata": {},
   "outputs": [
    {
     "name": "stdout",
     "output_type": "stream",
     "text": [
      "[0]\n"
     ]
    }
   ],
   "source": [
    "print(predict(\"Came in for some good after a long day at work.\"))"
   ]
  },
  {
   "cell_type": "code",
   "execution_count": null,
   "metadata": {},
   "outputs": [],
   "source": []
  }
 ],
 "metadata": {
  "kernelspec": {
   "display_name": "Python 3",
   "language": "python",
   "name": "python3"
  },
  "language_info": {
   "codemirror_mode": {
    "name": "ipython",
    "version": 3
   },
   "file_extension": ".py",
   "mimetype": "text/x-python",
   "name": "python",
   "nbconvert_exporter": "python",
   "pygments_lexer": "ipython3",
   "version": "3.5.2"
  }
 },
 "nbformat": 4,
 "nbformat_minor": 2
}
