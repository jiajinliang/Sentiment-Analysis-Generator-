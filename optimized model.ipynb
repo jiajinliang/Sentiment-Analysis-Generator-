{
 "cells": [
  {
   "cell_type": "code",
   "execution_count": 2,
   "metadata": {},
   "outputs": [],
   "source": [
    "import sentiment as sentimentinterface\n",
    "import classify\n",
    "import numpy as np\n",
    "import matplotlib.pyplot as plt\n",
    "from mpl_toolkits.mplot3d import Axes3D\n",
    "plt.switch_backend('agg')\n",
    "import matplotlib.ticker as ticker\n",
    "%matplotlib inline\n",
    "\n",
    "import importlib"
   ]
  },
  {
   "cell_type": "code",
   "execution_count": 3,
   "metadata": {},
   "outputs": [
    {
     "name": "stdout",
     "output_type": "stream",
     "text": [
      "Reading data\n",
      "-- train data\n",
      "sentiment/train.tsv\n",
      "4582\n",
      "-- dev data\n",
      "sentiment/dev.tsv\n",
      "458\n",
      "-- transforming data and labels\n"
     ]
    }
   ],
   "source": [
    "importlib.reload(sentimentinterface)\n",
    "print(\"Reading data\")\n",
    "tarfname = \"data/sentiment.tar.gz\"\n",
    "sentiment = sentimentinterface.read_data(tarfname)"
   ]
  },
  {
   "cell_type": "code",
   "execution_count": 117,
   "metadata": {},
   "outputs": [
    {
     "name": "stdout",
     "output_type": "stream",
     "text": [
      "  Accuracy on dev is: 0.8187772925764192\n"
     ]
    },
    {
     "data": {
      "text/plain": [
       "0.8187772925764192"
      ]
     },
     "execution_count": 117,
     "metadata": {},
     "output_type": "execute_result"
    }
   ],
   "source": [
    "sentiment.stop_words = sentimentinterface.generate_stop_words(sentiment, diff = 0.4)\n",
    "\n",
    "from sklearn.feature_extraction.text import CountVectorizer\n",
    "\n",
    "sentiment.cv = CountVectorizer(min_df = 3)\n",
    "sentiment.cv.fit_transform(sentiment.train_data)\n",
    "sentiment.mindf_stop_words = sentiment.cv.stop_words_\n",
    "sentiment.cv = CountVectorizer(max_df = 0.2)\n",
    "sentiment.cv.fit_transform(sentiment.train_data)\n",
    "sentiment.maxdf_stop_words = sentiment.cv.stop_words_\n",
    "sentiment.cv = CountVectorizer()\n",
    "sentiment.cv.fit_transform(sentiment.train_data)\n",
    "sentiment.training_set_vocabulary = sentiment.cv.vocabulary_\n",
    "\n",
    "sentimentinterface.vectorize_data(sentiment, stop_words = sentiment.stop_words, max_df = 0.2, min_df = 3)\n",
    "cls = classify.train_classifier(sentiment.trainX, sentiment.trainy, C = 3.7)\n",
    "\n",
    "classify.evaluate(sentiment.devX, sentiment.devy, cls, 'dev')\n",
    "# print(\"\\nReading unlabeled data\")\n",
    "# unlabeled = sentimentinterface.read_unlabeled(tarfname, sentiment)\n",
    "# print(\"Writing predictions to a file\")\n",
    "# sentimentinterface.write_pred_kaggle_file(unlabeled, cls, \"data/sentiment-pred.csv\", sentiment)"
   ]
  },
  {
   "cell_type": "markdown",
   "metadata": {},
   "source": [
    "### Now cls is the optimized model"
   ]
  },
  {
   "cell_type": "code",
   "execution_count": 13,
   "metadata": {},
   "outputs": [],
   "source": [
    "sentence = 'i hate this place, it tastes like minwoo'"
   ]
  },
  {
   "cell_type": "code",
   "execution_count": 14,
   "metadata": {},
   "outputs": [],
   "source": [
    "def vectorize_sentence(sentence, count_vect = sentiment.count_vect):\n",
    "    return count_vect.transform([sentence])"
   ]
  },
  {
   "cell_type": "code",
   "execution_count": 15,
   "metadata": {},
   "outputs": [],
   "source": [
    "veccc = vectorize_sentence(sentence)"
   ]
  },
  {
   "cell_type": "code",
   "execution_count": 16,
   "metadata": {},
   "outputs": [
    {
     "name": "stdout",
     "output_type": "stream",
     "text": [
      "  (0, 850)\t1.0\n"
     ]
    }
   ],
   "source": [
    "print(veccc)"
   ]
  },
  {
   "cell_type": "code",
   "execution_count": 17,
   "metadata": {},
   "outputs": [
    {
     "data": {
      "text/plain": [
       "'hate'"
      ]
     },
     "execution_count": 17,
     "metadata": {},
     "output_type": "execute_result"
    }
   ],
   "source": [
    "sentiment.count_vect.get_feature_names()[850]"
   ]
  },
  {
   "cell_type": "code",
   "execution_count": 19,
   "metadata": {},
   "outputs": [],
   "source": [
    "def predict(sentence, cls = cls):\n",
    "    sentence_vect = vectorize_sentence(sentence)\n",
    "    result = cls.predict(sentence_vect)\n",
    "    if result[0] == 0:\n",
    "        print(\"Prediction: NEGATIVE\")\n",
    "    else:\n",
    "        print(\"Prediction: POSITIVE\")\n",
    "#     return result"
   ]
  },
  {
   "cell_type": "code",
   "execution_count": 41,
   "metadata": {},
   "outputs": [
    {
     "name": "stdout",
     "output_type": "stream",
     "text": [
      "[0]\n"
     ]
    }
   ],
   "source": [
    "sentence = \"Went last night for the first time with my boyfriend. Let me start off by saying I'm vegetarian, but my boyfriend is not. I ordered the chicken v mushroom, it\"\n",
    "print(predict(sentence))"
   ]
  },
  {
   "cell_type": "markdown",
   "metadata": {},
   "source": [
    "### Now explain why it predicted 0"
   ]
  },
  {
   "cell_type": "markdown",
   "metadata": {},
   "source": [
    "#### clean function"
   ]
  },
  {
   "cell_type": "code",
   "execution_count": 134,
   "metadata": {},
   "outputs": [],
   "source": [
    "def clean(s):\n",
    "    from string import punctuation\n",
    "    s_new = []\n",
    "    s_ignored = []\n",
    "    res = []\n",
    "    for c in s:\n",
    "        if c not in punctuation:\n",
    "            s_new.append(c.lower())\n",
    "        else:\n",
    "            s_new.append(' ')\n",
    "            \n",
    "    s = ''.join(c for c in s_new)\n",
    "    #s = [''.join(c for c in s if c not in punctuation)][0]\n",
    "\n",
    "    l = s.split()\n",
    "\n",
    "    for w in l:\n",
    "        if w in sentiment.count_vect.vocabulary_:\n",
    "            res.append(w)\n",
    "        else:\n",
    "            s_ignored.append(w)\n",
    "#     l = [w for w in l if w in sentiment.count_vect.vocabulary_]\n",
    "\n",
    "    return res, s_ignored"
   ]
  },
  {
   "cell_type": "markdown",
   "metadata": {},
   "source": [
    "#### find stop_words"
   ]
  },
  {
   "cell_type": "code",
   "execution_count": 120,
   "metadata": {},
   "outputs": [],
   "source": [
    "def find_stop_words(s_ignored):\n",
    "#     sentence_vect = clean(sentence)\n",
    "    unseen = []\n",
    "    maxdf = []\n",
    "    mindf = []\n",
    "    oliver_algorithm = []\n",
    "    for w in s_ignored:\n",
    "        if w not in sentiment.training_set_vocabulary:\n",
    "            unseen.append(w)\n",
    "        if w in sentiment.maxdf_stop_words:\n",
    "            maxdf.append(w)\n",
    "        if w in sentiment.mindf_stop_words:\n",
    "            mindf.append(w)\n",
    "        if w in sentiment.stop_words:\n",
    "            oliver_algorithm.append(w)\n",
    "            \n",
    "    print(\"Words being ignored due to not appearing in training set are: \")\n",
    "    if len(unseen) == 0:\n",
    "        print(\"None\\n\")\n",
    "    else:\n",
    "        print(unseen)\n",
    "        print('')\n",
    "        \n",
    "    print(\"Words being ignored due to mindf (unfrequent in corpus) are: \")\n",
    "    if len(mindf) == 0:\n",
    "        print(\"None\\n\")\n",
    "    else:\n",
    "        print(mindf)\n",
    "        print('')\n",
    "        \n",
    "    print(\"Words being ignored due to maxdf (too frequent in corpus) are: \")\n",
    "    if len(maxdf) == 0:\n",
    "        print(\"None\\n\")\n",
    "    else:\n",
    "        print(maxdf)\n",
    "        print('')\n",
    "        \n",
    "    print(\"Words being ignored due to our algorithm are: \")\n",
    "    if len(oliver_algorithm) == 0:\n",
    "        print(\"None\\n\")\n",
    "    else:\n",
    "        print(oliver_algorithm)\n",
    "        print('')\n",
    "#     return res\n"
   ]
  },
  {
   "cell_type": "markdown",
   "metadata": {},
   "source": [
    "#### find coef"
   ]
  },
  {
   "cell_type": "markdown",
   "metadata": {},
   "source": [
    "#### Explain the coef"
   ]
  },
  {
   "cell_type": "code",
   "execution_count": 24,
   "metadata": {},
   "outputs": [],
   "source": [
    "p_dict = {}\n",
    "n_dict = {}\n",
    "sentences = sentiment.count_vect.inverse_transform(sentiment.trainX)\n",
    "for counter in range(0, len(sentiment.train_labels)):\n",
    "    if sentiment.train_labels[counter] == \"POSITIVE\":\n",
    "        for w in sentences[counter]:\n",
    "            if w in p_dict:\n",
    "                p_dict[w] += 1\n",
    "            else:\n",
    "                p_dict[w] = 1\n",
    "    else:\n",
    "        for w in sentences[counter]:\n",
    "            if w in n_dict:\n",
    "                n_dict[w] += 1\n",
    "            else:\n",
    "                n_dict[w] = 1"
   ]
  },
  {
   "cell_type": "code",
   "execution_count": 193,
   "metadata": {},
   "outputs": [],
   "source": [
    "def find_coef(sentence_vect, tfidf_vect, stop_words = stop_words, cls = cls, sentiment = sentiment):\n",
    "    import pandas as pd\n",
    "#     sentence_vect = clean(sentence)\n",
    "    word_list = []\n",
    "    coef_list = []\n",
    "    num_p_list = []\n",
    "    num_n_list = []\n",
    "    tfidf_list = []\n",
    "    count_list = []\n",
    "    contribution_list = []\n",
    "    for word in sentence_vect:\n",
    "        if word in sentiment.count_vect.vocabulary_:\n",
    "#             print(word,\"\\'s coef:\\n\", cls.coef_[0][sentiment.count_vect.vocabulary_[word]])\n",
    "            word_list.append(word)\n",
    "            coef = cls.coef_[0][sentiment.count_vect.vocabulary_[word]]\n",
    "            coef_list.append(coef)\n",
    "            tfidf = tfidf_vect.toarray()[0][sentiment.count_vect.vocabulary_[word]]\n",
    "            tfidf_list.append(tfidf)\n",
    "            contribution_list.append(coef*tfidf)\n",
    "            vec = sentiment.cv.transform([sentence])\n",
    "            count_list.append(vec.toarray()[0][sentiment.training_set_vocabulary[word]])\n",
    "            if word in p_dict:\n",
    "                num_p = p_dict[word]\n",
    "            else:\n",
    "                num_p = 0\n",
    "            if word in n_dict:\n",
    "                num_n = n_dict[word]\n",
    "            else:\n",
    "                num_n = 0\n",
    "#             print(\"Number of \",word,\"in POSITIVE reviews: \",num_p,\"\\tNumber of \",word,\"in NEGATIVE reviews: \",num_n,\"\\n\")\n",
    "            num_p_list.append(num_p)\n",
    "            num_n_list.append(num_n)\n",
    "    dic = {'Feature':word_list, 'Coef':coef_list, 'in POSITIVE':num_p_list,\n",
    "          'in NEGATIVE':num_n_list, 'tfidf val':tfidf_list, 'Original Count':count_list,\n",
    "          'Contribution':contribution_list}\n",
    "    df = pd.DataFrame(dic)\n",
    "    df = df[['Feature','Contribution','Original Count','tfidf val','Coef','in POSITIVE','in NEGATIVE']]\n",
    "#     print(df)\n",
    "    return df"
   ]
  },
  {
   "cell_type": "code",
   "execution_count": 191,
   "metadata": {},
   "outputs": [],
   "source": [
    "def color_negative_red(val):\n",
    "    \"\"\"\n",
    "    Takes a scalar and returns a string with\n",
    "    the css property `'color: red'` for negative\n",
    "    strings, black otherwise.\n",
    "    \"\"\"\n",
    "    try:\n",
    "        if float(val) < 0:\n",
    "            color = 'red'\n",
    "        elif float(val) > 0:\n",
    "            color = 'green'\n",
    "        else:\n",
    "            color = 'black'\n",
    "#         color = 'red' if float(val) < 0 else 'black'\n",
    "    except ValueError:\n",
    "        color = 'black'\n",
    "\n",
    "    return 'color: %s' % color\n",
    "\n",
    "def highlight_max(s):\n",
    "    '''\n",
    "    highlight the maximum in a Series yellow.\n",
    "    '''\n",
    "    is_max = s == s.max()\n",
    "    return ['background-color: lightgreen' if v else '' for v in is_max]\n",
    "\n",
    "def highlight_min(s):\n",
    "    '''\n",
    "    highlight the maximum in a Series yellow.\n",
    "    '''\n",
    "    is_min = s == s.min()\n",
    "    return ['background-color: yellow' if v else '' for v in is_min]"
   ]
  },
  {
   "cell_type": "code",
   "execution_count": 199,
   "metadata": {},
   "outputs": [],
   "source": [
    "def analysis(sentence):\n",
    "    sentence_vect, s_ignored = clean(sentence)\n",
    "    tfidf_vect = sentiment.count_vect.transform([sentence])\n",
    "    find_stop_words(s_ignored)\n",
    "    print(\"Remaining words in the vec:\")\n",
    "    print(sentence_vect)\n",
    "    df = find_coef(sentence_vect, tfidf_vect)\n",
    "    df = df.style.applymap(color_negative_red, subset=['Coef','Contribution']).\\\n",
    "        apply(highlight_max, subset=['Coef','Contribution']).\\\n",
    "        apply(highlight_min, subset=['Coef','Contribution'])\n",
    "#     df = df.style.apply(highlight_max)\n",
    "    return df"
   ]
  },
  {
   "cell_type": "code",
   "execution_count": null,
   "metadata": {},
   "outputs": [],
   "source": []
  },
  {
   "cell_type": "markdown",
   "metadata": {},
   "source": [
    "### Visualization "
   ]
  },
  {
   "cell_type": "code",
   "execution_count": 230,
   "metadata": {},
   "outputs": [],
   "source": [
    "import copy\n",
    "import math\n",
    "import matplotlib as mpl\n",
    "\n",
    "# Logistic Regression Interception\n",
    "intercept = copy.deepcopy(cls.intercept_)[0]\n",
    "\n",
    "# Vectorizer vocaulary list (ordered)\n",
    "cv = sentiment.count_vect.vocabulary_\n",
    "cv = [(v,w) for w,v in cv.items()]\n",
    "cv.sort()\n",
    "cv = [x[1] for x in cv]\n",
    "\n",
    "def bar_chart(cd, title='',ylabel=''):\n",
    "    \n",
    "    words = [w for w,_ in cd.items()]\n",
    "    coefs = [cd[w] for w in words]\n",
    "    l = [x for x in zip(coefs, words)]\n",
    "    l.sort()\n",
    "    words = [w for c,w in l]\n",
    "    coefs = [c for c,w in l]\n",
    "\n",
    "    fig = plt.figure(figsize=(10,5))\n",
    "    colors = ['red' if c < 0 else 'blue' for c in coefs]\n",
    "    plt.bar(words, coefs, color=colors)\n",
    "    plt.xlabel('Word', fontsize=20)\n",
    "    plt.ylabel(ylabel, fontsize=20)\n",
    "    plt.xticks(fontsize=20, rotation=30)\n",
    "    plt.yticks(fontsize=15)\n",
    "    plt.title(title, fontsize = 30)\n",
    "    plt.show()\n",
    "    \n",
    "    return fig\n",
    "\n",
    "def coef_list(words):\n",
    "    d = {}\n",
    "    for w in words:\n",
    "        c = cls.coef_[0][sentiment.count_vect.vocabulary_[w]]\n",
    "        d[w] = c\n",
    "        \n",
    "    return d\n",
    "\n",
    "def tfidf_x_coef(x):\n",
    "    \n",
    "    cd = {}\n",
    "    for i,v in zip(x.indices, x.data):\n",
    "        cd[cv[i]] = cls.coef_[0][i] * v\n",
    "        \n",
    "    return cd\n",
    "\n",
    "def prob(x):\n",
    "    \n",
    "    z = intercept\n",
    "    for i,v in zip(x.indices, x.data):\n",
    "        z += cls.coef_[0][i] * v\n",
    "        \n",
    "    pos = 1 / (1 + math.exp(-z))\n",
    "    neg = 1 - pos\n",
    "    \n",
    "    return [neg,pos]\n",
    "\n",
    "def pie_chart(probs):\n",
    "    \n",
    "    mpl.rcParams['font.size'] = 20\n",
    "    \n",
    "    fig = plt.figure(figsize=(5,5))\n",
    "    labels = [\"Negative\", \"Positive\"]\n",
    "    colors = ['red', 'blue']\n",
    "    explode = (0.1, 0)\n",
    "    plt.pie(probs, labels=labels, colors=colors,shadow=True, explode=explode,\n",
    "            autopct='%1.1f%%', startangle=-30)\n",
    "    plt.axis('equal')\n",
    "    plt.show()\n",
    "    \n",
    "    return fig\n",
    "\n",
    "def generate_graphs(sentence):\n",
    "    \n",
    "    figs = []\n",
    "    x,y = clean(sentence)\n",
    "    \n",
    "    x_vec = sentiment.count_vect.transform([sentence])\n",
    "    probs = prob(x_vec)\n",
    "    f3 = pie_chart(probs)\n",
    "    figs.append(f3)\n",
    "    \n",
    "    cd = coef_list(x)\n",
    "    f1 = bar_chart(cd, 'Words with Coefficients', 'Coefficient')\n",
    "    figs.append(f1)\n",
    "\n",
    "    \n",
    "    cd = tfidf_x_coef(x_vec)\n",
    "    f2 = bar_chart(cd, 'Words with Tfidfs * Coefficients', 'Tfidf * Coef')\n",
    "    figs.append(f2)\n",
    "\n",
    "    \n",
    "    \n",
    "    return figs"
   ]
  },
  {
   "cell_type": "markdown",
   "metadata": {},
   "source": [
    "### Usage"
   ]
  },
  {
   "cell_type": "markdown",
   "metadata": {},
   "source": [
    "good example:\n",
    "    TP:  sentiment.train_data[199]\n",
    "    "
   ]
  },
  {
   "cell_type": "code",
   "execution_count": 218,
   "metadata": {},
   "outputs": [],
   "source": [
    "sentence = sentiment.train_data[288]"
   ]
  },
  {
   "cell_type": "code",
   "execution_count": 219,
   "metadata": {},
   "outputs": [
    {
     "data": {
      "text/plain": [
       "'What? Last day of Tavern Chips? Corporate Decision?  BIG MISTAKE!  HUGE! UNBELIEVABLE!  Replacement is tater tots? Come on. Really?All Hickory Taverns are awesome!  We love the'"
      ]
     },
     "execution_count": 219,
     "metadata": {},
     "output_type": "execute_result"
    }
   ],
   "source": [
    "sentence"
   ]
  },
  {
   "cell_type": "code",
   "execution_count": 221,
   "metadata": {},
   "outputs": [
    {
     "data": {
      "text/plain": [
       "1"
      ]
     },
     "execution_count": 221,
     "metadata": {},
     "output_type": "execute_result"
    }
   ],
   "source": [
    "sentiment.trainy[288]"
   ]
  },
  {
   "cell_type": "code",
   "execution_count": 225,
   "metadata": {
    "scrolled": true
   },
   "outputs": [
    {
     "name": "stdout",
     "output_type": "stream",
     "text": [
      "Prediction: POSITIVE\n"
     ]
    }
   ],
   "source": [
    "predict(sentence)"
   ]
  },
  {
   "cell_type": "code",
   "execution_count": 223,
   "metadata": {},
   "outputs": [
    {
     "name": "stdout",
     "output_type": "stream",
     "text": [
      "Words being ignored due to not appearing in training set are: \n",
      "None\n",
      "\n",
      "Words being ignored due to mindf (unfrequent in corpus) are: \n",
      "['replacement', 'tater', 'tots', 'hickory', 'taverns']\n",
      "\n",
      "Words being ignored due to maxdf (too frequent in corpus) are: \n",
      "['of', 'is', 'the']\n",
      "\n",
      "Words being ignored due to our algorithm are: \n",
      "['what', 'last', 'day', 'of', 'chips', 'decision', 'big', 'replacement', 'is', 'come', 'on', 'really', 'all', 'are', 'we', 'the']\n",
      "\n",
      "Remaining words in the vec:\n",
      "['tavern', 'corporate', 'mistake', 'huge', 'unbelievable', 'awesome', 'love']\n"
     ]
    },
    {
     "data": {
      "text/html": [
       "<style  type=\"text/css\" >\n",
       "    #T_6f30f6a8_8276_11e9_a281_b4ae2bc417aarow0_col1 {\n",
       "            color:  green;\n",
       "            : ;\n",
       "            : ;\n",
       "        }    #T_6f30f6a8_8276_11e9_a281_b4ae2bc417aarow0_col4 {\n",
       "            color:  green;\n",
       "            : ;\n",
       "            : ;\n",
       "        }    #T_6f30f6a8_8276_11e9_a281_b4ae2bc417aarow1_col1 {\n",
       "            color:  red;\n",
       "            : ;\n",
       "            background-color:  yellow;\n",
       "        }    #T_6f30f6a8_8276_11e9_a281_b4ae2bc417aarow1_col4 {\n",
       "            color:  red;\n",
       "            : ;\n",
       "            background-color:  yellow;\n",
       "        }    #T_6f30f6a8_8276_11e9_a281_b4ae2bc417aarow2_col1 {\n",
       "            color:  red;\n",
       "            : ;\n",
       "            : ;\n",
       "        }    #T_6f30f6a8_8276_11e9_a281_b4ae2bc417aarow2_col4 {\n",
       "            color:  red;\n",
       "            : ;\n",
       "            : ;\n",
       "        }    #T_6f30f6a8_8276_11e9_a281_b4ae2bc417aarow3_col1 {\n",
       "            color:  green;\n",
       "            : ;\n",
       "            : ;\n",
       "        }    #T_6f30f6a8_8276_11e9_a281_b4ae2bc417aarow3_col4 {\n",
       "            color:  green;\n",
       "            : ;\n",
       "            : ;\n",
       "        }    #T_6f30f6a8_8276_11e9_a281_b4ae2bc417aarow4_col1 {\n",
       "            color:  green;\n",
       "            : ;\n",
       "            : ;\n",
       "        }    #T_6f30f6a8_8276_11e9_a281_b4ae2bc417aarow4_col4 {\n",
       "            color:  green;\n",
       "            : ;\n",
       "            : ;\n",
       "        }    #T_6f30f6a8_8276_11e9_a281_b4ae2bc417aarow5_col1 {\n",
       "            color:  green;\n",
       "            background-color:  lightgreen;\n",
       "            : ;\n",
       "        }    #T_6f30f6a8_8276_11e9_a281_b4ae2bc417aarow5_col4 {\n",
       "            color:  green;\n",
       "            background-color:  lightgreen;\n",
       "            : ;\n",
       "        }    #T_6f30f6a8_8276_11e9_a281_b4ae2bc417aarow6_col1 {\n",
       "            color:  green;\n",
       "            : ;\n",
       "            : ;\n",
       "        }    #T_6f30f6a8_8276_11e9_a281_b4ae2bc417aarow6_col4 {\n",
       "            color:  green;\n",
       "            : ;\n",
       "            : ;\n",
       "        }</style>  \n",
       "<table id=\"T_6f30f6a8_8276_11e9_a281_b4ae2bc417aa\" > \n",
       "<thead>    <tr> \n",
       "        <th class=\"blank level0\" ></th> \n",
       "        <th class=\"col_heading level0 col0\" >Feature</th> \n",
       "        <th class=\"col_heading level0 col1\" >Contribution</th> \n",
       "        <th class=\"col_heading level0 col2\" >Original Count</th> \n",
       "        <th class=\"col_heading level0 col3\" >tfidf val</th> \n",
       "        <th class=\"col_heading level0 col4\" >Coef</th> \n",
       "        <th class=\"col_heading level0 col5\" >in POSITIVE</th> \n",
       "        <th class=\"col_heading level0 col6\" >in NEGATIVE</th> \n",
       "    </tr></thead> \n",
       "<tbody>    <tr> \n",
       "        <th id=\"T_6f30f6a8_8276_11e9_a281_b4ae2bc417aalevel0_row0\" class=\"row_heading level0 row0\" >0</th> \n",
       "        <td id=\"T_6f30f6a8_8276_11e9_a281_b4ae2bc417aarow0_col0\" class=\"data row0 col0\" >tavern</td> \n",
       "        <td id=\"T_6f30f6a8_8276_11e9_a281_b4ae2bc417aarow0_col1\" class=\"data row0 col1\" >0.300695</td> \n",
       "        <td id=\"T_6f30f6a8_8276_11e9_a281_b4ae2bc417aarow0_col2\" class=\"data row0 col2\" >1</td> \n",
       "        <td id=\"T_6f30f6a8_8276_11e9_a281_b4ae2bc417aarow0_col3\" class=\"data row0 col3\" >0.460568</td> \n",
       "        <td id=\"T_6f30f6a8_8276_11e9_a281_b4ae2bc417aarow0_col4\" class=\"data row0 col4\" >0.652878</td> \n",
       "        <td id=\"T_6f30f6a8_8276_11e9_a281_b4ae2bc417aarow0_col5\" class=\"data row0 col5\" >3</td> \n",
       "        <td id=\"T_6f30f6a8_8276_11e9_a281_b4ae2bc417aarow0_col6\" class=\"data row0 col6\" >1</td> \n",
       "    </tr>    <tr> \n",
       "        <th id=\"T_6f30f6a8_8276_11e9_a281_b4ae2bc417aalevel0_row1\" class=\"row_heading level0 row1\" >1</th> \n",
       "        <td id=\"T_6f30f6a8_8276_11e9_a281_b4ae2bc417aarow1_col0\" class=\"data row1 col0\" >corporate</td> \n",
       "        <td id=\"T_6f30f6a8_8276_11e9_a281_b4ae2bc417aarow1_col1\" class=\"data row1 col1\" >-0.808794</td> \n",
       "        <td id=\"T_6f30f6a8_8276_11e9_a281_b4ae2bc417aarow1_col2\" class=\"data row1 col2\" >1</td> \n",
       "        <td id=\"T_6f30f6a8_8276_11e9_a281_b4ae2bc417aarow1_col3\" class=\"data row1 col3\" >0.419748</td> \n",
       "        <td id=\"T_6f30f6a8_8276_11e9_a281_b4ae2bc417aarow1_col4\" class=\"data row1 col4\" >-1.92686</td> \n",
       "        <td id=\"T_6f30f6a8_8276_11e9_a281_b4ae2bc417aarow1_col5\" class=\"data row1 col5\" >1</td> \n",
       "        <td id=\"T_6f30f6a8_8276_11e9_a281_b4ae2bc417aarow1_col6\" class=\"data row1 col6\" >8</td> \n",
       "    </tr>    <tr> \n",
       "        <th id=\"T_6f30f6a8_8276_11e9_a281_b4ae2bc417aalevel0_row2\" class=\"row_heading level0 row2\" >2</th> \n",
       "        <td id=\"T_6f30f6a8_8276_11e9_a281_b4ae2bc417aarow2_col0\" class=\"data row2 col0\" >mistake</td> \n",
       "        <td id=\"T_6f30f6a8_8276_11e9_a281_b4ae2bc417aarow2_col1\" class=\"data row2 col1\" >-0.603085</td> \n",
       "        <td id=\"T_6f30f6a8_8276_11e9_a281_b4ae2bc417aarow2_col2\" class=\"data row2 col2\" >1</td> \n",
       "        <td id=\"T_6f30f6a8_8276_11e9_a281_b4ae2bc417aarow2_col3\" class=\"data row2 col3\" >0.419748</td> \n",
       "        <td id=\"T_6f30f6a8_8276_11e9_a281_b4ae2bc417aarow2_col4\" class=\"data row2 col4\" >-1.43678</td> \n",
       "        <td id=\"T_6f30f6a8_8276_11e9_a281_b4ae2bc417aarow2_col5\" class=\"data row2 col5\" >3</td> \n",
       "        <td id=\"T_6f30f6a8_8276_11e9_a281_b4ae2bc417aarow2_col6\" class=\"data row2 col6\" >6</td> \n",
       "    </tr>    <tr> \n",
       "        <th id=\"T_6f30f6a8_8276_11e9_a281_b4ae2bc417aalevel0_row3\" class=\"row_heading level0 row3\" >3</th> \n",
       "        <td id=\"T_6f30f6a8_8276_11e9_a281_b4ae2bc417aarow3_col0\" class=\"data row3 col0\" >huge</td> \n",
       "        <td id=\"T_6f30f6a8_8276_11e9_a281_b4ae2bc417aarow3_col1\" class=\"data row3 col1\" >0.334537</td> \n",
       "        <td id=\"T_6f30f6a8_8276_11e9_a281_b4ae2bc417aarow3_col2\" class=\"data row3 col2\" >1</td> \n",
       "        <td id=\"T_6f30f6a8_8276_11e9_a281_b4ae2bc417aarow3_col3\" class=\"data row3 col3\" >0.306858</td> \n",
       "        <td id=\"T_6f30f6a8_8276_11e9_a281_b4ae2bc417aarow3_col4\" class=\"data row3 col4\" >1.0902</td> \n",
       "        <td id=\"T_6f30f6a8_8276_11e9_a281_b4ae2bc417aarow3_col5\" class=\"data row3 col5\" >43</td> \n",
       "        <td id=\"T_6f30f6a8_8276_11e9_a281_b4ae2bc417aarow3_col6\" class=\"data row3 col6\" >24</td> \n",
       "    </tr>    <tr> \n",
       "        <th id=\"T_6f30f6a8_8276_11e9_a281_b4ae2bc417aalevel0_row4\" class=\"row_heading level0 row4\" >4</th> \n",
       "        <td id=\"T_6f30f6a8_8276_11e9_a281_b4ae2bc417aarow4_col0\" class=\"data row4 col0\" >unbelievable</td> \n",
       "        <td id=\"T_6f30f6a8_8276_11e9_a281_b4ae2bc417aarow4_col1\" class=\"data row4 col1\" >0.231096</td> \n",
       "        <td id=\"T_6f30f6a8_8276_11e9_a281_b4ae2bc417aarow4_col2\" class=\"data row4 col2\" >1</td> \n",
       "        <td id=\"T_6f30f6a8_8276_11e9_a281_b4ae2bc417aarow4_col3\" class=\"data row4 col3\" >0.473709</td> \n",
       "        <td id=\"T_6f30f6a8_8276_11e9_a281_b4ae2bc417aarow4_col4\" class=\"data row4 col4\" >0.487843</td> \n",
       "        <td id=\"T_6f30f6a8_8276_11e9_a281_b4ae2bc417aarow4_col5\" class=\"data row4 col5\" >2</td> \n",
       "        <td id=\"T_6f30f6a8_8276_11e9_a281_b4ae2bc417aarow4_col6\" class=\"data row4 col6\" >1</td> \n",
       "    </tr>    <tr> \n",
       "        <th id=\"T_6f30f6a8_8276_11e9_a281_b4ae2bc417aalevel0_row5\" class=\"row_heading level0 row5\" >5</th> \n",
       "        <td id=\"T_6f30f6a8_8276_11e9_a281_b4ae2bc417aarow5_col0\" class=\"data row5 col0\" >awesome</td> \n",
       "        <td id=\"T_6f30f6a8_8276_11e9_a281_b4ae2bc417aarow5_col1\" class=\"data row5 col1\" >1.014</td> \n",
       "        <td id=\"T_6f30f6a8_8276_11e9_a281_b4ae2bc417aarow5_col2\" class=\"data row5 col2\" >1</td> \n",
       "        <td id=\"T_6f30f6a8_8276_11e9_a281_b4ae2bc417aarow5_col3\" class=\"data row5 col3\" >0.264331</td> \n",
       "        <td id=\"T_6f30f6a8_8276_11e9_a281_b4ae2bc417aarow5_col4\" class=\"data row5 col4\" >3.83611</td> \n",
       "        <td id=\"T_6f30f6a8_8276_11e9_a281_b4ae2bc417aarow5_col5\" class=\"data row5 col5\" >124</td> \n",
       "        <td id=\"T_6f30f6a8_8276_11e9_a281_b4ae2bc417aarow5_col6\" class=\"data row5 col6\" >15</td> \n",
       "    </tr>    <tr> \n",
       "        <th id=\"T_6f30f6a8_8276_11e9_a281_b4ae2bc417aalevel0_row6\" class=\"row_heading level0 row6\" >6</th> \n",
       "        <td id=\"T_6f30f6a8_8276_11e9_a281_b4ae2bc417aarow6_col0\" class=\"data row6 col0\" >love</td> \n",
       "        <td id=\"T_6f30f6a8_8276_11e9_a281_b4ae2bc417aarow6_col1\" class=\"data row6 col1\" >0.735123</td> \n",
       "        <td id=\"T_6f30f6a8_8276_11e9_a281_b4ae2bc417aarow6_col2\" class=\"data row6 col2\" >1</td> \n",
       "        <td id=\"T_6f30f6a8_8276_11e9_a281_b4ae2bc417aarow6_col3\" class=\"data row6 col3\" >0.216949</td> \n",
       "        <td id=\"T_6f30f6a8_8276_11e9_a281_b4ae2bc417aarow6_col4\" class=\"data row6 col4\" >3.38845</td> \n",
       "        <td id=\"T_6f30f6a8_8276_11e9_a281_b4ae2bc417aarow6_col5\" class=\"data row6 col5\" >241</td> \n",
       "        <td id=\"T_6f30f6a8_8276_11e9_a281_b4ae2bc417aarow6_col6\" class=\"data row6 col6\" >71</td> \n",
       "    </tr></tbody> \n",
       "</table> "
      ],
      "text/plain": [
       "<pandas.io.formats.style.Styler at 0x7f9cd83506a0>"
      ]
     },
     "execution_count": 223,
     "metadata": {},
     "output_type": "execute_result"
    }
   ],
   "source": [
    "df = analysis(sentence)\n",
    "df"
   ]
  },
  {
   "cell_type": "code",
   "execution_count": 231,
   "metadata": {},
   "outputs": [
    {
     "data": {
      "image/png": "[encoded data removed]",
      "text/plain": [
       "<Figure size 360x360 with 1 Axes>"
      ]
     },
     "metadata": {},
     "output_type": "display_data"
    },
    {
     "data": {
      "image/png": "[encoded data removed]",
      "text/plain": [
       "<Figure size 720x360 with 1 Axes>"
      ]
     },
     "metadata": {
      "needs_background": "light"
     },
     "output_type": "display_data"
    },
    {
     "data": {
      "image/png": "[encoded data removed]",
      "text/plain": [
       "<Figure size 720x360 with 1 Axes>"
      ]
     },
     "metadata": {
      "needs_background": "light"
     },
     "output_type": "display_data"
    }
   ],
   "source": [
    "figs = generate_graphs(sentence)"
   ]
  },
  {
   "cell_type": "code",
   "execution_count": 217,
   "metadata": {},
   "outputs": [
    {
     "data": {
      "text/plain": [
       "[<Figure size 1080x360 with 1 Axes>,\n",
       " <Figure size 1080x360 with 1 Axes>,\n",
       " <Figure size 504x504 with 1 Axes>]"
      ]
     },
     "execution_count": 217,
     "metadata": {},
     "output_type": "execute_result"
    }
   ],
   "source": [
    "figs"
   ]
  },
  {
   "cell_type": "code",
   "execution_count": null,
   "metadata": {},
   "outputs": [],
   "source": []
  },
  {
   "cell_type": "markdown",
   "metadata": {},
   "source": [
    "### Testing Space"
   ]
  },
  {
   "cell_type": "code",
   "execution_count": 108,
   "metadata": {},
   "outputs": [],
   "source": [
    "sentiment.cv = CountVectorizer(min_df = 3)"
   ]
  },
  {
   "cell_type": "code",
   "execution_count": 106,
   "metadata": {},
   "outputs": [
    {
     "data": {
      "text/plain": [
       "9882"
      ]
     },
     "execution_count": 106,
     "metadata": {},
     "output_type": "execute_result"
    }
   ],
   "source": [
    "len(sentiment.cv.vocabulary_)"
   ]
  },
  {
   "cell_type": "code",
   "execution_count": 107,
   "metadata": {},
   "outputs": [
    {
     "data": {
      "text/plain": [
       "set()"
      ]
     },
     "execution_count": 107,
     "metadata": {},
     "output_type": "execute_result"
    }
   ],
   "source": [
    "sentiment.cv.stop_words_"
   ]
  },
  {
   "cell_type": "code",
   "execution_count": 201,
   "metadata": {},
   "outputs": [
    {
     "ename": "ImportError",
     "evalue": "No module named 'seaborn'",
     "output_type": "error",
     "traceback": [
      "\u001b[0;31m---------------------------------------------------------------------------\u001b[0m",
      "\u001b[0;31mImportError\u001b[0m                               Traceback (most recent call last)",
      "\u001b[0;32m<ipython-input-201-2b514574553b>\u001b[0m in \u001b[0;36m<module>\u001b[0;34m\u001b[0m\n\u001b[0;32m----> 1\u001b[0;31m \u001b[0;32mimport\u001b[0m \u001b[0mseaborn\u001b[0m \u001b[0;32mas\u001b[0m \u001b[0msns\u001b[0m\u001b[0;34m\u001b[0m\u001b[0m\n\u001b[0m\u001b[1;32m      2\u001b[0m \u001b[0;34m\u001b[0m\u001b[0m\n\u001b[1;32m      3\u001b[0m \u001b[0mcm\u001b[0m \u001b[0;34m=\u001b[0m \u001b[0msns\u001b[0m\u001b[0;34m.\u001b[0m\u001b[0mlight_palette\u001b[0m\u001b[0;34m(\u001b[0m\u001b[0;34m\"green\"\u001b[0m\u001b[0;34m,\u001b[0m \u001b[0mas_cmap\u001b[0m\u001b[0;34m=\u001b[0m\u001b[0;32mTrue\u001b[0m\u001b[0;34m)\u001b[0m\u001b[0;34m\u001b[0m\u001b[0m\n",
      "\u001b[0;31mImportError\u001b[0m: No module named 'seaborn'"
     ]
    }
   ],
   "source": [
    "import seaborn as sns\n",
    "\n",
    "cm = sns.light_palette(\"green\", as_cmap=True)"
   ]
  },
  {
   "cell_type": "code",
   "execution_count": 202,
   "metadata": {},
   "outputs": [
    {
     "name": "stdout",
     "output_type": "stream",
     "text": [
      "Requirement already satisfied: seaborn in /home/jiajinliang/anaconda2/lib/python2.7/site-packages (0.8.1)\n",
      "Requirement already satisfied: numpy in /home/jiajinliang/anaconda2/lib/python2.7/site-packages (from seaborn) (1.16.0)\n",
      "Requirement already satisfied: scipy in /home/jiajinliang/anaconda2/lib/python2.7/site-packages (from seaborn) (1.1.0)\n",
      "Requirement already satisfied: matplotlib in /home/jiajinliang/anaconda2/lib/python2.7/site-packages (from seaborn) (2.2.3)\n",
      "Requirement already satisfied: pandas in /home/jiajinliang/anaconda2/lib/python2.7/site-packages (from seaborn) (0.23.0)\n",
      "Requirement already satisfied: cycler>=0.10 in /home/jiajinliang/anaconda2/lib/python2.7/site-packages (from matplotlib->seaborn) (0.10.0)\n",
      "Requirement already satisfied: pyparsing!=2.0.4,!=2.1.2,!=2.1.6,>=2.0.1 in /home/jiajinliang/anaconda2/lib/python2.7/site-packages (from matplotlib->seaborn) (2.2.0)\n",
      "Requirement already satisfied: python-dateutil>=2.1 in /home/jiajinliang/anaconda2/lib/python2.7/site-packages (from matplotlib->seaborn) (2.7.3)\n",
      "Requirement already satisfied: pytz in /home/jiajinliang/anaconda2/lib/python2.7/site-packages (from matplotlib->seaborn) (2018.4)\n",
      "Requirement already satisfied: six>=1.10 in /home/jiajinliang/anaconda2/lib/python2.7/site-packages (from matplotlib->seaborn) (1.11.0)\n",
      "Requirement already satisfied: kiwisolver>=1.0.1 in /home/jiajinliang/anaconda2/lib/python2.7/site-packages (from matplotlib->seaborn) (1.0.1)\n",
      "Requirement already satisfied: backports.functools_lru_cache in /home/jiajinliang/anaconda2/lib/python2.7/site-packages (from matplotlib->seaborn) (1.5)\n",
      "Requirement already satisfied: subprocess32 in /home/jiajinliang/anaconda2/lib/python2.7/site-packages (from matplotlib->seaborn) (3.5.0)\n",
      "Requirement already satisfied: setuptools in /home/jiajinliang/anaconda2/lib/python2.7/site-packages (from kiwisolver>=1.0.1->matplotlib->seaborn) (39.1.0)\n",
      "\u001b[33mYou are using pip version 18.1, however version 19.1.1 is available.\n",
      "You should consider upgrading via the 'pip install --upgrade pip' command.\u001b[0m\n"
     ]
    }
   ],
   "source": [
    "!pip install seaborn"
   ]
  },
  {
   "cell_type": "code",
   "execution_count": null,
   "metadata": {},
   "outputs": [],
   "source": []
  }
 ],
 "metadata": {
  "kernelspec": {
   "display_name": "Python 3",
   "language": "python",
   "name": "python3"
  },
  "language_info": {
   "codemirror_mode": {
    "name": "ipython",
    "version": 3
   },
   "file_extension": ".py",
   "mimetype": "text/x-python",
   "name": "python",
   "nbconvert_exporter": "python",
   "pygments_lexer": "ipython3",
   "version": "3.5.2"
  }
 },
 "nbformat": 4,
 "nbformat_minor": 2
}
