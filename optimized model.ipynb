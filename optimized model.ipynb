{
 "cells": [
  {
   "cell_type": "code",
   "execution_count": 4,
   "metadata": {},
   "outputs": [],
   "source": [
    "import sentiment as sentimentinterface\n",
    "import classify\n",
    "import numpy as np\n",
    "import matplotlib.pyplot as plt\n",
    "from mpl_toolkits.mplot3d import Axes3D\n",
    "plt.switch_backend('agg')\n",
    "import matplotlib.ticker as ticker\n",
    "%matplotlib inline\n",
    "\n",
    "import importlib"
   ]
  },
  {
   "cell_type": "code",
   "execution_count": 5,
   "metadata": {},
   "outputs": [
    {
     "name": "stdout",
     "output_type": "stream",
     "text": [
      "Reading data\n",
      "-- train data\n",
      "sentiment/train.tsv\n",
      "4582\n",
      "-- dev data\n",
      "sentiment/dev.tsv\n",
      "458\n",
      "-- transforming data and labels\n"
     ]
    }
   ],
   "source": [
    "importlib.reload(sentimentinterface)\n",
    "print(\"Reading data\")\n",
    "tarfname = \"data/sentiment.tar.gz\"\n",
    "sentiment = sentimentinterface.read_data(tarfname)"
   ]
  },
  {
   "cell_type": "code",
   "execution_count": 6,
   "metadata": {},
   "outputs": [
    {
     "name": "stdout",
     "output_type": "stream",
     "text": [
      "  Accuracy on dev is: 0.8187772925764192\n"
     ]
    },
    {
     "data": {
      "text/plain": [
       "0.8187772925764192"
      ]
     },
     "execution_count": 6,
     "metadata": {},
     "output_type": "execute_result"
    }
   ],
   "source": [
    "sentiment.stop_words = sentimentinterface.generate_stop_words(sentiment, diff = 0.4)\n",
    "\n",
    "from sklearn.feature_extraction.text import CountVectorizer\n",
    "\n",
    "sentiment.cv = CountVectorizer(min_df = 3)\n",
    "sentiment.cv.fit_transform(sentiment.train_data)\n",
    "sentiment.mindf_stop_words = sentiment.cv.stop_words_\n",
    "sentiment.cv = CountVectorizer(max_df = 0.2)\n",
    "sentiment.cv.fit_transform(sentiment.train_data)\n",
    "sentiment.maxdf_stop_words = sentiment.cv.stop_words_\n",
    "sentiment.cv = CountVectorizer()\n",
    "sentiment.cv.fit_transform(sentiment.train_data)\n",
    "sentiment.training_set_vocabulary = sentiment.cv.vocabulary_\n",
    "\n",
    "sentimentinterface.vectorize_data(sentiment, stop_words = sentiment.stop_words, max_df = 0.2, min_df = 3)\n",
    "cls = classify.train_classifier(sentiment.trainX, sentiment.trainy, C = 3.7)\n",
    "\n",
    "classify.evaluate(sentiment.devX, sentiment.devy, cls, 'dev')\n",
    "# print(\"\\nReading unlabeled data\")\n",
    "# unlabeled = sentimentinterface.read_unlabeled(tarfname, sentiment)\n",
    "# print(\"Writing predictions to a file\")\n",
    "# sentimentinterface.write_pred_kaggle_file(unlabeled, cls, \"data/sentiment-pred.csv\", sentiment)"
   ]
  },
  {
   "cell_type": "markdown",
   "metadata": {},
   "source": [
    "### Now cls is the optimized model"
   ]
  },
  {
   "cell_type": "code",
   "execution_count": 7,
   "metadata": {},
   "outputs": [],
   "source": [
    "sentence = 'i hate this place, it tastes like minwoo'"
   ]
  },
  {
   "cell_type": "code",
   "execution_count": 8,
   "metadata": {},
   "outputs": [],
   "source": [
    "def vectorize_sentence(sentence, count_vect = sentiment.count_vect):\n",
    "    return count_vect.transform([sentence])"
   ]
  },
  {
   "cell_type": "code",
   "execution_count": 9,
   "metadata": {},
   "outputs": [],
   "source": [
    "veccc = vectorize_sentence(sentence)"
   ]
  },
  {
   "cell_type": "code",
   "execution_count": 10,
   "metadata": {},
   "outputs": [
    {
     "name": "stdout",
     "output_type": "stream",
     "text": [
      "  (0, 850)\t1.0\n"
     ]
    }
   ],
   "source": [
    "print(veccc)"
   ]
  },
  {
   "cell_type": "code",
   "execution_count": 11,
   "metadata": {},
   "outputs": [
    {
     "data": {
      "text/plain": [
       "'hate'"
      ]
     },
     "execution_count": 11,
     "metadata": {},
     "output_type": "execute_result"
    }
   ],
   "source": [
    "sentiment.count_vect.get_feature_names()[850]"
   ]
  },
  {
   "cell_type": "code",
   "execution_count": 27,
   "metadata": {},
   "outputs": [],
   "source": [
    "def predict(sentence, cls = cls):\n",
    "    sentence_vect = vectorize_sentence(sentence)\n",
    "    result = cls.predict(sentence_vect)\n",
    "    if result[0] == 0:\n",
    "        res = \"Prediction: NEGATIVE\"\n",
    "    else:\n",
    "        res = \"Prediction: POSITIVE\"\n",
    "    print(res)\n",
    "    return res"
   ]
  },
  {
   "cell_type": "code",
   "execution_count": 13,
   "metadata": {},
   "outputs": [
    {
     "name": "stdout",
     "output_type": "stream",
     "text": [
      "Prediction: NEGATIVE\n"
     ]
    }
   ],
   "source": [
    "sentence = \"Went last night for the first time with my boyfriend. Let me start off by saying I'm vegetarian, but my boyfriend is not. I ordered the chicken v mushroom, it\"\n",
    "print(predict(sentence))"
   ]
  },
  {
   "cell_type": "markdown",
   "metadata": {},
   "source": [
    "### Now explain why it predicted 0"
   ]
  },
  {
   "cell_type": "markdown",
   "metadata": {},
   "source": [
    "#### clean function"
   ]
  },
  {
   "cell_type": "code",
   "execution_count": 14,
   "metadata": {},
   "outputs": [],
   "source": [
    "def clean(s):\n",
    "    from string import punctuation\n",
    "    s_new = []\n",
    "    s_ignored = []\n",
    "    res = []\n",
    "    for c in s:\n",
    "        if c not in punctuation:\n",
    "            s_new.append(c.lower())\n",
    "        else:\n",
    "            s_new.append(' ')\n",
    "            \n",
    "    s = ''.join(c for c in s_new)\n",
    "    #s = [''.join(c for c in s if c not in punctuation)][0]\n",
    "\n",
    "    l = s.split()\n",
    "\n",
    "    for w in l:\n",
    "        if w in sentiment.count_vect.vocabulary_:\n",
    "            if w not in res:\n",
    "                res.append(w)\n",
    "        else:\n",
    "            s_ignored.append(w)\n",
    "#     l = [w for w in l if w in sentiment.count_vect.vocabulary_]\n",
    "\n",
    "    return res, s_ignored"
   ]
  },
  {
   "cell_type": "markdown",
   "metadata": {},
   "source": [
    "#### find stop_words"
   ]
  },
  {
   "cell_type": "code",
   "execution_count": 43,
   "metadata": {},
   "outputs": [],
   "source": [
    "def find_stop_words(s_ignored):\n",
    "#     sentence_vect = clean(sentence)\n",
    "    unseen = []\n",
    "    maxdf = []\n",
    "    mindf = []\n",
    "    oliver_algorithm = []\n",
    "    for w in s_ignored:\n",
    "        if w not in sentiment.training_set_vocabulary:\n",
    "            unseen.append(w)\n",
    "        if w in sentiment.maxdf_stop_words:\n",
    "            maxdf.append(w)\n",
    "        if w in sentiment.mindf_stop_words:\n",
    "            mindf.append(w)\n",
    "        if w in sentiment.stop_words:\n",
    "            oliver_algorithm.append(w)\n",
    "            \n",
    "#     print(\"Words being ignored due to not appearing in training set are: \")\n",
    "    res = \"Words being ignored due to not appearing in training set are: \\n\"\n",
    "    if len(unseen) == 0:\n",
    "#         print(\"None\\n\")\n",
    "        res += \"None\\n\"\n",
    "    else:\n",
    "#         print(unseen)\n",
    "#         print('')\n",
    "        res += '['\n",
    "        for w in unseen:\n",
    "            if w == unseen[-1]:\n",
    "                res += w\n",
    "            else:\n",
    "                res += w + ', '\n",
    "        res += ']\\n'\n",
    "        \n",
    "#     print(\"Words being ignored due to mindf (unfrequent in corpus) are: \")\n",
    "    res += \"Words being ignored due to mindf (unfrequent in corpus) are: \\n\"\n",
    "    if len(mindf) == 0:\n",
    "#         print(\"None\\n\")\n",
    "        res += \"None\\n\"\n",
    "    else:\n",
    "#         print(mindf)\n",
    "#         print('')\n",
    "        res += '['\n",
    "        for w in mindf:\n",
    "            if w == mindf[-1]:\n",
    "                res += w\n",
    "            else:\n",
    "                res += w + ', '\n",
    "        res += ']\\n'\n",
    "        \n",
    "#     print(\"Words being ignored due to maxdf (too frequent in corpus) are: \")\n",
    "    res += \"Words being ignored due to maxdf (too frequent in corpus) are: \\n\"\n",
    "    if len(maxdf) == 0:\n",
    "#         print(\"None\\n\")\n",
    "        res += \"None\\n\"\n",
    "    else:\n",
    "#         print(maxdf)\n",
    "#         print('')\n",
    "        res += '['\n",
    "        for w in maxdf:\n",
    "            if w == maxdf[-1]:\n",
    "                res += w\n",
    "            else:\n",
    "                res += w + ', '\n",
    "        res += ']\\n'\n",
    "        \n",
    "#     print(\"Words being ignored due to our algorithm are: \")\n",
    "    res += \"Words being ignored due to our algorithm are: \\n\"\n",
    "    if len(oliver_algorithm) == 0:\n",
    "#         print(\"None\\n\")\n",
    "        res += \"None\\n\"\n",
    "    else:\n",
    "#         print(oliver_algorithm)\n",
    "#         print('')\n",
    "        res += '['\n",
    "        for w in oliver_algorithm:\n",
    "            if w == oliver_algorithm[-1]:\n",
    "                res += w\n",
    "            else:\n",
    "                res += w + ', '\n",
    "        res += ']\\n'\n",
    "    return res\n"
   ]
  },
  {
   "cell_type": "markdown",
   "metadata": {},
   "source": [
    "#### find coef"
   ]
  },
  {
   "cell_type": "markdown",
   "metadata": {},
   "source": [
    "#### Explain the coef"
   ]
  },
  {
   "cell_type": "code",
   "execution_count": 30,
   "metadata": {},
   "outputs": [],
   "source": [
    "def explain_coef():\n",
    "    p_dict = {}\n",
    "    n_dict = {}\n",
    "    sentences = sentiment.count_vect.inverse_transform(sentiment.trainX)\n",
    "    for counter in range(0, len(sentiment.train_labels)):\n",
    "        if sentiment.train_labels[counter] == \"POSITIVE\":\n",
    "            for w in sentences[counter]:\n",
    "                if w in p_dict:\n",
    "                    p_dict[w] += 1\n",
    "                else:\n",
    "                    p_dict[w] = 1\n",
    "        else:\n",
    "            for w in sentences[counter]:\n",
    "                if w in n_dict:\n",
    "                    n_dict[w] += 1\n",
    "                else:\n",
    "                    n_dict[w] = 1\n",
    "    return p_dict, n_dict"
   ]
  },
  {
   "cell_type": "code",
   "execution_count": 29,
   "metadata": {},
   "outputs": [],
   "source": [
    "def find_coef(sentence_vect, tfidf_vect, stop_words = sentiment.stop_words, cls = cls, sentiment = sentiment):\n",
    "    p_dict,n_dict = explain_coef()\n",
    "    import pandas as pd\n",
    "#     sentence_vect = clean(sentence)\n",
    "    word_list = []\n",
    "    coef_list = []\n",
    "    num_p_list = []\n",
    "    num_n_list = []\n",
    "    tfidf_list = []\n",
    "    count_list = []\n",
    "    contribution_list = []\n",
    "    for word in sentence_vect:\n",
    "        if word in sentiment.count_vect.vocabulary_:\n",
    "#             print(word,\"\\'s coef:\\n\", cls.coef_[0][sentiment.count_vect.vocabulary_[word]])\n",
    "            word_list.append(word)\n",
    "            coef = cls.coef_[0][sentiment.count_vect.vocabulary_[word]]\n",
    "            coef_list.append(coef)\n",
    "            tfidf = tfidf_vect.toarray()[0][sentiment.count_vect.vocabulary_[word]]\n",
    "            tfidf_list.append(tfidf)\n",
    "            contribution_list.append(coef*tfidf)\n",
    "            vec = sentiment.cv.transform([sentence])\n",
    "            count_list.append(vec.toarray()[0][sentiment.training_set_vocabulary[word]])\n",
    "            if word in p_dict:\n",
    "                num_p = p_dict[word]\n",
    "            else:\n",
    "                num_p = 0\n",
    "            if word in n_dict:\n",
    "                num_n = n_dict[word]\n",
    "            else:\n",
    "                num_n = 0\n",
    "#             print(\"Number of \",word,\"in POSITIVE reviews: \",num_p,\"\\tNumber of \",word,\"in NEGATIVE reviews: \",num_n,\"\\n\")\n",
    "            num_p_list.append(num_p)\n",
    "            num_n_list.append(num_n)\n",
    "    dic = {'Feature':word_list, 'Coef':coef_list, 'in POSITIVE':num_p_list,\n",
    "          'in NEGATIVE':num_n_list, 'tfidf val':tfidf_list, 'Original Count':count_list,\n",
    "          'Contribution':contribution_list}\n",
    "    df = pd.DataFrame(dic)\n",
    "    df = df[['Feature','Contribution','Original Count','tfidf val','Coef','in POSITIVE','in NEGATIVE']]\n",
    "#     print(df)\n",
    "    return df"
   ]
  },
  {
   "cell_type": "code",
   "execution_count": 18,
   "metadata": {},
   "outputs": [],
   "source": [
    "def color_negative_red(val):\n",
    "    \"\"\"\n",
    "    Takes a scalar and returns a string with\n",
    "    the css property `'color: red'` for negative\n",
    "    strings, black otherwise.\n",
    "    \"\"\"\n",
    "    try:\n",
    "        if float(val) < 0:\n",
    "            color = 'red'\n",
    "        elif float(val) > 0:\n",
    "            color = 'green'\n",
    "        else:\n",
    "            color = 'black'\n",
    "#         color = 'red' if float(val) < 0 else 'black'\n",
    "    except ValueError:\n",
    "        color = 'black'\n",
    "\n",
    "    return 'color: %s' % color\n",
    "\n",
    "def highlight_max(s):\n",
    "    '''\n",
    "    highlight the maximum in a Series yellow.\n",
    "    '''\n",
    "    is_max = s == s.max()\n",
    "    return ['background-color: lightgreen' if v else '' for v in is_max]\n",
    "\n",
    "def highlight_min(s):\n",
    "    '''\n",
    "    highlight the maximum in a Series yellow.\n",
    "    '''\n",
    "    is_min = s == s.min()\n",
    "    return ['background-color: yellow' if v else '' for v in is_min]"
   ]
  },
  {
   "cell_type": "code",
   "execution_count": 39,
   "metadata": {},
   "outputs": [],
   "source": [
    "def analysis(sentence):\n",
    "    sentence_vect, s_ignored = clean(sentence)\n",
    "    tfidf_vect = sentiment.count_vect.transform([sentence])\n",
    "    res = find_stop_words(s_ignored)\n",
    "    res += \"Remaining words in the vec: \\n[\"\n",
    "    for w in sentence_vect:\n",
    "        if w == sentence_vect[-1]:\n",
    "            res += w\n",
    "        else:\n",
    "            res += w + ', '\n",
    "    res += ']\\n'\n",
    "    print(res)\n",
    "#     print(\"Remaining words in the vec:\")\n",
    "#     print(sentence_vect)\n",
    "    df = find_coef(sentence_vect, tfidf_vect)\n",
    "    df = df.style.applymap(color_negative_red, subset=['Coef','Contribution']).\\\n",
    "        apply(highlight_max, subset=['Coef','Contribution']).\\\n",
    "        apply(highlight_min, subset=['Coef','Contribution'])\n",
    "#     df = df.style.apply(highlight_max)\n",
    "    return df,res"
   ]
  },
  {
   "cell_type": "code",
   "execution_count": null,
   "metadata": {},
   "outputs": [],
   "source": []
  },
  {
   "cell_type": "markdown",
   "metadata": {},
   "source": [
    "### Visualization "
   ]
  },
  {
   "cell_type": "code",
   "execution_count": 20,
   "metadata": {},
   "outputs": [],
   "source": [
    "import copy\n",
    "import math\n",
    "import matplotlib as mpl\n",
    "\n",
    "# Logistic Regression Interception\n",
    "intercept = copy.deepcopy(cls.intercept_)[0]\n",
    "\n",
    "# Vectorizer vocaulary list (ordered)\n",
    "cv = sentiment.count_vect.vocabulary_\n",
    "cv = [(v,w) for w,v in cv.items()]\n",
    "cv.sort()\n",
    "cv = [x[1] for x in cv]\n",
    "\n",
    "def bar_chart(cd, title='',ylabel=''):\n",
    "    \n",
    "    words = [w for w,_ in cd.items()]\n",
    "    coefs = [cd[w] for w in words]\n",
    "    l = [x for x in zip(coefs, words)]\n",
    "    l.sort()\n",
    "    words = [w for c,w in l]\n",
    "    coefs = [c for c,w in l]\n",
    "\n",
    "    fig = plt.figure(figsize=(10,5))\n",
    "    colors = ['red' if c < 0 else 'blue' for c in coefs]\n",
    "    plt.bar(words, coefs, color=colors)\n",
    "    plt.xlabel('Word', fontsize=20)\n",
    "    plt.ylabel(ylabel, fontsize=20)\n",
    "    plt.xticks(fontsize=20, rotation=30)\n",
    "    plt.yticks(fontsize=15)\n",
    "    plt.title(title, fontsize = 30)\n",
    "    plt.show()\n",
    "    \n",
    "    return fig\n",
    "\n",
    "def coef_list(words):\n",
    "    d = {}\n",
    "    for w in words:\n",
    "        c = cls.coef_[0][sentiment.count_vect.vocabulary_[w]]\n",
    "        d[w] = c\n",
    "        \n",
    "    return d\n",
    "\n",
    "def tfidf_x_coef(x):\n",
    "    \n",
    "    cd = {}\n",
    "    for i,v in zip(x.indices, x.data):\n",
    "        cd[cv[i]] = cls.coef_[0][i] * v\n",
    "        \n",
    "    return cd\n",
    "\n",
    "def prob(x):\n",
    "    \n",
    "    z = intercept\n",
    "    for i,v in zip(x.indices, x.data):\n",
    "        z += cls.coef_[0][i] * v\n",
    "        \n",
    "    pos = 1 / (1 + math.exp(-z))\n",
    "    neg = 1 - pos\n",
    "    \n",
    "    return [neg,pos]\n",
    "\n",
    "def pie_chart(probs):\n",
    "    \n",
    "    mpl.rcParams['font.size'] = 20\n",
    "    \n",
    "    fig = plt.figure(figsize=(5,5))\n",
    "    labels = [\"Negative\", \"Positive\"]\n",
    "    colors = ['red', 'blue']\n",
    "    explode = (0.1, 0)\n",
    "    plt.pie(probs, labels=labels, colors=colors,shadow=True, explode=explode,\n",
    "            autopct='%1.1f%%', startangle=-30)\n",
    "    plt.axis('equal')\n",
    "    plt.show()\n",
    "    \n",
    "    return fig\n",
    "\n",
    "def generate_graphs(sentence):\n",
    "    \n",
    "    figs = []\n",
    "    x,y = clean(sentence)\n",
    "    \n",
    "    x_vec = sentiment.count_vect.transform([sentence])\n",
    "    probs = prob(x_vec)\n",
    "    f3 = pie_chart(probs)\n",
    "    figs.append(f3)\n",
    "    \n",
    "    cd = coef_list(x)\n",
    "    f1 = bar_chart(cd, 'Words with Coefficients', 'Coefficient')\n",
    "    figs.append(f1)\n",
    "\n",
    "    \n",
    "    cd = tfidf_x_coef(x_vec)\n",
    "    f2 = bar_chart(cd, 'Words with Tfidfs * Coefficients', 'Tfidf * Coef')\n",
    "    figs.append(f2)\n",
    "\n",
    "    \n",
    "    \n",
    "    return figs"
   ]
  },
  {
   "cell_type": "markdown",
   "metadata": {},
   "source": [
    "### Usage"
   ]
  },
  {
   "cell_type": "markdown",
   "metadata": {},
   "source": [
    "good example:\n",
    "    TN:  sentiment.train_data[199]\n",
    "    "
   ]
  },
  {
   "cell_type": "code",
   "execution_count": 45,
   "metadata": {},
   "outputs": [],
   "source": [
    "sentence = sentiment.train_data[697]"
   ]
  },
  {
   "cell_type": "code",
   "execution_count": 46,
   "metadata": {},
   "outputs": [
    {
     "data": {
      "text/plain": [
       "\"Pretty darn good. Went here for a pre-laser tag lunch and beer. First off, the server had an excellently groomed 'tache. Nice 'tache bro. Very nice staff who engaged my\""
      ]
     },
     "execution_count": 46,
     "metadata": {},
     "output_type": "execute_result"
    }
   ],
   "source": [
    "sentence"
   ]
  },
  {
   "cell_type": "code",
   "execution_count": 48,
   "metadata": {},
   "outputs": [
    {
     "data": {
      "text/plain": [
       "1"
      ]
     },
     "execution_count": 48,
     "metadata": {},
     "output_type": "execute_result"
    }
   ],
   "source": [
    "sentiment.trainy[697]"
   ]
  },
  {
   "cell_type": "code",
   "execution_count": 49,
   "metadata": {
    "scrolled": true
   },
   "outputs": [
    {
     "name": "stdout",
     "output_type": "stream",
     "text": [
      "Prediction: POSITIVE\n"
     ]
    },
    {
     "data": {
      "text/plain": [
       "'Prediction: POSITIVE'"
      ]
     },
     "execution_count": 49,
     "metadata": {},
     "output_type": "execute_result"
    }
   ],
   "source": [
    "predict(sentence)"
   ]
  },
  {
   "cell_type": "code",
   "execution_count": 50,
   "metadata": {},
   "outputs": [
    {
     "name": "stdout",
     "output_type": "stream",
     "text": [
      "Words being ignored due to not appearing in training set are: \n",
      "[a]\n",
      "Words being ignored due to mindf (unfrequent in corpus) are: \n",
      "[excellently, groomed, tache, tache, bro, engaged]\n",
      "Words being ignored due to maxdf (too frequent in corpus) are: \n",
      "[for, and, the, my]\n",
      "Words being ignored due to our algorithm are: \n",
      "[pretty, good, here, for, pre, lunch, and, beer, first, off, the, server, had, an, very, who, my]\n",
      "Remaining words in the vec: \n",
      "[darn, went, laser, tag, nice, staff]\n",
      "\n"
     ]
    },
    {
     "data": {
      "text/html": [
       "<style  type=\"text/css\" >\n",
       "    #T_453bd3d4_8340_11e9_a502_0a0027000011row0_col1 {\n",
       "            color:  red;\n",
       "            : ;\n",
       "            : ;\n",
       "        }    #T_453bd3d4_8340_11e9_a502_0a0027000011row0_col4 {\n",
       "            color:  red;\n",
       "            : ;\n",
       "            : ;\n",
       "        }    #T_453bd3d4_8340_11e9_a502_0a0027000011row1_col1 {\n",
       "            color:  red;\n",
       "            : ;\n",
       "            background-color:  yellow;\n",
       "        }    #T_453bd3d4_8340_11e9_a502_0a0027000011row1_col4 {\n",
       "            color:  red;\n",
       "            : ;\n",
       "            background-color:  yellow;\n",
       "        }    #T_453bd3d4_8340_11e9_a502_0a0027000011row2_col1 {\n",
       "            color:  green;\n",
       "            background-color:  lightgreen;\n",
       "            : ;\n",
       "        }    #T_453bd3d4_8340_11e9_a502_0a0027000011row2_col4 {\n",
       "            color:  green;\n",
       "            background-color:  lightgreen;\n",
       "            : ;\n",
       "        }    #T_453bd3d4_8340_11e9_a502_0a0027000011row3_col1 {\n",
       "            color:  green;\n",
       "            : ;\n",
       "            : ;\n",
       "        }    #T_453bd3d4_8340_11e9_a502_0a0027000011row3_col4 {\n",
       "            color:  green;\n",
       "            : ;\n",
       "            : ;\n",
       "        }    #T_453bd3d4_8340_11e9_a502_0a0027000011row4_col1 {\n",
       "            color:  green;\n",
       "            : ;\n",
       "            : ;\n",
       "        }    #T_453bd3d4_8340_11e9_a502_0a0027000011row4_col4 {\n",
       "            color:  green;\n",
       "            : ;\n",
       "            : ;\n",
       "        }    #T_453bd3d4_8340_11e9_a502_0a0027000011row5_col1 {\n",
       "            color:  green;\n",
       "            : ;\n",
       "            : ;\n",
       "        }    #T_453bd3d4_8340_11e9_a502_0a0027000011row5_col4 {\n",
       "            color:  green;\n",
       "            : ;\n",
       "            : ;\n",
       "        }</style>  \n",
       "<table id=\"T_453bd3d4_8340_11e9_a502_0a0027000011\" > \n",
       "<thead>    <tr> \n",
       "        <th class=\"blank level0\" ></th> \n",
       "        <th class=\"col_heading level0 col0\" >Feature</th> \n",
       "        <th class=\"col_heading level0 col1\" >Contribution</th> \n",
       "        <th class=\"col_heading level0 col2\" >Original Count</th> \n",
       "        <th class=\"col_heading level0 col3\" >tfidf val</th> \n",
       "        <th class=\"col_heading level0 col4\" >Coef</th> \n",
       "        <th class=\"col_heading level0 col5\" >in POSITIVE</th> \n",
       "        <th class=\"col_heading level0 col6\" >in NEGATIVE</th> \n",
       "    </tr></thead> \n",
       "<tbody>    <tr> \n",
       "        <th id=\"T_453bd3d4_8340_11e9_a502_0a0027000011level0_row0\" class=\"row_heading level0 row0\" >0</th> \n",
       "        <td id=\"T_453bd3d4_8340_11e9_a502_0a0027000011row0_col0\" class=\"data row0 col0\" >darn</td> \n",
       "        <td id=\"T_453bd3d4_8340_11e9_a502_0a0027000011row0_col1\" class=\"data row0 col1\" >-0.149763</td> \n",
       "        <td id=\"T_453bd3d4_8340_11e9_a502_0a0027000011row0_col2\" class=\"data row0 col2\" >1</td> \n",
       "        <td id=\"T_453bd3d4_8340_11e9_a502_0a0027000011row0_col3\" class=\"data row0 col3\" >0.476392</td> \n",
       "        <td id=\"T_453bd3d4_8340_11e9_a502_0a0027000011row0_col4\" class=\"data row0 col4\" >-0.314369</td> \n",
       "        <td id=\"T_453bd3d4_8340_11e9_a502_0a0027000011row0_col5\" class=\"data row0 col5\" >1</td> \n",
       "        <td id=\"T_453bd3d4_8340_11e9_a502_0a0027000011row0_col6\" class=\"data row0 col6\" >2</td> \n",
       "    </tr>    <tr> \n",
       "        <th id=\"T_453bd3d4_8340_11e9_a502_0a0027000011level0_row1\" class=\"row_heading level0 row1\" >1</th> \n",
       "        <td id=\"T_453bd3d4_8340_11e9_a502_0a0027000011row1_col0\" class=\"data row1 col0\" >went</td> \n",
       "        <td id=\"T_453bd3d4_8340_11e9_a502_0a0027000011row1_col1\" class=\"data row1 col1\" >-0.274056</td> \n",
       "        <td id=\"T_453bd3d4_8340_11e9_a502_0a0027000011row1_col2\" class=\"data row1 col2\" >1</td> \n",
       "        <td id=\"T_453bd3d4_8340_11e9_a502_0a0027000011row1_col3\" class=\"data row1 col3\" >0.21894</td> \n",
       "        <td id=\"T_453bd3d4_8340_11e9_a502_0a0027000011row1_col4\" class=\"data row1 col4\" >-1.25174</td> \n",
       "        <td id=\"T_453bd3d4_8340_11e9_a502_0a0027000011row1_col5\" class=\"data row1 col5\" >103</td> \n",
       "        <td id=\"T_453bd3d4_8340_11e9_a502_0a0027000011row1_col6\" class=\"data row1 col6\" >205</td> \n",
       "    </tr>    <tr> \n",
       "        <th id=\"T_453bd3d4_8340_11e9_a502_0a0027000011level0_row2\" class=\"row_heading level0 row2\" >2</th> \n",
       "        <td id=\"T_453bd3d4_8340_11e9_a502_0a0027000011row2_col0\" class=\"data row2 col0\" >laser</td> \n",
       "        <td id=\"T_453bd3d4_8340_11e9_a502_0a0027000011row2_col1\" class=\"data row2 col1\" >0.664737</td> \n",
       "        <td id=\"T_453bd3d4_8340_11e9_a502_0a0027000011row2_col2\" class=\"data row2 col2\" >1</td> \n",
       "        <td id=\"T_453bd3d4_8340_11e9_a502_0a0027000011row2_col3\" class=\"data row2 col3\" >0.463177</td> \n",
       "        <td id=\"T_453bd3d4_8340_11e9_a502_0a0027000011row2_col4\" class=\"data row2 col4\" >1.43517</td> \n",
       "        <td id=\"T_453bd3d4_8340_11e9_a502_0a0027000011row2_col5\" class=\"data row2 col5\" >4</td> \n",
       "        <td id=\"T_453bd3d4_8340_11e9_a502_0a0027000011row2_col6\" class=\"data row2 col6\" >0</td> \n",
       "    </tr>    <tr> \n",
       "        <th id=\"T_453bd3d4_8340_11e9_a502_0a0027000011level0_row3\" class=\"row_heading level0 row3\" >3</th> \n",
       "        <td id=\"T_453bd3d4_8340_11e9_a502_0a0027000011row3_col0\" class=\"data row3 col0\" >tag</td> \n",
       "        <td id=\"T_453bd3d4_8340_11e9_a502_0a0027000011row3_col1\" class=\"data row3 col1\" >0.218288</td> \n",
       "        <td id=\"T_453bd3d4_8340_11e9_a502_0a0027000011row3_col2\" class=\"data row3 col2\" >1</td> \n",
       "        <td id=\"T_453bd3d4_8340_11e9_a502_0a0027000011row3_col3\" class=\"data row3 col3\" >0.476392</td> \n",
       "        <td id=\"T_453bd3d4_8340_11e9_a502_0a0027000011row3_col4\" class=\"data row3 col4\" >0.458211</td> \n",
       "        <td id=\"T_453bd3d4_8340_11e9_a502_0a0027000011row3_col5\" class=\"data row3 col5\" >2</td> \n",
       "        <td id=\"T_453bd3d4_8340_11e9_a502_0a0027000011row3_col6\" class=\"data row3 col6\" >1</td> \n",
       "    </tr>    <tr> \n",
       "        <th id=\"T_453bd3d4_8340_11e9_a502_0a0027000011level0_row4\" class=\"row_heading level0 row4\" >4</th> \n",
       "        <td id=\"T_453bd3d4_8340_11e9_a502_0a0027000011row4_col0\" class=\"data row4 col0\" >nice</td> \n",
       "        <td id=\"T_453bd3d4_8340_11e9_a502_0a0027000011row4_col1\" class=\"data row4 col1\" >0.549435</td> \n",
       "        <td id=\"T_453bd3d4_8340_11e9_a502_0a0027000011row4_col2\" class=\"data row4 col2\" >2</td> \n",
       "        <td id=\"T_453bd3d4_8340_11e9_a502_0a0027000011row4_col3\" class=\"data row4 col3\" >0.479745</td> \n",
       "        <td id=\"T_453bd3d4_8340_11e9_a502_0a0027000011row4_col4\" class=\"data row4 col4\" >1.14527</td> \n",
       "        <td id=\"T_453bd3d4_8340_11e9_a502_0a0027000011row4_col5\" class=\"data row4 col5\" >136</td> \n",
       "        <td id=\"T_453bd3d4_8340_11e9_a502_0a0027000011row4_col6\" class=\"data row4 col6\" >80</td> \n",
       "    </tr>    <tr> \n",
       "        <th id=\"T_453bd3d4_8340_11e9_a502_0a0027000011level0_row5\" class=\"row_heading level0 row5\" >5</th> \n",
       "        <td id=\"T_453bd3d4_8340_11e9_a502_0a0027000011row5_col0\" class=\"data row5 col0\" >staff</td> \n",
       "        <td id=\"T_453bd3d4_8340_11e9_a502_0a0027000011row5_col1\" class=\"data row5 col1\" >0.141267</td> \n",
       "        <td id=\"T_453bd3d4_8340_11e9_a502_0a0027000011row5_col2\" class=\"data row5 col2\" >1</td> \n",
       "        <td id=\"T_453bd3d4_8340_11e9_a502_0a0027000011row5_col3\" class=\"data row5 col3\" >0.231252</td> \n",
       "        <td id=\"T_453bd3d4_8340_11e9_a502_0a0027000011row5_col4\" class=\"data row5 col4\" >0.610879</td> \n",
       "        <td id=\"T_453bd3d4_8340_11e9_a502_0a0027000011row5_col5\" class=\"data row5 col5\" >170</td> \n",
       "        <td id=\"T_453bd3d4_8340_11e9_a502_0a0027000011row5_col6\" class=\"data row5 col6\" >80</td> \n",
       "    </tr></tbody> \n",
       "</table> "
      ],
      "text/plain": [
       "<pandas.io.formats.style.Styler at 0x7f802b214470>"
      ]
     },
     "execution_count": 50,
     "metadata": {},
     "output_type": "execute_result"
    }
   ],
   "source": [
    "df,res = analysis(sentence)\n",
    "df"
   ]
  },
  {
   "cell_type": "code",
   "execution_count": 51,
   "metadata": {},
   "outputs": [
    {
     "data": {
      "image/png": "[encoded data removed]",
      "text/plain": [
       "<Figure size 360x360 with 1 Axes>"
      ]
     },
     "metadata": {},
     "output_type": "display_data"
    },
    {
     "data": {
      "image/png": "[encoded data removed]",
      "text/plain": [
       "<Figure size 720x360 with 1 Axes>"
      ]
     },
     "metadata": {
      "needs_background": "light"
     },
     "output_type": "display_data"
    },
    {
     "data": {
      "image/png": "[encoded data removed]",
      "text/plain": [
       "<Figure size 720x360 with 1 Axes>"
      ]
     },
     "metadata": {
      "needs_background": "light"
     },
     "output_type": "display_data"
    }
   ],
   "source": [
    "figs = generate_graphs(sentence)"
   ]
  },
  {
   "cell_type": "code",
   "execution_count": 29,
   "metadata": {},
   "outputs": [
    {
     "data": {
      "text/plain": [
       "[<Figure size 360x360 with 1 Axes>,\n",
       " <Figure size 720x360 with 1 Axes>,\n",
       " <Figure size 720x360 with 1 Axes>]"
      ]
     },
     "execution_count": 29,
     "metadata": {},
     "output_type": "execute_result"
    }
   ],
   "source": [
    "figs"
   ]
  },
  {
   "cell_type": "code",
   "execution_count": null,
   "metadata": {},
   "outputs": [],
   "source": []
  },
  {
   "cell_type": "markdown",
   "metadata": {},
   "source": [
    "### Testing Space"
   ]
  },
  {
   "cell_type": "code",
   "execution_count": 30,
   "metadata": {},
   "outputs": [],
   "source": [
    "sentiment.cv = CountVectorizer(min_df = 3)"
   ]
  },
  {
   "cell_type": "code",
   "execution_count": 106,
   "metadata": {},
   "outputs": [
    {
     "data": {
      "text/plain": [
       "9882"
      ]
     },
     "execution_count": 106,
     "metadata": {},
     "output_type": "execute_result"
    }
   ],
   "source": [
    "len(sentiment.cv.vocabulary_)"
   ]
  },
  {
   "cell_type": "code",
   "execution_count": 107,
   "metadata": {},
   "outputs": [
    {
     "data": {
      "text/plain": [
       "set()"
      ]
     },
     "execution_count": 107,
     "metadata": {},
     "output_type": "execute_result"
    }
   ],
   "source": [
    "sentiment.cv.stop_words_"
   ]
  },
  {
   "cell_type": "code",
   "execution_count": 201,
   "metadata": {},
   "outputs": [
    {
     "ename": "ImportError",
     "evalue": "No module named 'seaborn'",
     "output_type": "error",
     "traceback": [
      "\u001b[0;31m---------------------------------------------------------------------------\u001b[0m",
      "\u001b[0;31mImportError\u001b[0m                               Traceback (most recent call last)",
      "\u001b[0;32m<ipython-input-201-2b514574553b>\u001b[0m in \u001b[0;36m<module>\u001b[0;34m\u001b[0m\n\u001b[0;32m----> 1\u001b[0;31m \u001b[0;32mimport\u001b[0m \u001b[0mseaborn\u001b[0m \u001b[0;32mas\u001b[0m \u001b[0msns\u001b[0m\u001b[0;34m\u001b[0m\u001b[0m\n\u001b[0m\u001b[1;32m      2\u001b[0m \u001b[0;34m\u001b[0m\u001b[0m\n\u001b[1;32m      3\u001b[0m \u001b[0mcm\u001b[0m \u001b[0;34m=\u001b[0m \u001b[0msns\u001b[0m\u001b[0;34m.\u001b[0m\u001b[0mlight_palette\u001b[0m\u001b[0;34m(\u001b[0m\u001b[0;34m\"green\"\u001b[0m\u001b[0;34m,\u001b[0m \u001b[0mas_cmap\u001b[0m\u001b[0;34m=\u001b[0m\u001b[0;32mTrue\u001b[0m\u001b[0;34m)\u001b[0m\u001b[0;34m\u001b[0m\u001b[0m\n",
      "\u001b[0;31mImportError\u001b[0m: No module named 'seaborn'"
     ]
    }
   ],
   "source": [
    "import seaborn as sns\n",
    "\n",
    "cm = sns.light_palette(\"green\", as_cmap=True)"
   ]
  },
  {
   "cell_type": "code",
   "execution_count": 202,
   "metadata": {},
   "outputs": [
    {
     "name": "stdout",
     "output_type": "stream",
     "text": [
      "Requirement already satisfied: seaborn in /home/jiajinliang/anaconda2/lib/python2.7/site-packages (0.8.1)\n",
      "Requirement already satisfied: numpy in /home/jiajinliang/anaconda2/lib/python2.7/site-packages (from seaborn) (1.16.0)\n",
      "Requirement already satisfied: scipy in /home/jiajinliang/anaconda2/lib/python2.7/site-packages (from seaborn) (1.1.0)\n",
      "Requirement already satisfied: matplotlib in /home/jiajinliang/anaconda2/lib/python2.7/site-packages (from seaborn) (2.2.3)\n",
      "Requirement already satisfied: pandas in /home/jiajinliang/anaconda2/lib/python2.7/site-packages (from seaborn) (0.23.0)\n",
      "Requirement already satisfied: cycler>=0.10 in /home/jiajinliang/anaconda2/lib/python2.7/site-packages (from matplotlib->seaborn) (0.10.0)\n",
      "Requirement already satisfied: pyparsing!=2.0.4,!=2.1.2,!=2.1.6,>=2.0.1 in /home/jiajinliang/anaconda2/lib/python2.7/site-packages (from matplotlib->seaborn) (2.2.0)\n",
      "Requirement already satisfied: python-dateutil>=2.1 in /home/jiajinliang/anaconda2/lib/python2.7/site-packages (from matplotlib->seaborn) (2.7.3)\n",
      "Requirement already satisfied: pytz in /home/jiajinliang/anaconda2/lib/python2.7/site-packages (from matplotlib->seaborn) (2018.4)\n",
      "Requirement already satisfied: six>=1.10 in /home/jiajinliang/anaconda2/lib/python2.7/site-packages (from matplotlib->seaborn) (1.11.0)\n",
      "Requirement already satisfied: kiwisolver>=1.0.1 in /home/jiajinliang/anaconda2/lib/python2.7/site-packages (from matplotlib->seaborn) (1.0.1)\n",
      "Requirement already satisfied: backports.functools_lru_cache in /home/jiajinliang/anaconda2/lib/python2.7/site-packages (from matplotlib->seaborn) (1.5)\n",
      "Requirement already satisfied: subprocess32 in /home/jiajinliang/anaconda2/lib/python2.7/site-packages (from matplotlib->seaborn) (3.5.0)\n",
      "Requirement already satisfied: setuptools in /home/jiajinliang/anaconda2/lib/python2.7/site-packages (from kiwisolver>=1.0.1->matplotlib->seaborn) (39.1.0)\n",
      "\u001b[33mYou are using pip version 18.1, however version 19.1.1 is available.\n",
      "You should consider upgrading via the 'pip install --upgrade pip' command.\u001b[0m\n"
     ]
    }
   ],
   "source": [
    "!pip install seaborn"
   ]
  },
  {
   "cell_type": "code",
   "execution_count": 33,
   "metadata": {},
   "outputs": [],
   "source": [
    "figs[0].savefig('3.png')"
   ]
  },
  {
   "cell_type": "code",
   "execution_count": 38,
   "metadata": {},
   "outputs": [
    {
     "data": {
      "text/plain": [
       "pandas.io.formats.style.Styler"
      ]
     },
     "execution_count": 38,
     "metadata": {},
     "output_type": "execute_result"
    }
   ],
   "source": [
    "type(df)"
   ]
  },
  {
   "cell_type": "code",
   "execution_count": 37,
   "metadata": {},
   "outputs": [
    {
     "data": {
      "text/plain": [
       "str"
      ]
     },
     "execution_count": 37,
     "metadata": {},
     "output_type": "execute_result"
    }
   ],
   "source": [
    "type(df.render())"
   ]
  },
  {
   "cell_type": "code",
   "execution_count": 40,
   "metadata": {
    "scrolled": false
   },
   "outputs": [
    {
     "name": "stdout",
     "output_type": "stream",
     "text": [
      "process 2056: D-Bus library appears to be incorrectly set up; failed to read machine uuid: UUID file '/etc/machine-id' should contain a hex string of length 32, not length 0, with no other text\n",
      "See the manual page for dbus-uuidgen to correct this issue.\n",
      "Loading page (1/2)\n",
      "[>                                                           ] 0%\r",
      "[======>                                                     ] 10%\r",
      "[==================>                                         ] 31%\r",
      "[==============================>                             ] 50%\r",
      "[============================================================] 100%\r",
      "Rendering (2/2)                                                    \n",
      "[>                                                           ] 0%\r",
      "[===============>                                            ] 25%\r",
      "[============================================================] 100%\r",
      "Done                                                               \n"
     ]
    },
    {
     "data": {
      "text/plain": [
       "True"
      ]
     },
     "execution_count": 40,
     "metadata": {},
     "output_type": "execute_result"
    }
   ],
   "source": [
    "import imgkit\n",
    "html = df.render()\n",
    "options = {\"xvfb\": \"\"}\n",
    "imgkit.from_string(html, \"7.png\", options=options)"
   ]
  },
  {
   "cell_type": "code",
   "execution_count": 4,
   "metadata": {},
   "outputs": [
    {
     "name": "stdout",
     "output_type": "stream",
     "text": [
      "Collecting imgkit\n",
      "  Downloading https://files.pythonhosted.org/packages/e0/84/690cbae32a105d22a212394690ef844e4471c78ed8f40c23a8c6d18606f7/imgkit-1.0.2.tar.gz\n",
      "Building wheels for collected packages: imgkit\n",
      "  Running setup.py bdist_wheel for imgkit ... \u001b[?25ldone\n",
      "\u001b[?25h  Stored in directory: /home/jiajinliang/.cache/pip/wheels/64/34/8e/1719358e8263f9f33217b9f11d1a70d9e122b75afa5732f032\n",
      "Successfully built imgkit\n",
      "Installing collected packages: imgkit\n",
      "Successfully installed imgkit-1.0.2\n",
      "\u001b[33mYou are using pip version 8.1.1, however version 19.1.1 is available.\n",
      "You should consider upgrading via the 'pip install --upgrade pip' command.\u001b[0m\n"
     ]
    }
   ],
   "source": [
    "!pip3 install imgkit"
   ]
  },
  {
   "cell_type": "code",
   "execution_count": 34,
   "metadata": {},
   "outputs": [
    {
     "name": "stdout",
     "output_type": "stream",
     "text": [
      "Collecting wkhtmltoimage\n",
      "\u001b[31m  Could not find a version that satisfies the requirement wkhtmltoimage (from versions: )\u001b[0m\n",
      "\u001b[31mNo matching distribution found for wkhtmltoimage\u001b[0m\n",
      "\u001b[33mYou are using pip version 8.1.1, however version 19.1.1 is available.\n",
      "You should consider upgrading via the 'pip install --upgrade pip' command.\u001b[0m\n"
     ]
    }
   ],
   "source": [
    "!pip3 install wkhtmltoimage"
   ]
  },
  {
   "cell_type": "code",
   "execution_count": 36,
   "metadata": {},
   "outputs": [
    {
     "name": "stderr",
     "output_type": "stream",
     "text": [
      "/home/jiajinliang/.local/lib/python3.5/site-packages/ipykernel_launcher.py:5: FutureWarning: 'pandas.tools.plotting.table' is deprecated, import 'pandas.plotting.table' instead.\n",
      "  \"\"\"\n"
     ]
    },
    {
     "ename": "ValueError",
     "evalue": "Input data must be DataFrame or Series",
     "output_type": "error",
     "traceback": [
      "\u001b[0;31m---------------------------------------------------------------------------\u001b[0m",
      "\u001b[0;31mValueError\u001b[0m                                Traceback (most recent call last)",
      "\u001b[0;32m<ipython-input-36-07c40aa7defd>\u001b[0m in \u001b[0;36m<module>\u001b[0;34m\u001b[0m\n\u001b[1;32m      3\u001b[0m \u001b[0max\u001b[0m\u001b[0;34m.\u001b[0m\u001b[0myaxis\u001b[0m\u001b[0;34m.\u001b[0m\u001b[0mset_visible\u001b[0m\u001b[0;34m(\u001b[0m\u001b[0;32mFalse\u001b[0m\u001b[0;34m)\u001b[0m  \u001b[0;31m# hide the y axis\u001b[0m\u001b[0;34m\u001b[0m\u001b[0m\n\u001b[1;32m      4\u001b[0m \u001b[0;32mfrom\u001b[0m \u001b[0mpandas\u001b[0m\u001b[0;34m.\u001b[0m\u001b[0mtools\u001b[0m\u001b[0;34m.\u001b[0m\u001b[0mplotting\u001b[0m \u001b[0;32mimport\u001b[0m \u001b[0mtable\u001b[0m\u001b[0;34m\u001b[0m\u001b[0m\n\u001b[0;32m----> 5\u001b[0;31m \u001b[0mtable\u001b[0m\u001b[0;34m(\u001b[0m\u001b[0max\u001b[0m\u001b[0;34m,\u001b[0m \u001b[0mdf\u001b[0m\u001b[0;34m)\u001b[0m  \u001b[0;31m# where df is your data frame\u001b[0m\u001b[0;34m\u001b[0m\u001b[0m\n\u001b[0m",
      "\u001b[0;32m~/.local/lib/python3.5/site-packages/pandas/tools/plotting.py\u001b[0m in \u001b[0;36mwrapper\u001b[0;34m(*args, **kwargs)\u001b[0m\n\u001b[1;32m     15\u001b[0m                           \u001b[0;34m\"import 'pandas.plotting.{t}' instead.\"\u001b[0m\u001b[0;34m.\u001b[0m\u001b[0mformat\u001b[0m\u001b[0;34m(\u001b[0m\u001b[0mt\u001b[0m\u001b[0;34m=\u001b[0m\u001b[0mt\u001b[0m\u001b[0;34m)\u001b[0m\u001b[0;34m,\u001b[0m\u001b[0;34m\u001b[0m\u001b[0m\n\u001b[1;32m     16\u001b[0m                           FutureWarning, stacklevel=2)\n\u001b[0;32m---> 17\u001b[0;31m             \u001b[0;32mreturn\u001b[0m \u001b[0mgetattr\u001b[0m\u001b[0;34m(\u001b[0m\u001b[0m_plotting\u001b[0m\u001b[0;34m,\u001b[0m \u001b[0mt\u001b[0m\u001b[0;34m)\u001b[0m\u001b[0;34m(\u001b[0m\u001b[0;34m*\u001b[0m\u001b[0margs\u001b[0m\u001b[0;34m,\u001b[0m \u001b[0;34m**\u001b[0m\u001b[0mkwargs\u001b[0m\u001b[0;34m)\u001b[0m\u001b[0;34m\u001b[0m\u001b[0m\n\u001b[0m\u001b[1;32m     18\u001b[0m         \u001b[0;32mreturn\u001b[0m \u001b[0mwrapper\u001b[0m\u001b[0;34m\u001b[0m\u001b[0m\n\u001b[1;32m     19\u001b[0m \u001b[0;34m\u001b[0m\u001b[0m\n",
      "\u001b[0;32m~/.local/lib/python3.5/site-packages/pandas/plotting/_tools.py\u001b[0m in \u001b[0;36mtable\u001b[0;34m(ax, data, rowLabels, colLabels, **kwargs)\u001b[0m\n\u001b[1;32m     50\u001b[0m         \u001b[0;32mpass\u001b[0m\u001b[0;34m\u001b[0m\u001b[0m\n\u001b[1;32m     51\u001b[0m     \u001b[0;32melse\u001b[0m\u001b[0;34m:\u001b[0m\u001b[0;34m\u001b[0m\u001b[0m\n\u001b[0;32m---> 52\u001b[0;31m         \u001b[0;32mraise\u001b[0m \u001b[0mValueError\u001b[0m\u001b[0;34m(\u001b[0m\u001b[0;34m'Input data must be DataFrame or Series'\u001b[0m\u001b[0;34m)\u001b[0m\u001b[0;34m\u001b[0m\u001b[0m\n\u001b[0m\u001b[1;32m     53\u001b[0m \u001b[0;34m\u001b[0m\u001b[0m\n\u001b[1;32m     54\u001b[0m     \u001b[0;32mif\u001b[0m \u001b[0mrowLabels\u001b[0m \u001b[0;32mis\u001b[0m \u001b[0;32mNone\u001b[0m\u001b[0;34m:\u001b[0m\u001b[0;34m\u001b[0m\u001b[0m\n",
      "\u001b[0;31mValueError\u001b[0m: Input data must be DataFrame or Series"
     ]
    },
    {
     "data": {
      "image/png": "[encoded data removed]",
      "text/plain": [
       "<Figure size 432x288 with 1 Axes>"
      ]
     },
     "metadata": {
      "needs_background": "light"
     },
     "output_type": "display_data"
    }
   ],
   "source": [
    "ax = plt.subplot(111, frame_on=False) # no visible frame\n",
    "ax.xaxis.set_visible(False)  # hide the x axis\n",
    "ax.yaxis.set_visible(False)  # hide the y axis\n",
    "from pandas.tools.plotting import table\n",
    "table(ax, df)  # where df is your data frame\n"
   ]
  },
  {
   "cell_type": "code",
   "execution_count": null,
   "metadata": {},
   "outputs": [],
   "source": []
  }
 ],
 "metadata": {
  "kernelspec": {
   "display_name": "Python 3",
   "language": "python",
   "name": "python3"
  }
 },
 "nbformat": 4,
 "nbformat_minor": 2
}
