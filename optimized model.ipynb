{
 "cells": [
  {
   "cell_type": "code",
   "execution_count": 1,
   "metadata": {},
   "outputs": [],
   "source": [
    "import sentiment as sentimentinterface\n",
    "import classify\n",
    "import numpy as np\n",
    "import matplotlib.pyplot as plt\n",
    "from mpl_toolkits.mplot3d import Axes3D\n",
    "plt.switch_backend('agg')\n",
    "import matplotlib.ticker as ticker\n",
    "%matplotlib inline\n",
    "import pandas as pd\n",
    "import six\n",
    "\n",
    "import importlib"
   ]
  },
  {
   "cell_type": "code",
   "execution_count": 2,
   "metadata": {},
   "outputs": [
    {
     "name": "stdout",
     "output_type": "stream",
     "text": [
      "Reading data\n",
      "-- train data\n",
      "sentiment/train.tsv\n",
      "4582\n",
      "-- dev data\n",
      "sentiment/dev.tsv\n",
      "458\n",
      "-- transforming data and labels\n"
     ]
    }
   ],
   "source": [
    "importlib.reload(sentimentinterface)\n",
    "print(\"Reading data\")\n",
    "tarfname = \"data/sentiment.tar.gz\"\n",
    "sentiment = sentimentinterface.read_data(tarfname)"
   ]
  },
  {
   "cell_type": "code",
   "execution_count": 3,
   "metadata": {},
   "outputs": [
    {
     "name": "stdout",
     "output_type": "stream",
     "text": [
      "  Accuracy on dev is: 0.8187772925764192\n"
     ]
    },
    {
     "data": {
      "text/plain": [
       "0.8187772925764192"
      ]
     },
     "execution_count": 3,
     "metadata": {},
     "output_type": "execute_result"
    }
   ],
   "source": [
    "sentiment.stop_words = sentimentinterface.generate_stop_words(sentiment, diff = 0.4)\n",
    "\n",
    "from sklearn.feature_extraction.text import CountVectorizer\n",
    "\n",
    "sentiment.cv = CountVectorizer(min_df = 3)\n",
    "sentiment.cv.fit_transform(sentiment.train_data)\n",
    "sentiment.mindf_stop_words = sentiment.cv.stop_words_\n",
    "sentiment.cv = CountVectorizer(max_df = 0.2)\n",
    "sentiment.cv.fit_transform(sentiment.train_data)\n",
    "sentiment.maxdf_stop_words = sentiment.cv.stop_words_\n",
    "sentiment.cv = CountVectorizer()\n",
    "sentiment.cv.fit_transform(sentiment.train_data)\n",
    "sentiment.training_set_vocabulary = sentiment.cv.vocabulary_\n",
    "\n",
    "sentimentinterface.vectorize_data(sentiment, stop_words = sentiment.stop_words, max_df = 0.2, min_df = 3)\n",
    "cls = classify.train_classifier(sentiment.trainX, sentiment.trainy, C = 3.7)\n",
    "\n",
    "classify.evaluate(sentiment.devX, sentiment.devy, cls, 'dev')\n",
    "# print(\"\\nReading unlabeled data\")\n",
    "# unlabeled = sentimentinterface.read_unlabeled(tarfname, sentiment)\n",
    "# print(\"Writing predictions to a file\")\n",
    "# sentimentinterface.write_pred_kaggle_file(unlabeled, cls, \"data/sentiment-pred.csv\", sentiment)"
   ]
  },
  {
   "cell_type": "markdown",
   "metadata": {},
   "source": [
    "### Now cls is the optimized model"
   ]
  },
  {
   "cell_type": "code",
   "execution_count": 4,
   "metadata": {},
   "outputs": [],
   "source": [
    "sentence = 'i hate this place, it tastes like minwoo'"
   ]
  },
  {
   "cell_type": "code",
   "execution_count": 5,
   "metadata": {},
   "outputs": [],
   "source": [
    "def vectorize_sentence(sentence, count_vect = sentiment.count_vect):\n",
    "    return count_vect.transform([sentence])"
   ]
  },
  {
   "cell_type": "code",
   "execution_count": 6,
   "metadata": {},
   "outputs": [],
   "source": [
    "veccc = vectorize_sentence(sentence)"
   ]
  },
  {
   "cell_type": "code",
   "execution_count": 7,
   "metadata": {},
   "outputs": [
    {
     "name": "stdout",
     "output_type": "stream",
     "text": [
      "  (0, 850)\t1.0\n"
     ]
    }
   ],
   "source": [
    "print(veccc)"
   ]
  },
  {
   "cell_type": "code",
   "execution_count": 8,
   "metadata": {},
   "outputs": [
    {
     "data": {
      "text/plain": [
       "'hate'"
      ]
     },
     "execution_count": 8,
     "metadata": {},
     "output_type": "execute_result"
    }
   ],
   "source": [
    "sentiment.count_vect.get_feature_names()[850]"
   ]
  },
  {
   "cell_type": "code",
   "execution_count": 9,
   "metadata": {},
   "outputs": [],
   "source": [
    "def predict(sentence, cls = cls):\n",
    "    sentence_vect = vectorize_sentence(sentence)\n",
    "    result = cls.predict(sentence_vect)\n",
    "    if result[0] == 0:\n",
    "        res = \"Prediction: NEGATIVE\"\n",
    "    else:\n",
    "        res = \"Prediction: POSITIVE\"\n",
    "    print(res)\n",
    "    return res"
   ]
  },
  {
   "cell_type": "code",
   "execution_count": 10,
   "metadata": {},
   "outputs": [
    {
     "name": "stdout",
     "output_type": "stream",
     "text": [
      "Prediction: NEGATIVE\n",
      "Prediction: NEGATIVE\n"
     ]
    }
   ],
   "source": [
    "sentence = \"Went last night for the first time with my boyfriend. Let me start off by saying I'm vegetarian, but my boyfriend is not. I ordered the chicken v mushroom, it\"\n",
    "print(predict(sentence))"
   ]
  },
  {
   "cell_type": "markdown",
   "metadata": {},
   "source": [
    "### Now explain why it predicted 0"
   ]
  },
  {
   "cell_type": "markdown",
   "metadata": {},
   "source": [
    "#### clean function"
   ]
  },
  {
   "cell_type": "code",
   "execution_count": 11,
   "metadata": {},
   "outputs": [],
   "source": [
    "def clean(s):\n",
    "    from string import punctuation\n",
    "    s_new = []\n",
    "    s_ignored = []\n",
    "    res = []\n",
    "    for c in s:\n",
    "        if c not in punctuation:\n",
    "            s_new.append(c.lower())\n",
    "        else:\n",
    "            s_new.append(' ')\n",
    "            \n",
    "    s = ''.join(c for c in s_new)\n",
    "    #s = [''.join(c for c in s if c not in punctuation)][0]\n",
    "\n",
    "    l = s.split()\n",
    "\n",
    "    for w in l:\n",
    "        if w in sentiment.count_vect.vocabulary_:\n",
    "            if w not in res:\n",
    "                res.append(w)\n",
    "        else:\n",
    "            s_ignored.append(w)\n",
    "#     l = [w for w in l if w in sentiment.count_vect.vocabulary_]\n",
    "\n",
    "    return res, s_ignored"
   ]
  },
  {
   "cell_type": "markdown",
   "metadata": {},
   "source": [
    "#### find stop_words"
   ]
  },
  {
   "cell_type": "code",
   "execution_count": 12,
   "metadata": {},
   "outputs": [],
   "source": [
    "def find_stop_words(s_ignored):\n",
    "#     sentence_vect = clean(sentence)\n",
    "    unseen = []\n",
    "    maxdf = []\n",
    "    mindf = []\n",
    "    oliver_algorithm = []\n",
    "    for w in s_ignored:\n",
    "        if w not in sentiment.training_set_vocabulary:\n",
    "            unseen.append(w)\n",
    "        if w in sentiment.maxdf_stop_words:\n",
    "            maxdf.append(w)\n",
    "        if w in sentiment.mindf_stop_words:\n",
    "            mindf.append(w)\n",
    "        if w in sentiment.stop_words:\n",
    "            oliver_algorithm.append(w)\n",
    "            \n",
    "#     print(\"Words being ignored due to not appearing in training set are: \")\n",
    "    res = \"Words being ignored due to not appearing in training set are: \\n\"\n",
    "    if len(unseen) == 0:\n",
    "#         print(\"None\\n\")\n",
    "        res += \"None\\n\"\n",
    "    else:\n",
    "#         print(unseen)\n",
    "#         print('')\n",
    "        res += '['\n",
    "        for w in unseen:\n",
    "            if w == unseen[-1]:\n",
    "                res += w\n",
    "            else:\n",
    "                res += w + ', '\n",
    "        res += ']\\n'\n",
    "        \n",
    "#     print(\"Words being ignored due to mindf (unfrequent in corpus) are: \")\n",
    "    res += \"Words being ignored due to mindf (unfrequent in corpus) are: \\n\"\n",
    "    if len(mindf) == 0:\n",
    "#         print(\"None\\n\")\n",
    "        res += \"None\\n\"\n",
    "    else:\n",
    "#         print(mindf)\n",
    "#         print('')\n",
    "        res += '['\n",
    "        for w in mindf:\n",
    "            if w == mindf[-1]:\n",
    "                res += w\n",
    "            else:\n",
    "                res += w + ', '\n",
    "        res += ']\\n'\n",
    "        \n",
    "#     print(\"Words being ignored due to maxdf (too frequent in corpus) are: \")\n",
    "    res += \"Words being ignored due to maxdf (too frequent in corpus) are: \\n\"\n",
    "    if len(maxdf) == 0:\n",
    "#         print(\"None\\n\")\n",
    "        res += \"None\\n\"\n",
    "    else:\n",
    "#         print(maxdf)\n",
    "#         print('')\n",
    "        res += '['\n",
    "        for w in maxdf:\n",
    "            if w == maxdf[-1]:\n",
    "                res += w\n",
    "            else:\n",
    "                res += w + ', '\n",
    "        res += ']\\n'\n",
    "        \n",
    "#     print(\"Words being ignored due to our algorithm are: \")\n",
    "    res += \"Words being ignored due to our algorithm are: \\n\"\n",
    "    if len(oliver_algorithm) == 0:\n",
    "#         print(\"None\\n\")\n",
    "        res += \"None\\n\"\n",
    "    else:\n",
    "#         print(oliver_algorithm)\n",
    "#         print('')\n",
    "        res += '['\n",
    "        for w in oliver_algorithm:\n",
    "            if w == oliver_algorithm[-1]:\n",
    "                res += w\n",
    "            else:\n",
    "                res += w + ', '\n",
    "        res += ']\\n'\n",
    "    return res\n"
   ]
  },
  {
   "cell_type": "markdown",
   "metadata": {},
   "source": [
    "#### find coef"
   ]
  },
  {
   "cell_type": "markdown",
   "metadata": {},
   "source": [
    "#### Explain the coef"
   ]
  },
  {
   "cell_type": "code",
   "execution_count": 13,
   "metadata": {},
   "outputs": [],
   "source": [
    "def explain_coef():\n",
    "    p_dict = {}\n",
    "    n_dict = {}\n",
    "    sentences = sentiment.count_vect.inverse_transform(sentiment.trainX)\n",
    "    for counter in range(0, len(sentiment.train_labels)):\n",
    "        if sentiment.train_labels[counter] == \"POSITIVE\":\n",
    "            for w in sentences[counter]:\n",
    "                if w in p_dict:\n",
    "                    p_dict[w] += 1\n",
    "                else:\n",
    "                    p_dict[w] = 1\n",
    "        else:\n",
    "            for w in sentences[counter]:\n",
    "                if w in n_dict:\n",
    "                    n_dict[w] += 1\n",
    "                else:\n",
    "                    n_dict[w] = 1\n",
    "    return p_dict, n_dict"
   ]
  },
  {
   "cell_type": "code",
   "execution_count": 14,
   "metadata": {},
   "outputs": [],
   "source": [
    "def find_coef(sentence_vect, tfidf_vect, stop_words = sentiment.stop_words, cls = cls, sentiment = sentiment):\n",
    "    p_dict,n_dict = explain_coef()\n",
    "#     sentence_vect = clean(sentence)\n",
    "    word_list = []\n",
    "    coef_list = []\n",
    "    num_p_list = []\n",
    "    num_n_list = []\n",
    "    tfidf_list = []\n",
    "    count_list = []\n",
    "    contribution_list = []\n",
    "    for word in sentence_vect:\n",
    "        if word in sentiment.count_vect.vocabulary_:\n",
    "#             print(word,\"\\'s coef:\\n\", cls.coef_[0][sentiment.count_vect.vocabulary_[word]])\n",
    "            word_list.append(word)\n",
    "            coef = cls.coef_[0][sentiment.count_vect.vocabulary_[word]]\n",
    "            coef_list.append(coef)\n",
    "            tfidf = tfidf_vect.toarray()[0][sentiment.count_vect.vocabulary_[word]]\n",
    "            tfidf_list.append(tfidf)\n",
    "            contribution_list.append(coef*tfidf)\n",
    "            vec = sentiment.cv.transform([sentence])\n",
    "            count_list.append(vec.toarray()[0][sentiment.training_set_vocabulary[word]])\n",
    "            if word in p_dict:\n",
    "                num_p = p_dict[word]\n",
    "            else:\n",
    "                num_p = 0\n",
    "            if word in n_dict:\n",
    "                num_n = n_dict[word]\n",
    "            else:\n",
    "                num_n = 0\n",
    "#             print(\"Number of \",word,\"in POSITIVE reviews: \",num_p,\"\\tNumber of \",word,\"in NEGATIVE reviews: \",num_n,\"\\n\")\n",
    "            num_p_list.append(num_p)\n",
    "            num_n_list.append(num_n)\n",
    "    dic = {'Feature':word_list, 'Coef':coef_list, 'in POSITIVE':num_p_list,\n",
    "          'in NEGATIVE':num_n_list, 'tfidf val':tfidf_list, 'Original Count':count_list,\n",
    "          'Contribution':contribution_list}\n",
    "    df = pd.DataFrame(dic)\n",
    "    df = df[['Feature','Contribution','Original Count','tfidf val','Coef','in POSITIVE','in NEGATIVE']]\n",
    "#     print(df)\n",
    "    return df"
   ]
  },
  {
   "cell_type": "code",
   "execution_count": 15,
   "metadata": {},
   "outputs": [],
   "source": [
    "def color_negative_red(val):\n",
    "    \"\"\"\n",
    "    Takes a scalar and returns a string with\n",
    "    the css property `'color: red'` for negative\n",
    "    strings, black otherwise.\n",
    "    \"\"\"\n",
    "    try:\n",
    "        if float(val) < 0:\n",
    "            color = 'red'\n",
    "        elif float(val) > 0:\n",
    "            color = 'green'\n",
    "        else:\n",
    "            color = 'black'\n",
    "#         color = 'red' if float(val) < 0 else 'black'\n",
    "    except ValueError:\n",
    "        color = 'black'\n",
    "\n",
    "    return 'color: %s' % color\n",
    "\n",
    "def highlight_max(s):\n",
    "    '''\n",
    "    highlight the maximum in a Series yellow.\n",
    "    '''\n",
    "    is_max = s == s.max()\n",
    "    return ['background-color: lightgreen' if v else '' for v in is_max]\n",
    "\n",
    "def highlight_min(s):\n",
    "    '''\n",
    "    highlight the maximum in a Series yellow.\n",
    "    '''\n",
    "    is_min = s == s.min()\n",
    "    return ['background-color: yellow' if v else '' for v in is_min]"
   ]
  },
  {
   "cell_type": "code",
   "execution_count": 16,
   "metadata": {},
   "outputs": [],
   "source": [
    "def analysis(sentence):\n",
    "    sentence_vect, s_ignored = clean(sentence)\n",
    "    tfidf_vect = sentiment.count_vect.transform([sentence])\n",
    "    res = find_stop_words(s_ignored)\n",
    "    res += \"Remaining words in the vec: \\n[\"\n",
    "    for w in sentence_vect:\n",
    "        if w == sentence_vect[-1]:\n",
    "            res += w\n",
    "        else:\n",
    "            res += w + ', '\n",
    "    res += ']\\n'\n",
    "    print(res)\n",
    "#     print(\"Remaining words in the vec:\")\n",
    "#     print(sentence_vect)\n",
    "    df = find_coef(sentence_vect, tfidf_vect)\n",
    "    df = df.style.applymap(color_negative_red, subset=['Coef','Contribution']).\\\n",
    "        apply(highlight_max, subset=['Coef','Contribution']).\\\n",
    "        apply(highlight_min, subset=['Coef','Contribution'])\n",
    "#     df = df.style.apply(highlight_max)\n",
    "    return df,res"
   ]
  },
  {
   "cell_type": "code",
   "execution_count": null,
   "metadata": {},
   "outputs": [],
   "source": []
  },
  {
   "cell_type": "markdown",
   "metadata": {},
   "source": [
    "### Visualization "
   ]
  },
  {
   "cell_type": "code",
   "execution_count": 17,
   "metadata": {},
   "outputs": [],
   "source": [
    "import copy\n",
    "import math\n",
    "import matplotlib as mpl\n",
    "\n",
    "# Logistic Regression Interception\n",
    "intercept = copy.deepcopy(cls.intercept_)[0]\n",
    "\n",
    "# Vectorizer vocaulary list (ordered)\n",
    "cv = sentiment.count_vect.vocabulary_\n",
    "cv = [(v,w) for w,v in cv.items()]\n",
    "cv.sort()\n",
    "cv = [x[1] for x in cv]\n",
    "\n",
    "def bar_chart(cd, title='',ylabel=''):\n",
    "    \n",
    "    words = [w for w,_ in cd.items()]\n",
    "    coefs = [cd[w] for w in words]\n",
    "    l = [x for x in zip(coefs, words)]\n",
    "    l.sort()\n",
    "    words = [w for c,w in l]\n",
    "    coefs = [c for c,w in l]\n",
    "\n",
    "    fig = plt.figure(figsize=(10,5))\n",
    "    colors = ['red' if c < 0 else 'blue' for c in coefs]\n",
    "    plt.bar(words, coefs, color=colors)\n",
    "    plt.xlabel('Word', fontsize=20)\n",
    "    plt.ylabel(ylabel, fontsize=20)\n",
    "    plt.xticks(fontsize=20, rotation=30)\n",
    "    plt.yticks(fontsize=15)\n",
    "    plt.title(title, fontsize = 30)\n",
    "    plt.show()\n",
    "    \n",
    "    return fig\n",
    "\n",
    "def coef_list(words):\n",
    "    d = {}\n",
    "    for w in words:\n",
    "        c = cls.coef_[0][sentiment.count_vect.vocabulary_[w]]\n",
    "        d[w] = c\n",
    "        \n",
    "    return d\n",
    "\n",
    "def tfidf_x_coef(x):\n",
    "    \n",
    "    cd = {}\n",
    "    for i,v in zip(x.indices, x.data):\n",
    "        cd[cv[i]] = cls.coef_[0][i] * v\n",
    "        \n",
    "    return cd\n",
    "\n",
    "def prob(x):\n",
    "    \n",
    "    z = intercept\n",
    "    for i,v in zip(x.indices, x.data):\n",
    "        z += cls.coef_[0][i] * v\n",
    "        \n",
    "    pos = 1 / (1 + math.exp(-z))\n",
    "    neg = 1 - pos\n",
    "    \n",
    "    return [neg,pos]\n",
    "\n",
    "def pie_chart(probs):\n",
    "    \n",
    "    mpl.rcParams['font.size'] = 20\n",
    "    \n",
    "    fig = plt.figure(figsize=(5,5))\n",
    "    labels = [\"Negative\", \"Positive\"]\n",
    "    colors = ['red', 'blue']\n",
    "    explode = (0.1, 0)\n",
    "    plt.pie(probs, labels=labels, colors=colors,shadow=True, explode=explode,\n",
    "            autopct='%1.1f%%', startangle=-30)\n",
    "    plt.axis('equal')\n",
    "    plt.show()\n",
    "    \n",
    "    return fig\n",
    "\n",
    "def generate_graphs(sentence):\n",
    "    \n",
    "    figs = []\n",
    "    x,y = clean(sentence)\n",
    "    \n",
    "    x_vec = sentiment.count_vect.transform([sentence])\n",
    "    probs = prob(x_vec)\n",
    "    f3 = pie_chart(probs)\n",
    "    figs.append(f3)\n",
    "    \n",
    "    cd = coef_list(x)\n",
    "    f1 = bar_chart(cd, 'Words with Coefficients', 'Coefficient')\n",
    "    figs.append(f1)\n",
    "\n",
    "    \n",
    "    cd = tfidf_x_coef(x_vec)\n",
    "    f2 = bar_chart(cd, 'Words with Tfidfs * Coefficients', 'Tfidf * Coef')\n",
    "    figs.append(f2)\n",
    "\n",
    "    \n",
    "    \n",
    "    return figs"
   ]
  },
  {
   "cell_type": "markdown",
   "metadata": {},
   "source": [
    "### Usage"
   ]
  },
  {
   "cell_type": "markdown",
   "metadata": {},
   "source": [
    "good example:\n",
    "    TN:  sentiment.train_data[199]\n",
    "    "
   ]
  },
  {
   "cell_type": "code",
   "execution_count": 43,
   "metadata": {},
   "outputs": [],
   "source": [
    "sentence = sentiment.train_data[2200]"
   ]
  },
  {
   "cell_type": "code",
   "execution_count": 44,
   "metadata": {},
   "outputs": [
    {
     "data": {
      "text/plain": [
       "'Dirty! This place cannot be sanitary. The staff was arguing. It was not a pleasant experience at all. Go somewhere that is clean and where you can feel comfortable.'"
      ]
     },
     "execution_count": 44,
     "metadata": {},
     "output_type": "execute_result"
    }
   ],
   "source": [
    "sentence"
   ]
  },
  {
   "cell_type": "code",
   "execution_count": 45,
   "metadata": {},
   "outputs": [
    {
     "data": {
      "text/plain": [
       "0"
      ]
     },
     "execution_count": 45,
     "metadata": {},
     "output_type": "execute_result"
    }
   ],
   "source": [
    "sentiment.trainy[199]"
   ]
  },
  {
   "cell_type": "code",
   "execution_count": 46,
   "metadata": {
    "scrolled": true
   },
   "outputs": [
    {
     "name": "stdout",
     "output_type": "stream",
     "text": [
      "Prediction: NEGATIVE\n"
     ]
    },
    {
     "data": {
      "text/plain": [
       "'Prediction: NEGATIVE'"
      ]
     },
     "execution_count": 46,
     "metadata": {},
     "output_type": "execute_result"
    }
   ],
   "source": [
    "predict(sentence)"
   ]
  },
  {
   "cell_type": "code",
   "execution_count": 47,
   "metadata": {},
   "outputs": [
    {
     "name": "stdout",
     "output_type": "stream",
     "text": [
      "Words being ignored due to not appearing in training set are: \n",
      "[a]\n",
      "Words being ignored due to mindf (unfrequent in corpus) are: \n",
      "[sanitary, arguing]\n",
      "Words being ignored due to maxdf (too frequent in corpus) are: \n",
      "[this, place, the, was, it, was, is, and]\n",
      "Words being ignored due to our algorithm are: \n",
      "[this, place, cannot, the, was, it, was, experience, at, all, go, somewhere, that, is, and, where, you, can, feel]\n",
      "Remaining words in the vec: \n",
      "[dirty, be, staff, not, pleasant, clean, comfortable]\n",
      "\n"
     ]
    },
    {
     "data": {
      "text/html": [
       "<style  type=\"text/css\" >\n",
       "    #T_44df0f54_857b_11e9_b8fe_0a0027000011row0_col1 {\n",
       "            color:  red;\n",
       "            : ;\n",
       "            background-color:  yellow;\n",
       "        }    #T_44df0f54_857b_11e9_b8fe_0a0027000011row0_col4 {\n",
       "            color:  red;\n",
       "            : ;\n",
       "            : ;\n",
       "        }    #T_44df0f54_857b_11e9_b8fe_0a0027000011row1_col1 {\n",
       "            color:  red;\n",
       "            : ;\n",
       "            : ;\n",
       "        }    #T_44df0f54_857b_11e9_b8fe_0a0027000011row1_col4 {\n",
       "            color:  red;\n",
       "            : ;\n",
       "            : ;\n",
       "        }    #T_44df0f54_857b_11e9_b8fe_0a0027000011row2_col1 {\n",
       "            color:  green;\n",
       "            : ;\n",
       "            : ;\n",
       "        }    #T_44df0f54_857b_11e9_b8fe_0a0027000011row2_col4 {\n",
       "            color:  green;\n",
       "            : ;\n",
       "            : ;\n",
       "        }    #T_44df0f54_857b_11e9_b8fe_0a0027000011row3_col1 {\n",
       "            color:  red;\n",
       "            : ;\n",
       "            : ;\n",
       "        }    #T_44df0f54_857b_11e9_b8fe_0a0027000011row3_col4 {\n",
       "            color:  red;\n",
       "            : ;\n",
       "            background-color:  yellow;\n",
       "        }    #T_44df0f54_857b_11e9_b8fe_0a0027000011row4_col1 {\n",
       "            color:  green;\n",
       "            : ;\n",
       "            : ;\n",
       "        }    #T_44df0f54_857b_11e9_b8fe_0a0027000011row4_col4 {\n",
       "            color:  green;\n",
       "            : ;\n",
       "            : ;\n",
       "        }    #T_44df0f54_857b_11e9_b8fe_0a0027000011row5_col1 {\n",
       "            color:  green;\n",
       "            : ;\n",
       "            : ;\n",
       "        }    #T_44df0f54_857b_11e9_b8fe_0a0027000011row5_col4 {\n",
       "            color:  green;\n",
       "            : ;\n",
       "            : ;\n",
       "        }    #T_44df0f54_857b_11e9_b8fe_0a0027000011row6_col1 {\n",
       "            color:  green;\n",
       "            background-color:  lightgreen;\n",
       "            : ;\n",
       "        }    #T_44df0f54_857b_11e9_b8fe_0a0027000011row6_col4 {\n",
       "            color:  green;\n",
       "            background-color:  lightgreen;\n",
       "            : ;\n",
       "        }</style>  \n",
       "<table id=\"T_44df0f54_857b_11e9_b8fe_0a0027000011\" > \n",
       "<thead>    <tr> \n",
       "        <th class=\"blank level0\" ></th> \n",
       "        <th class=\"col_heading level0 col0\" >Feature</th> \n",
       "        <th class=\"col_heading level0 col1\" >Contribution</th> \n",
       "        <th class=\"col_heading level0 col2\" >Original Count</th> \n",
       "        <th class=\"col_heading level0 col3\" >tfidf val</th> \n",
       "        <th class=\"col_heading level0 col4\" >Coef</th> \n",
       "        <th class=\"col_heading level0 col5\" >in POSITIVE</th> \n",
       "        <th class=\"col_heading level0 col6\" >in NEGATIVE</th> \n",
       "    </tr></thead> \n",
       "<tbody>    <tr> \n",
       "        <th id=\"T_44df0f54_857b_11e9_b8fe_0a0027000011level0_row0\" class=\"row_heading level0 row0\" >0</th> \n",
       "        <td id=\"T_44df0f54_857b_11e9_b8fe_0a0027000011row0_col0\" class=\"data row0 col0\" >dirty</td> \n",
       "        <td id=\"T_44df0f54_857b_11e9_b8fe_0a0027000011row0_col1\" class=\"data row0 col1\" >-1.31968</td> \n",
       "        <td id=\"T_44df0f54_857b_11e9_b8fe_0a0027000011row0_col2\" class=\"data row0 col2\" >1</td> \n",
       "        <td id=\"T_44df0f54_857b_11e9_b8fe_0a0027000011row0_col3\" class=\"data row0 col3\" >0.45734</td> \n",
       "        <td id=\"T_44df0f54_857b_11e9_b8fe_0a0027000011row0_col4\" class=\"data row0 col4\" >-2.88557</td> \n",
       "        <td id=\"T_44df0f54_857b_11e9_b8fe_0a0027000011row0_col5\" class=\"data row0 col5\" >1</td> \n",
       "        <td id=\"T_44df0f54_857b_11e9_b8fe_0a0027000011row0_col6\" class=\"data row0 col6\" >27</td> \n",
       "    </tr>    <tr> \n",
       "        <th id=\"T_44df0f54_857b_11e9_b8fe_0a0027000011level0_row1\" class=\"row_heading level0 row1\" >1</th> \n",
       "        <td id=\"T_44df0f54_857b_11e9_b8fe_0a0027000011row1_col0\" class=\"data row1 col0\" >be</td> \n",
       "        <td id=\"T_44df0f54_857b_11e9_b8fe_0a0027000011row1_col1\" class=\"data row1 col1\" >-0.364214</td> \n",
       "        <td id=\"T_44df0f54_857b_11e9_b8fe_0a0027000011row1_col2\" class=\"data row1 col2\" >1</td> \n",
       "        <td id=\"T_44df0f54_857b_11e9_b8fe_0a0027000011row1_col3\" class=\"data row1 col3\" >0.256977</td> \n",
       "        <td id=\"T_44df0f54_857b_11e9_b8fe_0a0027000011row1_col4\" class=\"data row1 col4\" >-1.4173</td> \n",
       "        <td id=\"T_44df0f54_857b_11e9_b8fe_0a0027000011row1_col5\" class=\"data row1 col5\" >153</td> \n",
       "        <td id=\"T_44df0f54_857b_11e9_b8fe_0a0027000011row1_col6\" class=\"data row1 col6\" >259</td> \n",
       "    </tr>    <tr> \n",
       "        <th id=\"T_44df0f54_857b_11e9_b8fe_0a0027000011level0_row2\" class=\"row_heading level0 row2\" >2</th> \n",
       "        <td id=\"T_44df0f54_857b_11e9_b8fe_0a0027000011row2_col0\" class=\"data row2 col0\" >staff</td> \n",
       "        <td id=\"T_44df0f54_857b_11e9_b8fe_0a0027000011row2_col1\" class=\"data row2 col1\" >0.17993</td> \n",
       "        <td id=\"T_44df0f54_857b_11e9_b8fe_0a0027000011row2_col2\" class=\"data row2 col2\" >1</td> \n",
       "        <td id=\"T_44df0f54_857b_11e9_b8fe_0a0027000011row2_col3\" class=\"data row2 col3\" >0.294542</td> \n",
       "        <td id=\"T_44df0f54_857b_11e9_b8fe_0a0027000011row2_col4\" class=\"data row2 col4\" >0.610879</td> \n",
       "        <td id=\"T_44df0f54_857b_11e9_b8fe_0a0027000011row2_col5\" class=\"data row2 col5\" >170</td> \n",
       "        <td id=\"T_44df0f54_857b_11e9_b8fe_0a0027000011row2_col6\" class=\"data row2 col6\" >80</td> \n",
       "    </tr>    <tr> \n",
       "        <th id=\"T_44df0f54_857b_11e9_b8fe_0a0027000011level0_row3\" class=\"row_heading level0 row3\" >3</th> \n",
       "        <td id=\"T_44df0f54_857b_11e9_b8fe_0a0027000011row3_col0\" class=\"data row3 col0\" >not</td> \n",
       "        <td id=\"T_44df0f54_857b_11e9_b8fe_0a0027000011row3_col1\" class=\"data row3 col1\" >-0.722707</td> \n",
       "        <td id=\"T_44df0f54_857b_11e9_b8fe_0a0027000011row3_col2\" class=\"data row3 col2\" >1</td> \n",
       "        <td id=\"T_44df0f54_857b_11e9_b8fe_0a0027000011row3_col3\" class=\"data row3 col3\" >0.2175</td> \n",
       "        <td id=\"T_44df0f54_857b_11e9_b8fe_0a0027000011row3_col4\" class=\"data row3 col4\" >-3.32279</td> \n",
       "        <td id=\"T_44df0f54_857b_11e9_b8fe_0a0027000011row3_col5\" class=\"data row3 col5\" >201</td> \n",
       "        <td id=\"T_44df0f54_857b_11e9_b8fe_0a0027000011row3_col6\" class=\"data row3 col6\" >495</td> \n",
       "    </tr>    <tr> \n",
       "        <th id=\"T_44df0f54_857b_11e9_b8fe_0a0027000011level0_row4\" class=\"row_heading level0 row4\" >4</th> \n",
       "        <td id=\"T_44df0f54_857b_11e9_b8fe_0a0027000011row4_col0\" class=\"data row4 col0\" >pleasant</td> \n",
       "        <td id=\"T_44df0f54_857b_11e9_b8fe_0a0027000011row4_col1\" class=\"data row4 col1\" >0.394755</td> \n",
       "        <td id=\"T_44df0f54_857b_11e9_b8fe_0a0027000011row4_col2\" class=\"data row4 col2\" >1</td> \n",
       "        <td id=\"T_44df0f54_857b_11e9_b8fe_0a0027000011row4_col3\" class=\"data row4 col3\" >0.478179</td> \n",
       "        <td id=\"T_44df0f54_857b_11e9_b8fe_0a0027000011row4_col4\" class=\"data row4 col4\" >0.825539</td> \n",
       "        <td id=\"T_44df0f54_857b_11e9_b8fe_0a0027000011row4_col5\" class=\"data row4 col5\" >14</td> \n",
       "        <td id=\"T_44df0f54_857b_11e9_b8fe_0a0027000011row4_col6\" class=\"data row4 col6\" >7</td> \n",
       "    </tr>    <tr> \n",
       "        <th id=\"T_44df0f54_857b_11e9_b8fe_0a0027000011level0_row5\" class=\"row_heading level0 row5\" >5</th> \n",
       "        <td id=\"T_44df0f54_857b_11e9_b8fe_0a0027000011row5_col0\" class=\"data row5 col0\" >clean</td> \n",
       "        <td id=\"T_44df0f54_857b_11e9_b8fe_0a0027000011row5_col1\" class=\"data row5 col1\" >0.0463119</td> \n",
       "        <td id=\"T_44df0f54_857b_11e9_b8fe_0a0027000011row5_col2\" class=\"data row5 col2\" >1</td> \n",
       "        <td id=\"T_44df0f54_857b_11e9_b8fe_0a0027000011row5_col3\" class=\"data row5 col3\" >0.384665</td> \n",
       "        <td id=\"T_44df0f54_857b_11e9_b8fe_0a0027000011row5_col4\" class=\"data row5 col4\" >0.120395</td> \n",
       "        <td id=\"T_44df0f54_857b_11e9_b8fe_0a0027000011row5_col5\" class=\"data row5 col5\" >51</td> \n",
       "        <td id=\"T_44df0f54_857b_11e9_b8fe_0a0027000011row5_col6\" class=\"data row5 col6\" >24</td> \n",
       "    </tr>    <tr> \n",
       "        <th id=\"T_44df0f54_857b_11e9_b8fe_0a0027000011level0_row6\" class=\"row_heading level0 row6\" >6</th> \n",
       "        <td id=\"T_44df0f54_857b_11e9_b8fe_0a0027000011row6_col0\" class=\"data row6 col0\" >comfortable</td> \n",
       "        <td id=\"T_44df0f54_857b_11e9_b8fe_0a0027000011row6_col1\" class=\"data row6 col1\" >0.691736</td> \n",
       "        <td id=\"T_44df0f54_857b_11e9_b8fe_0a0027000011row6_col2\" class=\"data row6 col2\" >1</td> \n",
       "        <td id=\"T_44df0f54_857b_11e9_b8fe_0a0027000011row6_col3\" class=\"data row6 col3\" >0.462731</td> \n",
       "        <td id=\"T_44df0f54_857b_11e9_b8fe_0a0027000011row6_col4\" class=\"data row6 col4\" >1.4949</td> \n",
       "        <td id=\"T_44df0f54_857b_11e9_b8fe_0a0027000011row6_col5\" class=\"data row6 col5\" >22</td> \n",
       "        <td id=\"T_44df0f54_857b_11e9_b8fe_0a0027000011row6_col6\" class=\"data row6 col6\" >4</td> \n",
       "    </tr></tbody> \n",
       "</table> "
      ],
      "text/plain": [
       "<pandas.io.formats.style.Styler at 0x7fd3b9819c18>"
      ]
     },
     "execution_count": 47,
     "metadata": {},
     "output_type": "execute_result"
    }
   ],
   "source": [
    "df,res = analysis(sentence)\n",
    "df"
   ]
  },
  {
   "cell_type": "code",
   "execution_count": 48,
   "metadata": {},
   "outputs": [
    {
     "data": {
      "image/png": "[encoded data removed]",
      "text/plain": [
       "<Figure size 360x360 with 1 Axes>"
      ]
     },
     "metadata": {},
     "output_type": "display_data"
    },
    {
     "data": {
      "image/png": "[encoded data removed]",
      "text/plain": [
       "<Figure size 720x360 with 1 Axes>"
      ]
     },
     "metadata": {
      "needs_background": "light"
     },
     "output_type": "display_data"
    },
    {
     "data": {
      "image/png": "[encoded data removed]",
      "text/plain": [
       "<Figure size 720x360 with 1 Axes>"
      ]
     },
     "metadata": {
      "needs_background": "light"
     },
     "output_type": "display_data"
    }
   ],
   "source": [
    "figs = generate_graphs(sentence)"
   ]
  },
  {
   "cell_type": "code",
   "execution_count": 24,
   "metadata": {},
   "outputs": [
    {
     "data": {
      "text/plain": [
       "[<Figure size 360x360 with 1 Axes>,\n",
       " <Figure size 720x360 with 1 Axes>,\n",
       " <Figure size 720x360 with 1 Axes>]"
      ]
     },
     "execution_count": 24,
     "metadata": {},
     "output_type": "execute_result"
    }
   ],
   "source": [
    "figs"
   ]
  },
  {
   "cell_type": "code",
   "execution_count": null,
   "metadata": {},
   "outputs": [],
   "source": []
  },
  {
   "cell_type": "markdown",
   "metadata": {},
   "source": [
    "## Testing Space: Ignore everything below, just testing things out"
   ]
  },
  {
   "cell_type": "code",
   "execution_count": null,
   "metadata": {},
   "outputs": [],
   "source": []
  },
  {
   "cell_type": "code",
   "execution_count": 60,
   "metadata": {
    "scrolled": true
   },
   "outputs": [
    {
     "name": "stdout",
     "output_type": "stream",
     "text": [
      "35\n",
      "167\n",
      "261\n",
      "301\n",
      "334\n",
      "  Accuracy on dev is: 0.8187772925764192\n"
     ]
    },
    {
     "data": {
      "text/plain": [
       "0.8187772925764192"
      ]
     },
     "execution_count": 60,
     "metadata": {},
     "output_type": "execute_result"
    }
   ],
   "source": [
    "importlib.reload(classify)\n",
    "classify.evaluate(sentiment.devX, sentiment.devy, cls, 'dev')"
   ]
  },
  {
   "cell_type": "code",
   "execution_count": 52,
   "metadata": {},
   "outputs": [
    {
     "data": {
      "text/plain": [
       "numpy.int64"
      ]
     },
     "execution_count": 52,
     "metadata": {},
     "output_type": "execute_result"
    }
   ],
   "source": [
    "# sentiment.train_data.index('hello')\n",
    "type(sentiment.trainy[sentiment.train_data.index(sentiment.train_data[0])])"
   ]
  },
  {
   "cell_type": "code",
   "execution_count": 30,
   "metadata": {},
   "outputs": [],
   "source": [
    "sentiment.cv = CountVectorizer(min_df = 3)"
   ]
  },
  {
   "cell_type": "code",
   "execution_count": 106,
   "metadata": {},
   "outputs": [
    {
     "data": {
      "text/plain": [
       "9882"
      ]
     },
     "execution_count": 106,
     "metadata": {},
     "output_type": "execute_result"
    }
   ],
   "source": [
    "len(sentiment.cv.vocabulary_)"
   ]
  },
  {
   "cell_type": "code",
   "execution_count": 107,
   "metadata": {},
   "outputs": [
    {
     "data": {
      "text/plain": [
       "set()"
      ]
     },
     "execution_count": 107,
     "metadata": {},
     "output_type": "execute_result"
    }
   ],
   "source": [
    "sentiment.cv.stop_words_"
   ]
  },
  {
   "cell_type": "code",
   "execution_count": 201,
   "metadata": {},
   "outputs": [
    {
     "ename": "ImportError",
     "evalue": "No module named 'seaborn'",
     "output_type": "error",
     "traceback": [
      "\u001b[0;31m---------------------------------------------------------------------------\u001b[0m",
      "\u001b[0;31mImportError\u001b[0m                               Traceback (most recent call last)",
      "\u001b[0;32m<ipython-input-201-2b514574553b>\u001b[0m in \u001b[0;36m<module>\u001b[0;34m\u001b[0m\n\u001b[0;32m----> 1\u001b[0;31m \u001b[0;32mimport\u001b[0m \u001b[0mseaborn\u001b[0m \u001b[0;32mas\u001b[0m \u001b[0msns\u001b[0m\u001b[0;34m\u001b[0m\u001b[0m\n\u001b[0m\u001b[1;32m      2\u001b[0m \u001b[0;34m\u001b[0m\u001b[0m\n\u001b[1;32m      3\u001b[0m \u001b[0mcm\u001b[0m \u001b[0;34m=\u001b[0m \u001b[0msns\u001b[0m\u001b[0;34m.\u001b[0m\u001b[0mlight_palette\u001b[0m\u001b[0;34m(\u001b[0m\u001b[0;34m\"green\"\u001b[0m\u001b[0;34m,\u001b[0m \u001b[0mas_cmap\u001b[0m\u001b[0;34m=\u001b[0m\u001b[0;32mTrue\u001b[0m\u001b[0;34m)\u001b[0m\u001b[0;34m\u001b[0m\u001b[0m\n",
      "\u001b[0;31mImportError\u001b[0m: No module named 'seaborn'"
     ]
    }
   ],
   "source": [
    "import seaborn as sns\n",
    "\n",
    "cm = sns.light_palette(\"green\", as_cmap=True)"
   ]
  },
  {
   "cell_type": "code",
   "execution_count": 202,
   "metadata": {},
   "outputs": [
    {
     "name": "stdout",
     "output_type": "stream",
     "text": [
      "Requirement already satisfied: seaborn in /home/jiajinliang/anaconda2/lib/python2.7/site-packages (0.8.1)\n",
      "Requirement already satisfied: numpy in /home/jiajinliang/anaconda2/lib/python2.7/site-packages (from seaborn) (1.16.0)\n",
      "Requirement already satisfied: scipy in /home/jiajinliang/anaconda2/lib/python2.7/site-packages (from seaborn) (1.1.0)\n",
      "Requirement already satisfied: matplotlib in /home/jiajinliang/anaconda2/lib/python2.7/site-packages (from seaborn) (2.2.3)\n",
      "Requirement already satisfied: pandas in /home/jiajinliang/anaconda2/lib/python2.7/site-packages (from seaborn) (0.23.0)\n",
      "Requirement already satisfied: cycler>=0.10 in /home/jiajinliang/anaconda2/lib/python2.7/site-packages (from matplotlib->seaborn) (0.10.0)\n",
      "Requirement already satisfied: pyparsing!=2.0.4,!=2.1.2,!=2.1.6,>=2.0.1 in /home/jiajinliang/anaconda2/lib/python2.7/site-packages (from matplotlib->seaborn) (2.2.0)\n",
      "Requirement already satisfied: python-dateutil>=2.1 in /home/jiajinliang/anaconda2/lib/python2.7/site-packages (from matplotlib->seaborn) (2.7.3)\n",
      "Requirement already satisfied: pytz in /home/jiajinliang/anaconda2/lib/python2.7/site-packages (from matplotlib->seaborn) (2018.4)\n",
      "Requirement already satisfied: six>=1.10 in /home/jiajinliang/anaconda2/lib/python2.7/site-packages (from matplotlib->seaborn) (1.11.0)\n",
      "Requirement already satisfied: kiwisolver>=1.0.1 in /home/jiajinliang/anaconda2/lib/python2.7/site-packages (from matplotlib->seaborn) (1.0.1)\n",
      "Requirement already satisfied: backports.functools_lru_cache in /home/jiajinliang/anaconda2/lib/python2.7/site-packages (from matplotlib->seaborn) (1.5)\n",
      "Requirement already satisfied: subprocess32 in /home/jiajinliang/anaconda2/lib/python2.7/site-packages (from matplotlib->seaborn) (3.5.0)\n",
      "Requirement already satisfied: setuptools in /home/jiajinliang/anaconda2/lib/python2.7/site-packages (from kiwisolver>=1.0.1->matplotlib->seaborn) (39.1.0)\n",
      "\u001b[33mYou are using pip version 18.1, however version 19.1.1 is available.\n",
      "You should consider upgrading via the 'pip install --upgrade pip' command.\u001b[0m\n"
     ]
    }
   ],
   "source": [
    "!pip install seaborn"
   ]
  },
  {
   "cell_type": "code",
   "execution_count": 33,
   "metadata": {},
   "outputs": [],
   "source": [
    "figs[0].savefig('3.png')"
   ]
  },
  {
   "cell_type": "code",
   "execution_count": 38,
   "metadata": {},
   "outputs": [
    {
     "data": {
      "text/plain": [
       "pandas.io.formats.style.Styler"
      ]
     },
     "execution_count": 38,
     "metadata": {},
     "output_type": "execute_result"
    }
   ],
   "source": [
    "type(df)"
   ]
  },
  {
   "cell_type": "code",
   "execution_count": 37,
   "metadata": {},
   "outputs": [
    {
     "data": {
      "text/plain": [
       "str"
      ]
     },
     "execution_count": 37,
     "metadata": {},
     "output_type": "execute_result"
    }
   ],
   "source": [
    "type(df.render())"
   ]
  },
  {
   "cell_type": "code",
   "execution_count": 40,
   "metadata": {
    "scrolled": false
   },
   "outputs": [
    {
     "name": "stdout",
     "output_type": "stream",
     "text": [
      "process 2056: D-Bus library appears to be incorrectly set up; failed to read machine uuid: UUID file '/etc/machine-id' should contain a hex string of length 32, not length 0, with no other text\n",
      "See the manual page for dbus-uuidgen to correct this issue.\n",
      "Loading page (1/2)\n",
      "[>                                                           ] 0%\r",
      "[======>                                                     ] 10%\r",
      "[==================>                                         ] 31%\r",
      "[==============================>                             ] 50%\r",
      "[============================================================] 100%\r",
      "Rendering (2/2)                                                    \n",
      "[>                                                           ] 0%\r",
      "[===============>                                            ] 25%\r",
      "[============================================================] 100%\r",
      "Done                                                               \n"
     ]
    },
    {
     "data": {
      "text/plain": [
       "True"
      ]
     },
     "execution_count": 40,
     "metadata": {},
     "output_type": "execute_result"
    }
   ],
   "source": [
    "import imgkit\n",
    "html = df.render()\n",
    "options = {\"xvfb\": \"\"}\n",
    "imgkit.from_string(html, \"7.png\", options=options)"
   ]
  },
  {
   "cell_type": "code",
   "execution_count": 4,
   "metadata": {},
   "outputs": [
    {
     "name": "stdout",
     "output_type": "stream",
     "text": [
      "Collecting imgkit\n",
      "  Downloading https://files.pythonhosted.org/packages/e0/84/690cbae32a105d22a212394690ef844e4471c78ed8f40c23a8c6d18606f7/imgkit-1.0.2.tar.gz\n",
      "Building wheels for collected packages: imgkit\n",
      "  Running setup.py bdist_wheel for imgkit ... \u001b[?25ldone\n",
      "\u001b[?25h  Stored in directory: /home/jiajinliang/.cache/pip/wheels/64/34/8e/1719358e8263f9f33217b9f11d1a70d9e122b75afa5732f032\n",
      "Successfully built imgkit\n",
      "Installing collected packages: imgkit\n",
      "Successfully installed imgkit-1.0.2\n",
      "\u001b[33mYou are using pip version 8.1.1, however version 19.1.1 is available.\n",
      "You should consider upgrading via the 'pip install --upgrade pip' command.\u001b[0m\n"
     ]
    }
   ],
   "source": [
    "!pip3 install imgkit"
   ]
  },
  {
   "cell_type": "code",
   "execution_count": 34,
   "metadata": {},
   "outputs": [
    {
     "name": "stdout",
     "output_type": "stream",
     "text": [
      "Collecting wkhtmltoimage\n",
      "\u001b[31m  Could not find a version that satisfies the requirement wkhtmltoimage (from versions: )\u001b[0m\n",
      "\u001b[31mNo matching distribution found for wkhtmltoimage\u001b[0m\n",
      "\u001b[33mYou are using pip version 8.1.1, however version 19.1.1 is available.\n",
      "You should consider upgrading via the 'pip install --upgrade pip' command.\u001b[0m\n"
     ]
    }
   ],
   "source": [
    "!pip3 install wkhtmltoimage"
   ]
  },
  {
   "cell_type": "code",
   "execution_count": 36,
   "metadata": {},
   "outputs": [
    {
     "name": "stderr",
     "output_type": "stream",
     "text": [
      "/home/jiajinliang/.local/lib/python3.5/site-packages/ipykernel_launcher.py:5: FutureWarning: 'pandas.tools.plotting.table' is deprecated, import 'pandas.plotting.table' instead.\n",
      "  \"\"\"\n"
     ]
    },
    {
     "ename": "ValueError",
     "evalue": "Input data must be DataFrame or Series",
     "output_type": "error",
     "traceback": [
      "\u001b[0;31m---------------------------------------------------------------------------\u001b[0m",
      "\u001b[0;31mValueError\u001b[0m                                Traceback (most recent call last)",
      "\u001b[0;32m<ipython-input-36-07c40aa7defd>\u001b[0m in \u001b[0;36m<module>\u001b[0;34m\u001b[0m\n\u001b[1;32m      3\u001b[0m \u001b[0max\u001b[0m\u001b[0;34m.\u001b[0m\u001b[0myaxis\u001b[0m\u001b[0;34m.\u001b[0m\u001b[0mset_visible\u001b[0m\u001b[0;34m(\u001b[0m\u001b[0;32mFalse\u001b[0m\u001b[0;34m)\u001b[0m  \u001b[0;31m# hide the y axis\u001b[0m\u001b[0;34m\u001b[0m\u001b[0m\n\u001b[1;32m      4\u001b[0m \u001b[0;32mfrom\u001b[0m \u001b[0mpandas\u001b[0m\u001b[0;34m.\u001b[0m\u001b[0mtools\u001b[0m\u001b[0;34m.\u001b[0m\u001b[0mplotting\u001b[0m \u001b[0;32mimport\u001b[0m \u001b[0mtable\u001b[0m\u001b[0;34m\u001b[0m\u001b[0m\n\u001b[0;32m----> 5\u001b[0;31m \u001b[0mtable\u001b[0m\u001b[0;34m(\u001b[0m\u001b[0max\u001b[0m\u001b[0;34m,\u001b[0m \u001b[0mdf\u001b[0m\u001b[0;34m)\u001b[0m  \u001b[0;31m# where df is your data frame\u001b[0m\u001b[0;34m\u001b[0m\u001b[0m\n\u001b[0m",
      "\u001b[0;32m~/.local/lib/python3.5/site-packages/pandas/tools/plotting.py\u001b[0m in \u001b[0;36mwrapper\u001b[0;34m(*args, **kwargs)\u001b[0m\n\u001b[1;32m     15\u001b[0m                           \u001b[0;34m\"import 'pandas.plotting.{t}' instead.\"\u001b[0m\u001b[0;34m.\u001b[0m\u001b[0mformat\u001b[0m\u001b[0;34m(\u001b[0m\u001b[0mt\u001b[0m\u001b[0;34m=\u001b[0m\u001b[0mt\u001b[0m\u001b[0;34m)\u001b[0m\u001b[0;34m,\u001b[0m\u001b[0;34m\u001b[0m\u001b[0m\n\u001b[1;32m     16\u001b[0m                           FutureWarning, stacklevel=2)\n\u001b[0;32m---> 17\u001b[0;31m             \u001b[0;32mreturn\u001b[0m \u001b[0mgetattr\u001b[0m\u001b[0;34m(\u001b[0m\u001b[0m_plotting\u001b[0m\u001b[0;34m,\u001b[0m \u001b[0mt\u001b[0m\u001b[0;34m)\u001b[0m\u001b[0;34m(\u001b[0m\u001b[0;34m*\u001b[0m\u001b[0margs\u001b[0m\u001b[0;34m,\u001b[0m \u001b[0;34m**\u001b[0m\u001b[0mkwargs\u001b[0m\u001b[0;34m)\u001b[0m\u001b[0;34m\u001b[0m\u001b[0m\n\u001b[0m\u001b[1;32m     18\u001b[0m         \u001b[0;32mreturn\u001b[0m \u001b[0mwrapper\u001b[0m\u001b[0;34m\u001b[0m\u001b[0m\n\u001b[1;32m     19\u001b[0m \u001b[0;34m\u001b[0m\u001b[0m\n",
      "\u001b[0;32m~/.local/lib/python3.5/site-packages/pandas/plotting/_tools.py\u001b[0m in \u001b[0;36mtable\u001b[0;34m(ax, data, rowLabels, colLabels, **kwargs)\u001b[0m\n\u001b[1;32m     50\u001b[0m         \u001b[0;32mpass\u001b[0m\u001b[0;34m\u001b[0m\u001b[0m\n\u001b[1;32m     51\u001b[0m     \u001b[0;32melse\u001b[0m\u001b[0;34m:\u001b[0m\u001b[0;34m\u001b[0m\u001b[0m\n\u001b[0;32m---> 52\u001b[0;31m         \u001b[0;32mraise\u001b[0m \u001b[0mValueError\u001b[0m\u001b[0;34m(\u001b[0m\u001b[0;34m'Input data must be DataFrame or Series'\u001b[0m\u001b[0;34m)\u001b[0m\u001b[0;34m\u001b[0m\u001b[0m\n\u001b[0m\u001b[1;32m     53\u001b[0m \u001b[0;34m\u001b[0m\u001b[0m\n\u001b[1;32m     54\u001b[0m     \u001b[0;32mif\u001b[0m \u001b[0mrowLabels\u001b[0m \u001b[0;32mis\u001b[0m \u001b[0;32mNone\u001b[0m\u001b[0;34m:\u001b[0m\u001b[0;34m\u001b[0m\u001b[0m\n",
      "\u001b[0;31mValueError\u001b[0m: Input data must be DataFrame or Series"
     ]
    },
    {
     "data": {
      "image/png": "[encoded data removed]",
      "text/plain": [
       "<Figure size 432x288 with 1 Axes>"
      ]
     },
     "metadata": {
      "needs_background": "light"
     },
     "output_type": "display_data"
    }
   ],
   "source": [
    "ax = plt.subplot(111, frame_on=False) # no visible frame\n",
    "ax.xaxis.set_visible(False)  # hide the x axis\n",
    "ax.yaxis.set_visible(False)  # hide the y axis\n",
    "from pandas.tools.plotting import table\n",
    "table(ax, df)  # where df is your data frame\n"
   ]
  },
  {
   "cell_type": "code",
   "execution_count": 59,
   "metadata": {},
   "outputs": [
    {
     "data": {
      "text/html": [
       "<style  type=\"text/css\" >\n",
       "    #T_ce537172_8426_11e9_b8e6_0a0027000011row0_col1 {\n",
       "            color:  red;\n",
       "            : ;\n",
       "            : ;\n",
       "            color:  red;\n",
       "            : ;\n",
       "            : ;\n",
       "            color:  red;\n",
       "            : ;\n",
       "            : ;\n",
       "            color:  red;\n",
       "            : ;\n",
       "            : ;\n",
       "        }    #T_ce537172_8426_11e9_b8e6_0a0027000011row0_col4 {\n",
       "            color:  red;\n",
       "            : ;\n",
       "            : ;\n",
       "            color:  red;\n",
       "            : ;\n",
       "            : ;\n",
       "            color:  red;\n",
       "            : ;\n",
       "            : ;\n",
       "            color:  red;\n",
       "            : ;\n",
       "            : ;\n",
       "        }    #T_ce537172_8426_11e9_b8e6_0a0027000011row1_col1 {\n",
       "            color:  red;\n",
       "            : ;\n",
       "            background-color:  yellow;\n",
       "            color:  red;\n",
       "            : ;\n",
       "            background-color:  yellow;\n",
       "            color:  red;\n",
       "            : ;\n",
       "            background-color:  yellow;\n",
       "            color:  red;\n",
       "            : ;\n",
       "            background-color:  yellow;\n",
       "        }    #T_ce537172_8426_11e9_b8e6_0a0027000011row1_col4 {\n",
       "            color:  red;\n",
       "            : ;\n",
       "            background-color:  yellow;\n",
       "            color:  red;\n",
       "            : ;\n",
       "            background-color:  yellow;\n",
       "            color:  red;\n",
       "            : ;\n",
       "            background-color:  yellow;\n",
       "            color:  red;\n",
       "            : ;\n",
       "            background-color:  yellow;\n",
       "        }    #T_ce537172_8426_11e9_b8e6_0a0027000011row2_col1 {\n",
       "            color:  green;\n",
       "            background-color:  lightgreen;\n",
       "            : ;\n",
       "            color:  green;\n",
       "            background-color:  lightgreen;\n",
       "            : ;\n",
       "            color:  green;\n",
       "            background-color:  lightgreen;\n",
       "            : ;\n",
       "            color:  green;\n",
       "            background-color:  lightgreen;\n",
       "            : ;\n",
       "        }    #T_ce537172_8426_11e9_b8e6_0a0027000011row2_col4 {\n",
       "            color:  green;\n",
       "            background-color:  lightgreen;\n",
       "            : ;\n",
       "            color:  green;\n",
       "            background-color:  lightgreen;\n",
       "            : ;\n",
       "            color:  green;\n",
       "            background-color:  lightgreen;\n",
       "            : ;\n",
       "            color:  green;\n",
       "            background-color:  lightgreen;\n",
       "            : ;\n",
       "        }    #T_ce537172_8426_11e9_b8e6_0a0027000011row3_col1 {\n",
       "            color:  green;\n",
       "            : ;\n",
       "            : ;\n",
       "            color:  green;\n",
       "            : ;\n",
       "            : ;\n",
       "            color:  green;\n",
       "            : ;\n",
       "            : ;\n",
       "            color:  green;\n",
       "            : ;\n",
       "            : ;\n",
       "        }    #T_ce537172_8426_11e9_b8e6_0a0027000011row3_col4 {\n",
       "            color:  green;\n",
       "            : ;\n",
       "            : ;\n",
       "            color:  green;\n",
       "            : ;\n",
       "            : ;\n",
       "            color:  green;\n",
       "            : ;\n",
       "            : ;\n",
       "            color:  green;\n",
       "            : ;\n",
       "            : ;\n",
       "        }    #T_ce537172_8426_11e9_b8e6_0a0027000011row4_col1 {\n",
       "            color:  green;\n",
       "            : ;\n",
       "            : ;\n",
       "            color:  green;\n",
       "            : ;\n",
       "            : ;\n",
       "            color:  green;\n",
       "            : ;\n",
       "            : ;\n",
       "            color:  green;\n",
       "            : ;\n",
       "            : ;\n",
       "        }    #T_ce537172_8426_11e9_b8e6_0a0027000011row4_col4 {\n",
       "            color:  green;\n",
       "            : ;\n",
       "            : ;\n",
       "            color:  green;\n",
       "            : ;\n",
       "            : ;\n",
       "            color:  green;\n",
       "            : ;\n",
       "            : ;\n",
       "            color:  green;\n",
       "            : ;\n",
       "            : ;\n",
       "        }    #T_ce537172_8426_11e9_b8e6_0a0027000011row5_col1 {\n",
       "            color:  green;\n",
       "            : ;\n",
       "            : ;\n",
       "            color:  green;\n",
       "            : ;\n",
       "            : ;\n",
       "            color:  green;\n",
       "            : ;\n",
       "            : ;\n",
       "            color:  green;\n",
       "            : ;\n",
       "            : ;\n",
       "        }    #T_ce537172_8426_11e9_b8e6_0a0027000011row5_col4 {\n",
       "            color:  green;\n",
       "            : ;\n",
       "            : ;\n",
       "            color:  green;\n",
       "            : ;\n",
       "            : ;\n",
       "            color:  green;\n",
       "            : ;\n",
       "            : ;\n",
       "            color:  green;\n",
       "            : ;\n",
       "            : ;\n",
       "        }</style>  \n",
       "<table id=\"T_ce537172_8426_11e9_b8e6_0a0027000011\" > \n",
       "<thead>    <tr> \n",
       "        <th class=\"blank level0\" ></th> \n",
       "        <th class=\"col_heading level0 col0\" >Feature</th> \n",
       "        <th class=\"col_heading level0 col1\" >Contribution</th> \n",
       "        <th class=\"col_heading level0 col2\" >Original Count</th> \n",
       "        <th class=\"col_heading level0 col3\" >tfidf val</th> \n",
       "        <th class=\"col_heading level0 col4\" >Coef</th> \n",
       "        <th class=\"col_heading level0 col5\" >in POSITIVE</th> \n",
       "        <th class=\"col_heading level0 col6\" >in NEGATIVE</th> \n",
       "    </tr></thead> \n",
       "<tbody>    <tr> \n",
       "        <th id=\"T_ce537172_8426_11e9_b8e6_0a0027000011level0_row0\" class=\"row_heading level0 row0\" >0</th> \n",
       "        <td id=\"T_ce537172_8426_11e9_b8e6_0a0027000011row0_col0\" class=\"data row0 col0\" >darn</td> \n",
       "        <td id=\"T_ce537172_8426_11e9_b8e6_0a0027000011row0_col1\" class=\"data row0 col1\" >-0.149763</td> \n",
       "        <td id=\"T_ce537172_8426_11e9_b8e6_0a0027000011row0_col2\" class=\"data row0 col2\" >1</td> \n",
       "        <td id=\"T_ce537172_8426_11e9_b8e6_0a0027000011row0_col3\" class=\"data row0 col3\" >0.476392</td> \n",
       "        <td id=\"T_ce537172_8426_11e9_b8e6_0a0027000011row0_col4\" class=\"data row0 col4\" >-0.314369</td> \n",
       "        <td id=\"T_ce537172_8426_11e9_b8e6_0a0027000011row0_col5\" class=\"data row0 col5\" >1</td> \n",
       "        <td id=\"T_ce537172_8426_11e9_b8e6_0a0027000011row0_col6\" class=\"data row0 col6\" >2</td> \n",
       "    </tr>    <tr> \n",
       "        <th id=\"T_ce537172_8426_11e9_b8e6_0a0027000011level0_row1\" class=\"row_heading level0 row1\" >1</th> \n",
       "        <td id=\"T_ce537172_8426_11e9_b8e6_0a0027000011row1_col0\" class=\"data row1 col0\" >went</td> \n",
       "        <td id=\"T_ce537172_8426_11e9_b8e6_0a0027000011row1_col1\" class=\"data row1 col1\" >-0.274056</td> \n",
       "        <td id=\"T_ce537172_8426_11e9_b8e6_0a0027000011row1_col2\" class=\"data row1 col2\" >1</td> \n",
       "        <td id=\"T_ce537172_8426_11e9_b8e6_0a0027000011row1_col3\" class=\"data row1 col3\" >0.21894</td> \n",
       "        <td id=\"T_ce537172_8426_11e9_b8e6_0a0027000011row1_col4\" class=\"data row1 col4\" >-1.25174</td> \n",
       "        <td id=\"T_ce537172_8426_11e9_b8e6_0a0027000011row1_col5\" class=\"data row1 col5\" >103</td> \n",
       "        <td id=\"T_ce537172_8426_11e9_b8e6_0a0027000011row1_col6\" class=\"data row1 col6\" >205</td> \n",
       "    </tr>    <tr> \n",
       "        <th id=\"T_ce537172_8426_11e9_b8e6_0a0027000011level0_row2\" class=\"row_heading level0 row2\" >2</th> \n",
       "        <td id=\"T_ce537172_8426_11e9_b8e6_0a0027000011row2_col0\" class=\"data row2 col0\" >laser</td> \n",
       "        <td id=\"T_ce537172_8426_11e9_b8e6_0a0027000011row2_col1\" class=\"data row2 col1\" >0.664737</td> \n",
       "        <td id=\"T_ce537172_8426_11e9_b8e6_0a0027000011row2_col2\" class=\"data row2 col2\" >1</td> \n",
       "        <td id=\"T_ce537172_8426_11e9_b8e6_0a0027000011row2_col3\" class=\"data row2 col3\" >0.463177</td> \n",
       "        <td id=\"T_ce537172_8426_11e9_b8e6_0a0027000011row2_col4\" class=\"data row2 col4\" >1.43517</td> \n",
       "        <td id=\"T_ce537172_8426_11e9_b8e6_0a0027000011row2_col5\" class=\"data row2 col5\" >4</td> \n",
       "        <td id=\"T_ce537172_8426_11e9_b8e6_0a0027000011row2_col6\" class=\"data row2 col6\" >0</td> \n",
       "    </tr>    <tr> \n",
       "        <th id=\"T_ce537172_8426_11e9_b8e6_0a0027000011level0_row3\" class=\"row_heading level0 row3\" >3</th> \n",
       "        <td id=\"T_ce537172_8426_11e9_b8e6_0a0027000011row3_col0\" class=\"data row3 col0\" >tag</td> \n",
       "        <td id=\"T_ce537172_8426_11e9_b8e6_0a0027000011row3_col1\" class=\"data row3 col1\" >0.218288</td> \n",
       "        <td id=\"T_ce537172_8426_11e9_b8e6_0a0027000011row3_col2\" class=\"data row3 col2\" >1</td> \n",
       "        <td id=\"T_ce537172_8426_11e9_b8e6_0a0027000011row3_col3\" class=\"data row3 col3\" >0.476392</td> \n",
       "        <td id=\"T_ce537172_8426_11e9_b8e6_0a0027000011row3_col4\" class=\"data row3 col4\" >0.458211</td> \n",
       "        <td id=\"T_ce537172_8426_11e9_b8e6_0a0027000011row3_col5\" class=\"data row3 col5\" >2</td> \n",
       "        <td id=\"T_ce537172_8426_11e9_b8e6_0a0027000011row3_col6\" class=\"data row3 col6\" >1</td> \n",
       "    </tr>    <tr> \n",
       "        <th id=\"T_ce537172_8426_11e9_b8e6_0a0027000011level0_row4\" class=\"row_heading level0 row4\" >4</th> \n",
       "        <td id=\"T_ce537172_8426_11e9_b8e6_0a0027000011row4_col0\" class=\"data row4 col0\" >nice</td> \n",
       "        <td id=\"T_ce537172_8426_11e9_b8e6_0a0027000011row4_col1\" class=\"data row4 col1\" >0.549435</td> \n",
       "        <td id=\"T_ce537172_8426_11e9_b8e6_0a0027000011row4_col2\" class=\"data row4 col2\" >2</td> \n",
       "        <td id=\"T_ce537172_8426_11e9_b8e6_0a0027000011row4_col3\" class=\"data row4 col3\" >0.479745</td> \n",
       "        <td id=\"T_ce537172_8426_11e9_b8e6_0a0027000011row4_col4\" class=\"data row4 col4\" >1.14527</td> \n",
       "        <td id=\"T_ce537172_8426_11e9_b8e6_0a0027000011row4_col5\" class=\"data row4 col5\" >136</td> \n",
       "        <td id=\"T_ce537172_8426_11e9_b8e6_0a0027000011row4_col6\" class=\"data row4 col6\" >80</td> \n",
       "    </tr>    <tr> \n",
       "        <th id=\"T_ce537172_8426_11e9_b8e6_0a0027000011level0_row5\" class=\"row_heading level0 row5\" >5</th> \n",
       "        <td id=\"T_ce537172_8426_11e9_b8e6_0a0027000011row5_col0\" class=\"data row5 col0\" >staff</td> \n",
       "        <td id=\"T_ce537172_8426_11e9_b8e6_0a0027000011row5_col1\" class=\"data row5 col1\" >0.141267</td> \n",
       "        <td id=\"T_ce537172_8426_11e9_b8e6_0a0027000011row5_col2\" class=\"data row5 col2\" >1</td> \n",
       "        <td id=\"T_ce537172_8426_11e9_b8e6_0a0027000011row5_col3\" class=\"data row5 col3\" >0.231252</td> \n",
       "        <td id=\"T_ce537172_8426_11e9_b8e6_0a0027000011row5_col4\" class=\"data row5 col4\" >0.610879</td> \n",
       "        <td id=\"T_ce537172_8426_11e9_b8e6_0a0027000011row5_col5\" class=\"data row5 col5\" >170</td> \n",
       "        <td id=\"T_ce537172_8426_11e9_b8e6_0a0027000011row5_col6\" class=\"data row5 col6\" >80</td> \n",
       "    </tr></tbody> \n",
       "</table> "
      ],
      "text/plain": [
       "<pandas.io.formats.style.Styler at 0x7f3dfafadb00>"
      ]
     },
     "execution_count": 59,
     "metadata": {},
     "output_type": "execute_result"
    }
   ],
   "source": [
    "df"
   ]
  },
  {
   "cell_type": "code",
   "execution_count": 65,
   "metadata": {},
   "outputs": [],
   "source": [
    "def render_mpl_table(data, col_width=3.0, row_height=0.625, font_size=14,\n",
    "                 header_color='#40466e', row_colors=['#f1f1f2', 'w'], edge_color='w',\n",
    "                 bbox=[0, 0, 1, 1], header_columns=0,\n",
    "                 ax=None, **kwargs):\n",
    "    if ax is None:\n",
    "        size = (np.array(data.shape[::-1]) + np.array([0, 1])) * np.array([col_width, row_height])\n",
    "        fig, ax = plt.subplots(figsize=size)\n",
    "        ax.axis('off')\n",
    "\n",
    "    mpl_table = ax.table(cellText=data.values, bbox=bbox, colLabels=data.columns, **kwargs)\n",
    "\n",
    "    mpl_table.auto_set_font_size(False)\n",
    "    mpl_table.set_fontsize(font_size)\n",
    "\n",
    "    for k, cell in  six.iteritems(mpl_table._cells):\n",
    "        cell.set_edgecolor(edge_color)\n",
    "        if k[0] == 0 or k[1] < header_columns:\n",
    "            cell.set_text_props(weight='bold', color='w')\n",
    "            cell.set_facecolor(header_color)\n",
    "        else:\n",
    "            cell.set_facecolor(row_colors[k[0]%len(row_colors) ])\n",
    "    return ax.get_figure()"
   ]
  },
  {
   "cell_type": "code",
   "execution_count": 69,
   "metadata": {},
   "outputs": [
    {
     "ename": "AttributeError",
     "evalue": "'Styler' object has no attribute 'shape'",
     "output_type": "error",
     "traceback": [
      "\u001b[0;31m---------------------------------------------------------------------------\u001b[0m",
      "\u001b[0;31mAttributeError\u001b[0m                            Traceback (most recent call last)",
      "\u001b[0;32m<ipython-input-69-5d5a1eb6475a>\u001b[0m in \u001b[0;36m<module>\u001b[0;34m\u001b[0m\n\u001b[0;32m----> 1\u001b[0;31m \u001b[0mf\u001b[0m \u001b[0;34m=\u001b[0m \u001b[0mrender_mpl_table\u001b[0m\u001b[0;34m(\u001b[0m\u001b[0mdata\u001b[0m\u001b[0;34m=\u001b[0m\u001b[0mdf\u001b[0m\u001b[0;34m,\u001b[0m \u001b[0mheader_columns\u001b[0m\u001b[0;34m=\u001b[0m\u001b[0;36m0\u001b[0m\u001b[0;34m,\u001b[0m \u001b[0mcol_width\u001b[0m\u001b[0;34m=\u001b[0m\u001b[0;36m2.5\u001b[0m\u001b[0;34m)\u001b[0m\u001b[0;34m\u001b[0m\u001b[0m\n\u001b[0m",
      "\u001b[0;32m<ipython-input-65-c9b2e3534aba>\u001b[0m in \u001b[0;36mrender_mpl_table\u001b[0;34m(data, col_width, row_height, font_size, header_color, row_colors, edge_color, bbox, header_columns, ax, **kwargs)\u001b[0m\n\u001b[1;32m      4\u001b[0m                  ax=None, **kwargs):\n\u001b[1;32m      5\u001b[0m     \u001b[0;32mif\u001b[0m \u001b[0max\u001b[0m \u001b[0;32mis\u001b[0m \u001b[0;32mNone\u001b[0m\u001b[0;34m:\u001b[0m\u001b[0;34m\u001b[0m\u001b[0m\n\u001b[0;32m----> 6\u001b[0;31m         \u001b[0msize\u001b[0m \u001b[0;34m=\u001b[0m \u001b[0;34m(\u001b[0m\u001b[0mnp\u001b[0m\u001b[0;34m.\u001b[0m\u001b[0marray\u001b[0m\u001b[0;34m(\u001b[0m\u001b[0mdata\u001b[0m\u001b[0;34m.\u001b[0m\u001b[0mshape\u001b[0m\u001b[0;34m[\u001b[0m\u001b[0;34m:\u001b[0m\u001b[0;34m:\u001b[0m\u001b[0;34m-\u001b[0m\u001b[0;36m1\u001b[0m\u001b[0;34m]\u001b[0m\u001b[0;34m)\u001b[0m \u001b[0;34m+\u001b[0m \u001b[0mnp\u001b[0m\u001b[0;34m.\u001b[0m\u001b[0marray\u001b[0m\u001b[0;34m(\u001b[0m\u001b[0;34m[\u001b[0m\u001b[0;36m0\u001b[0m\u001b[0;34m,\u001b[0m \u001b[0;36m1\u001b[0m\u001b[0;34m]\u001b[0m\u001b[0;34m)\u001b[0m\u001b[0;34m)\u001b[0m \u001b[0;34m*\u001b[0m \u001b[0mnp\u001b[0m\u001b[0;34m.\u001b[0m\u001b[0marray\u001b[0m\u001b[0;34m(\u001b[0m\u001b[0;34m[\u001b[0m\u001b[0mcol_width\u001b[0m\u001b[0;34m,\u001b[0m \u001b[0mrow_height\u001b[0m\u001b[0;34m]\u001b[0m\u001b[0;34m)\u001b[0m\u001b[0;34m\u001b[0m\u001b[0m\n\u001b[0m\u001b[1;32m      7\u001b[0m         \u001b[0mfig\u001b[0m\u001b[0;34m,\u001b[0m \u001b[0max\u001b[0m \u001b[0;34m=\u001b[0m \u001b[0mplt\u001b[0m\u001b[0;34m.\u001b[0m\u001b[0msubplots\u001b[0m\u001b[0;34m(\u001b[0m\u001b[0mfigsize\u001b[0m\u001b[0;34m=\u001b[0m\u001b[0msize\u001b[0m\u001b[0;34m)\u001b[0m\u001b[0;34m\u001b[0m\u001b[0m\n\u001b[1;32m      8\u001b[0m         \u001b[0max\u001b[0m\u001b[0;34m.\u001b[0m\u001b[0maxis\u001b[0m\u001b[0;34m(\u001b[0m\u001b[0;34m'off'\u001b[0m\u001b[0;34m)\u001b[0m\u001b[0;34m\u001b[0m\u001b[0m\n",
      "\u001b[0;31mAttributeError\u001b[0m: 'Styler' object has no attribute 'shape'"
     ]
    }
   ],
   "source": [
    "f = render_mpl_table(data=df, header_columns=0, col_width=2.5)"
   ]
  },
  {
   "cell_type": "code",
   "execution_count": 70,
   "metadata": {},
   "outputs": [
    {
     "data": {
      "text/html": [
       "<style  type=\"text/css\" >\n",
       "    #T_64a1e438_8427_11e9_b8e6_0a0027000011row0_col1 {\n",
       "            color:  red;\n",
       "            : ;\n",
       "            : ;\n",
       "            color:  red;\n",
       "            : ;\n",
       "            : ;\n",
       "        }    #T_64a1e438_8427_11e9_b8e6_0a0027000011row0_col4 {\n",
       "            color:  red;\n",
       "            : ;\n",
       "            : ;\n",
       "            color:  red;\n",
       "            : ;\n",
       "            : ;\n",
       "        }    #T_64a1e438_8427_11e9_b8e6_0a0027000011row1_col1 {\n",
       "            color:  red;\n",
       "            : ;\n",
       "            background-color:  yellow;\n",
       "            color:  red;\n",
       "            : ;\n",
       "            background-color:  yellow;\n",
       "        }    #T_64a1e438_8427_11e9_b8e6_0a0027000011row1_col4 {\n",
       "            color:  red;\n",
       "            : ;\n",
       "            background-color:  yellow;\n",
       "            color:  red;\n",
       "            : ;\n",
       "            background-color:  yellow;\n",
       "        }    #T_64a1e438_8427_11e9_b8e6_0a0027000011row2_col1 {\n",
       "            color:  green;\n",
       "            background-color:  lightgreen;\n",
       "            : ;\n",
       "            color:  green;\n",
       "            background-color:  lightgreen;\n",
       "            : ;\n",
       "        }    #T_64a1e438_8427_11e9_b8e6_0a0027000011row2_col4 {\n",
       "            color:  green;\n",
       "            background-color:  lightgreen;\n",
       "            : ;\n",
       "            color:  green;\n",
       "            background-color:  lightgreen;\n",
       "            : ;\n",
       "        }    #T_64a1e438_8427_11e9_b8e6_0a0027000011row3_col1 {\n",
       "            color:  green;\n",
       "            : ;\n",
       "            : ;\n",
       "            color:  green;\n",
       "            : ;\n",
       "            : ;\n",
       "        }    #T_64a1e438_8427_11e9_b8e6_0a0027000011row3_col4 {\n",
       "            color:  green;\n",
       "            : ;\n",
       "            : ;\n",
       "            color:  green;\n",
       "            : ;\n",
       "            : ;\n",
       "        }    #T_64a1e438_8427_11e9_b8e6_0a0027000011row4_col1 {\n",
       "            color:  green;\n",
       "            : ;\n",
       "            : ;\n",
       "            color:  green;\n",
       "            : ;\n",
       "            : ;\n",
       "        }    #T_64a1e438_8427_11e9_b8e6_0a0027000011row4_col4 {\n",
       "            color:  green;\n",
       "            : ;\n",
       "            : ;\n",
       "            color:  green;\n",
       "            : ;\n",
       "            : ;\n",
       "        }    #T_64a1e438_8427_11e9_b8e6_0a0027000011row5_col1 {\n",
       "            color:  green;\n",
       "            : ;\n",
       "            : ;\n",
       "            color:  green;\n",
       "            : ;\n",
       "            : ;\n",
       "        }    #T_64a1e438_8427_11e9_b8e6_0a0027000011row5_col4 {\n",
       "            color:  green;\n",
       "            : ;\n",
       "            : ;\n",
       "            color:  green;\n",
       "            : ;\n",
       "            : ;\n",
       "        }</style>  \n",
       "<table id=\"T_64a1e438_8427_11e9_b8e6_0a0027000011\" > \n",
       "<thead>    <tr> \n",
       "        <th class=\"blank level0\" ></th> \n",
       "        <th class=\"col_heading level0 col0\" >Feature</th> \n",
       "        <th class=\"col_heading level0 col1\" >Contribution</th> \n",
       "        <th class=\"col_heading level0 col2\" >Original Count</th> \n",
       "        <th class=\"col_heading level0 col3\" >tfidf val</th> \n",
       "        <th class=\"col_heading level0 col4\" >Coef</th> \n",
       "        <th class=\"col_heading level0 col5\" >in POSITIVE</th> \n",
       "        <th class=\"col_heading level0 col6\" >in NEGATIVE</th> \n",
       "    </tr></thead> \n",
       "<tbody>    <tr> \n",
       "        <th id=\"T_64a1e438_8427_11e9_b8e6_0a0027000011level0_row0\" class=\"row_heading level0 row0\" >0</th> \n",
       "        <td id=\"T_64a1e438_8427_11e9_b8e6_0a0027000011row0_col0\" class=\"data row0 col0\" >darn</td> \n",
       "        <td id=\"T_64a1e438_8427_11e9_b8e6_0a0027000011row0_col1\" class=\"data row0 col1\" >-0.149763</td> \n",
       "        <td id=\"T_64a1e438_8427_11e9_b8e6_0a0027000011row0_col2\" class=\"data row0 col2\" >1</td> \n",
       "        <td id=\"T_64a1e438_8427_11e9_b8e6_0a0027000011row0_col3\" class=\"data row0 col3\" >0.476392</td> \n",
       "        <td id=\"T_64a1e438_8427_11e9_b8e6_0a0027000011row0_col4\" class=\"data row0 col4\" >-0.314369</td> \n",
       "        <td id=\"T_64a1e438_8427_11e9_b8e6_0a0027000011row0_col5\" class=\"data row0 col5\" >1</td> \n",
       "        <td id=\"T_64a1e438_8427_11e9_b8e6_0a0027000011row0_col6\" class=\"data row0 col6\" >2</td> \n",
       "    </tr>    <tr> \n",
       "        <th id=\"T_64a1e438_8427_11e9_b8e6_0a0027000011level0_row1\" class=\"row_heading level0 row1\" >1</th> \n",
       "        <td id=\"T_64a1e438_8427_11e9_b8e6_0a0027000011row1_col0\" class=\"data row1 col0\" >went</td> \n",
       "        <td id=\"T_64a1e438_8427_11e9_b8e6_0a0027000011row1_col1\" class=\"data row1 col1\" >-0.274056</td> \n",
       "        <td id=\"T_64a1e438_8427_11e9_b8e6_0a0027000011row1_col2\" class=\"data row1 col2\" >1</td> \n",
       "        <td id=\"T_64a1e438_8427_11e9_b8e6_0a0027000011row1_col3\" class=\"data row1 col3\" >0.21894</td> \n",
       "        <td id=\"T_64a1e438_8427_11e9_b8e6_0a0027000011row1_col4\" class=\"data row1 col4\" >-1.25174</td> \n",
       "        <td id=\"T_64a1e438_8427_11e9_b8e6_0a0027000011row1_col5\" class=\"data row1 col5\" >103</td> \n",
       "        <td id=\"T_64a1e438_8427_11e9_b8e6_0a0027000011row1_col6\" class=\"data row1 col6\" >205</td> \n",
       "    </tr>    <tr> \n",
       "        <th id=\"T_64a1e438_8427_11e9_b8e6_0a0027000011level0_row2\" class=\"row_heading level0 row2\" >2</th> \n",
       "        <td id=\"T_64a1e438_8427_11e9_b8e6_0a0027000011row2_col0\" class=\"data row2 col0\" >laser</td> \n",
       "        <td id=\"T_64a1e438_8427_11e9_b8e6_0a0027000011row2_col1\" class=\"data row2 col1\" >0.664737</td> \n",
       "        <td id=\"T_64a1e438_8427_11e9_b8e6_0a0027000011row2_col2\" class=\"data row2 col2\" >1</td> \n",
       "        <td id=\"T_64a1e438_8427_11e9_b8e6_0a0027000011row2_col3\" class=\"data row2 col3\" >0.463177</td> \n",
       "        <td id=\"T_64a1e438_8427_11e9_b8e6_0a0027000011row2_col4\" class=\"data row2 col4\" >1.43517</td> \n",
       "        <td id=\"T_64a1e438_8427_11e9_b8e6_0a0027000011row2_col5\" class=\"data row2 col5\" >4</td> \n",
       "        <td id=\"T_64a1e438_8427_11e9_b8e6_0a0027000011row2_col6\" class=\"data row2 col6\" >0</td> \n",
       "    </tr>    <tr> \n",
       "        <th id=\"T_64a1e438_8427_11e9_b8e6_0a0027000011level0_row3\" class=\"row_heading level0 row3\" >3</th> \n",
       "        <td id=\"T_64a1e438_8427_11e9_b8e6_0a0027000011row3_col0\" class=\"data row3 col0\" >tag</td> \n",
       "        <td id=\"T_64a1e438_8427_11e9_b8e6_0a0027000011row3_col1\" class=\"data row3 col1\" >0.218288</td> \n",
       "        <td id=\"T_64a1e438_8427_11e9_b8e6_0a0027000011row3_col2\" class=\"data row3 col2\" >1</td> \n",
       "        <td id=\"T_64a1e438_8427_11e9_b8e6_0a0027000011row3_col3\" class=\"data row3 col3\" >0.476392</td> \n",
       "        <td id=\"T_64a1e438_8427_11e9_b8e6_0a0027000011row3_col4\" class=\"data row3 col4\" >0.458211</td> \n",
       "        <td id=\"T_64a1e438_8427_11e9_b8e6_0a0027000011row3_col5\" class=\"data row3 col5\" >2</td> \n",
       "        <td id=\"T_64a1e438_8427_11e9_b8e6_0a0027000011row3_col6\" class=\"data row3 col6\" >1</td> \n",
       "    </tr>    <tr> \n",
       "        <th id=\"T_64a1e438_8427_11e9_b8e6_0a0027000011level0_row4\" class=\"row_heading level0 row4\" >4</th> \n",
       "        <td id=\"T_64a1e438_8427_11e9_b8e6_0a0027000011row4_col0\" class=\"data row4 col0\" >nice</td> \n",
       "        <td id=\"T_64a1e438_8427_11e9_b8e6_0a0027000011row4_col1\" class=\"data row4 col1\" >0.549435</td> \n",
       "        <td id=\"T_64a1e438_8427_11e9_b8e6_0a0027000011row4_col2\" class=\"data row4 col2\" >2</td> \n",
       "        <td id=\"T_64a1e438_8427_11e9_b8e6_0a0027000011row4_col3\" class=\"data row4 col3\" >0.479745</td> \n",
       "        <td id=\"T_64a1e438_8427_11e9_b8e6_0a0027000011row4_col4\" class=\"data row4 col4\" >1.14527</td> \n",
       "        <td id=\"T_64a1e438_8427_11e9_b8e6_0a0027000011row4_col5\" class=\"data row4 col5\" >136</td> \n",
       "        <td id=\"T_64a1e438_8427_11e9_b8e6_0a0027000011row4_col6\" class=\"data row4 col6\" >80</td> \n",
       "    </tr>    <tr> \n",
       "        <th id=\"T_64a1e438_8427_11e9_b8e6_0a0027000011level0_row5\" class=\"row_heading level0 row5\" >5</th> \n",
       "        <td id=\"T_64a1e438_8427_11e9_b8e6_0a0027000011row5_col0\" class=\"data row5 col0\" >staff</td> \n",
       "        <td id=\"T_64a1e438_8427_11e9_b8e6_0a0027000011row5_col1\" class=\"data row5 col1\" >0.141267</td> \n",
       "        <td id=\"T_64a1e438_8427_11e9_b8e6_0a0027000011row5_col2\" class=\"data row5 col2\" >1</td> \n",
       "        <td id=\"T_64a1e438_8427_11e9_b8e6_0a0027000011row5_col3\" class=\"data row5 col3\" >0.231252</td> \n",
       "        <td id=\"T_64a1e438_8427_11e9_b8e6_0a0027000011row5_col4\" class=\"data row5 col4\" >0.610879</td> \n",
       "        <td id=\"T_64a1e438_8427_11e9_b8e6_0a0027000011row5_col5\" class=\"data row5 col5\" >170</td> \n",
       "        <td id=\"T_64a1e438_8427_11e9_b8e6_0a0027000011row5_col6\" class=\"data row5 col6\" >80</td> \n",
       "    </tr></tbody> \n",
       "</table> "
      ],
      "text/plain": [
       "<pandas.io.formats.style.Styler at 0x7f3e080c9860>"
      ]
     },
     "execution_count": 70,
     "metadata": {},
     "output_type": "execute_result"
    }
   ],
   "source": [
    "df"
   ]
  },
  {
   "cell_type": "code",
   "execution_count": 73,
   "metadata": {},
   "outputs": [
    {
     "ename": "NameError",
     "evalue": "name 'subprocess' is not defined",
     "output_type": "error",
     "traceback": [
      "\u001b[0;31m---------------------------------------------------------------------------\u001b[0m",
      "\u001b[0;31mNameError\u001b[0m                                 Traceback (most recent call last)",
      "\u001b[0;32m<ipython-input-73-e7792fc2d651>\u001b[0m in \u001b[0;36m<module>\u001b[0;34m\u001b[0m\n\u001b[1;32m      5\u001b[0m \u001b[0;32mimport\u001b[0m \u001b[0mos\u001b[0m\u001b[0;34m\u001b[0m\u001b[0m\n\u001b[1;32m      6\u001b[0m \u001b[0mto_html\u001b[0m\u001b[0;34m(\u001b[0m\u001b[0mdf\u001b[0m\u001b[0;34m,\u001b[0m\u001b[0;34m'table.html'\u001b[0m\u001b[0;34m)\u001b[0m\u001b[0;34m\u001b[0m\u001b[0m\n\u001b[0;32m----> 7\u001b[0;31m subprocess.call(\n\u001b[0m\u001b[1;32m      8\u001b[0m     'wkhtmltoimage -f png --width 0 table.html table.png', shell=True)\n",
      "\u001b[0;31mNameError\u001b[0m: name 'subprocess' is not defined"
     ]
    }
   ],
   "source": [
    "def to_html(df, path):\n",
    "    f = open(path,'w')\n",
    "    f.write(df.render())\n",
    "    f.close()\n",
    "import os\n",
    "to_html(df,'table.html')\n",
    "subprocess.call(\n",
    "    'wkhtmltoimage -f png --width 0 table.html table.png', shell=True)"
   ]
  },
  {
   "cell_type": "code",
   "execution_count": 76,
   "metadata": {},
   "outputs": [
    {
     "ename": "ImportError",
     "evalue": "No module named 'seaborn'",
     "output_type": "error",
     "traceback": [
      "\u001b[0;31m---------------------------------------------------------------------------\u001b[0m",
      "\u001b[0;31mImportError\u001b[0m                               Traceback (most recent call last)",
      "\u001b[0;32m<ipython-input-76-cbb84a76c8ef>\u001b[0m in \u001b[0;36m<module>\u001b[0;34m\u001b[0m\n\u001b[1;32m      1\u001b[0m \u001b[0;32mimport\u001b[0m \u001b[0mpandas\u001b[0m \u001b[0;32mas\u001b[0m \u001b[0mpd\u001b[0m\u001b[0;34m\u001b[0m\u001b[0m\n\u001b[0;32m----> 2\u001b[0;31m \u001b[0;32mimport\u001b[0m \u001b[0mseaborn\u001b[0m \u001b[0;32mas\u001b[0m \u001b[0msns\u001b[0m\u001b[0;34m\u001b[0m\u001b[0m\n\u001b[0m\u001b[1;32m      3\u001b[0m \u001b[0;34m\u001b[0m\u001b[0m\n\u001b[1;32m      4\u001b[0m \u001b[0mdf\u001b[0m \u001b[0;34m=\u001b[0m \u001b[0mpd\u001b[0m\u001b[0;34m.\u001b[0m\u001b[0mread_csv\u001b[0m\u001b[0;34m(\u001b[0m\u001b[0;34m'LakeLevels.csv'\u001b[0m\u001b[0;34m,\u001b[0m \u001b[0mdelimiter\u001b[0m\u001b[0;34m=\u001b[0m\u001b[0;34m','\u001b[0m\u001b[0;34m,\u001b[0m \u001b[0mindex_col\u001b[0m\u001b[0;34m=\u001b[0m\u001b[0;34m'Year'\u001b[0m\u001b[0;34m)\u001b[0m\u001b[0;34m\u001b[0m\u001b[0m\n\u001b[1;32m      5\u001b[0m \u001b[0msns\u001b[0m\u001b[0;34m.\u001b[0m\u001b[0mheatmap\u001b[0m\u001b[0;34m(\u001b[0m\u001b[0mdf\u001b[0m\u001b[0;34m)\u001b[0m\u001b[0;34m\u001b[0m\u001b[0m\n",
      "\u001b[0;31mImportError\u001b[0m: No module named 'seaborn'"
     ]
    }
   ],
   "source": [
    "import pandas as pd\n",
    "import seaborn as sns\n",
    "\n",
    "df = pd.read_csv('LakeLevels.csv', delimiter=',', index_col='Year')\n",
    "sns.heatmap(df)"
   ]
  },
  {
   "cell_type": "code",
   "execution_count": 78,
   "metadata": {},
   "outputs": [
    {
     "name": "stdout",
     "output_type": "stream",
     "text": [
      "/home/jiajinliang/.local/bin:/home/jiajinliang/bin:/home/jiajinliang/.local/bin:/home/jiajinliang/anaconda2/bin:/usr/local/sbin:/usr/local/bin:/usr/sbin:/usr/bin:/sbin:/bin:/usr/games:/usr/local/games:/mnt/c/Python27:/mnt/c/Python27/Scripts:/mnt/c/ProgramData/Anaconda3:/mnt/c/ProgramData/Anaconda3/Library/mingw-w64/bin:/mnt/c/ProgramData/Anaconda3/Library/usr/bin:/mnt/c/ProgramData/Anaconda3/Library/bin:/mnt/c/ProgramData/Anaconda3/Scripts:/mnt/c/Program Files (x86)/Common Files/Oracle/Java/javapath:/mnt/c/Windows/System32:/mnt/c/Windows:/mnt/c/Windows/System32/wbem:/mnt/c/Windows/System32/WindowsPowerShell/v1.0:/mnt/c/Windows/System32/OpenSSH:/mnt/c/Program Files/Git/cmd:/mnt/c/Program Files/Microsoft VS Code/bin:/mnt/c/Program Files/MATLAB/R2018b/bin:/mnt/c/Program Files/MiKTeX 2.9/miktex/bin/x64:/mnt/c/Program Files/Oracle/VirtualBox:/mnt/c/Program Files/nodejs:/mnt/c/ProgramData/chocolatey/bin:/mnt/c/Users/44380/AppData/Local/Programs/Python/Python37/Scripts:/mnt/c/Users/44380/AppData/Local/Programs/Python/Python37:/mnt/c/Users/44380/AppData/Local/Microsoft/WindowsApps:/mnt/c/Program Files/Heroku/bin:/mnt/c/Users/44380/AppData/Local/Programs/Microsoft VS Code/bin:/mnt/c/Users/44380/AppData/Local/GitHubDesktop/bin:/mnt/c/Modeltech_pe_edu_10.4a/win32pe_edu:/mnt/c/MinGW/msys/1.0/bin:/mnt/c/Users/44380/AppData/Local/Microsoft/WindowsApps:/mnt/c/Users/44380/AppData/Roaming/npm:/snap/bin\r\n"
     ]
    }
   ],
   "source": [
    "!echo $PATH"
   ]
  },
  {
   "cell_type": "code",
   "execution_count": 79,
   "metadata": {},
   "outputs": [
    {
     "name": "stdout",
     "output_type": "stream",
     "text": [
      "python is /home/jiajinliang/anaconda2/bin/python\r\n"
     ]
    }
   ],
   "source": [
    "!type python"
   ]
  },
  {
   "cell_type": "code",
   "execution_count": 80,
   "metadata": {},
   "outputs": [
    {
     "name": "stdout",
     "output_type": "stream",
     "text": [
      "python3 is /usr/bin/python3\r\n"
     ]
    }
   ],
   "source": [
    "!type python3"
   ]
  },
  {
   "cell_type": "code",
   "execution_count": 81,
   "metadata": {},
   "outputs": [
    {
     "name": "stdout",
     "output_type": "stream",
     "text": [
      "pip is /home/jiajinliang/.local/bin/pip\r\n"
     ]
    }
   ],
   "source": [
    "!type pip"
   ]
  },
  {
   "cell_type": "code",
   "execution_count": 82,
   "metadata": {},
   "outputs": [
    {
     "name": "stdout",
     "output_type": "stream",
     "text": [
      "pip3 is /home/jiajinliang/.local/bin/pip3\r\n"
     ]
    }
   ],
   "source": [
    "!type pip3"
   ]
  },
  {
   "cell_type": "code",
   "execution_count": 83,
   "metadata": {},
   "outputs": [
    {
     "name": "stdout",
     "output_type": "stream",
     "text": [
      "-a: not found\r\n",
      "python is /home/jiajinliang/anaconda2/bin/python\r\n"
     ]
    }
   ],
   "source": [
    "!type -a python"
   ]
  },
  {
   "cell_type": "code",
   "execution_count": null,
   "metadata": {},
   "outputs": [],
   "source": []
  }
 ],
 "metadata": {
  "kernelspec": {
   "display_name": "Python 3",
   "language": "python",
   "name": "python3"
  },
  "language_info": {
   "codemirror_mode": {
    "name": "ipython",
    "version": 3
   },
   "file_extension": ".py",
   "mimetype": "text/x-python",
   "name": "python",
   "nbconvert_exporter": "python",
   "pygments_lexer": "ipython3",
   "version": "3.5.2"
  }
 },
 "nbformat": 4,
 "nbformat_minor": 2
}
