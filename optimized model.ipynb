{
 "cells": [
  {
   "cell_type": "code",
   "execution_count": 2,
   "metadata": {},
   "outputs": [],
   "source": [
    "import sentiment as sentimentinterface\n",
    "import classify\n",
    "import numpy as np\n",
    "import matplotlib.pyplot as plt\n",
    "from mpl_toolkits.mplot3d import Axes3D\n",
    "plt.switch_backend('agg')\n",
    "import matplotlib.ticker as ticker\n",
    "%matplotlib inline\n",
    "\n",
    "import importlib"
   ]
  },
  {
   "cell_type": "code",
   "execution_count": 3,
   "metadata": {},
   "outputs": [
    {
     "name": "stdout",
     "output_type": "stream",
     "text": [
      "Reading data\n",
      "-- train data\n",
      "sentiment/train.tsv\n",
      "4582\n",
      "-- dev data\n",
      "sentiment/dev.tsv\n",
      "458\n",
      "-- transforming data and labels\n"
     ]
    }
   ],
   "source": [
    "importlib.reload(sentimentinterface)\n",
    "print(\"Reading data\")\n",
    "tarfname = \"data/sentiment.tar.gz\"\n",
    "sentiment = sentimentinterface.read_data(tarfname)"
   ]
  },
  {
   "cell_type": "code",
   "execution_count": 117,
   "metadata": {},
   "outputs": [
    {
     "name": "stdout",
     "output_type": "stream",
     "text": [
      "  Accuracy on dev is: 0.8187772925764192\n"
     ]
    },
    {
     "data": {
      "text/plain": [
       "0.8187772925764192"
      ]
     },
     "execution_count": 117,
     "metadata": {},
     "output_type": "execute_result"
    }
   ],
   "source": [
    "sentiment.stop_words = sentimentinterface.generate_stop_words(sentiment, diff = 0.4)\n",
    "\n",
    "from sklearn.feature_extraction.text import CountVectorizer\n",
    "\n",
    "sentiment.cv = CountVectorizer(min_df = 3)\n",
    "sentiment.cv.fit_transform(sentiment.train_data)\n",
    "sentiment.mindf_stop_words = sentiment.cv.stop_words_\n",
    "sentiment.cv = CountVectorizer(max_df = 0.2)\n",
    "sentiment.cv.fit_transform(sentiment.train_data)\n",
    "sentiment.maxdf_stop_words = sentiment.cv.stop_words_\n",
    "sentiment.cv = CountVectorizer()\n",
    "sentiment.cv.fit_transform(sentiment.train_data)\n",
    "sentiment.training_set_vocabulary = sentiment.cv.vocabulary_\n",
    "\n",
    "sentimentinterface.vectorize_data(sentiment, stop_words = sentiment.stop_words, max_df = 0.2, min_df = 3)\n",
    "cls = classify.train_classifier(sentiment.trainX, sentiment.trainy, C = 3.7)\n",
    "\n",
    "classify.evaluate(sentiment.devX, sentiment.devy, cls, 'dev')\n",
    "# print(\"\\nReading unlabeled data\")\n",
    "# unlabeled = sentimentinterface.read_unlabeled(tarfname, sentiment)\n",
    "# print(\"Writing predictions to a file\")\n",
    "# sentimentinterface.write_pred_kaggle_file(unlabeled, cls, \"data/sentiment-pred.csv\", sentiment)"
   ]
  },
  {
   "cell_type": "markdown",
   "metadata": {},
   "source": [
    "### Now cls is the optimized model"
   ]
  },
  {
   "cell_type": "code",
   "execution_count": 13,
   "metadata": {},
   "outputs": [],
   "source": [
    "sentence = 'i hate this place, it tastes like minwoo'"
   ]
  },
  {
   "cell_type": "code",
   "execution_count": 14,
   "metadata": {},
   "outputs": [],
   "source": [
    "def vectorize_sentence(sentence, count_vect = sentiment.count_vect):\n",
    "    return count_vect.transform([sentence])"
   ]
  },
  {
   "cell_type": "code",
   "execution_count": 15,
   "metadata": {},
   "outputs": [],
   "source": [
    "veccc = vectorize_sentence(sentence)"
   ]
  },
  {
   "cell_type": "code",
   "execution_count": 16,
   "metadata": {},
   "outputs": [
    {
     "name": "stdout",
     "output_type": "stream",
     "text": [
      "  (0, 850)\t1.0\n"
     ]
    }
   ],
   "source": [
    "print(veccc)"
   ]
  },
  {
   "cell_type": "code",
   "execution_count": 17,
   "metadata": {},
   "outputs": [
    {
     "data": {
      "text/plain": [
       "'hate'"
      ]
     },
     "execution_count": 17,
     "metadata": {},
     "output_type": "execute_result"
    }
   ],
   "source": [
    "sentiment.count_vect.get_feature_names()[850]"
   ]
  },
  {
   "cell_type": "code",
   "execution_count": 19,
   "metadata": {},
   "outputs": [],
   "source": [
    "def predict(sentence, cls = cls):\n",
    "    sentence_vect = vectorize_sentence(sentence)\n",
    "    result = cls.predict(sentence_vect)\n",
    "    if result[0] == 0:\n",
    "        print(\"Prediction: NEGATIVE\")\n",
    "    else:\n",
    "        print(\"Prediction: POSITIVE\")\n",
    "#     return result"
   ]
  },
  {
   "cell_type": "code",
   "execution_count": 41,
   "metadata": {},
   "outputs": [
    {
     "name": "stdout",
     "output_type": "stream",
     "text": [
      "[0]\n"
     ]
    }
   ],
   "source": [
    "sentence = \"Went last night for the first time with my boyfriend. Let me start off by saying I'm vegetarian, but my boyfriend is not. I ordered the chicken v mushroom, it\"\n",
    "print(predict(sentence))"
   ]
  },
  {
   "cell_type": "markdown",
   "metadata": {},
   "source": [
    "### Now explain why it predicted 0"
   ]
  },
  {
   "cell_type": "markdown",
   "metadata": {},
   "source": [
    "#### clean function"
   ]
  },
  {
   "cell_type": "code",
   "execution_count": 134,
   "metadata": {},
   "outputs": [],
   "source": [
    "def clean(s):\n",
    "    from string import punctuation\n",
    "    s_new = []\n",
    "    s_ignored = []\n",
    "    res = []\n",
    "    for c in s:\n",
    "        if c not in punctuation:\n",
    "            s_new.append(c.lower())\n",
    "        else:\n",
    "            s_new.append(' ')\n",
    "            \n",
    "    s = ''.join(c for c in s_new)\n",
    "    #s = [''.join(c for c in s if c not in punctuation)][0]\n",
    "\n",
    "    l = s.split()\n",
    "\n",
    "    for w in l:\n",
    "        if w in sentiment.count_vect.vocabulary_:\n",
    "            res.append(w)\n",
    "        else:\n",
    "            s_ignored.append(w)\n",
    "#     l = [w for w in l if w in sentiment.count_vect.vocabulary_]\n",
    "\n",
    "    return res, s_ignored"
   ]
  },
  {
   "cell_type": "markdown",
   "metadata": {},
   "source": [
    "#### find stop_words"
   ]
  },
  {
   "cell_type": "code",
   "execution_count": 120,
   "metadata": {},
   "outputs": [],
   "source": [
    "def find_stop_words(s_ignored):\n",
    "#     sentence_vect = clean(sentence)\n",
    "    unseen = []\n",
    "    maxdf = []\n",
    "    mindf = []\n",
    "    oliver_algorithm = []\n",
    "    for w in s_ignored:\n",
    "        if w not in sentiment.training_set_vocabulary:\n",
    "            unseen.append(w)\n",
    "        if w in sentiment.maxdf_stop_words:\n",
    "            maxdf.append(w)\n",
    "        if w in sentiment.mindf_stop_words:\n",
    "            mindf.append(w)\n",
    "        if w in sentiment.stop_words:\n",
    "            oliver_algorithm.append(w)\n",
    "            \n",
    "    print(\"Words being ignored due to not appearing in training set are: \")\n",
    "    if len(unseen) == 0:\n",
    "        print(\"None\\n\")\n",
    "    else:\n",
    "        print(unseen)\n",
    "        print('')\n",
    "        \n",
    "    print(\"Words being ignored due to mindf (unfrequent in corpus) are: \")\n",
    "    if len(mindf) == 0:\n",
    "        print(\"None\\n\")\n",
    "    else:\n",
    "        print(mindf)\n",
    "        print('')\n",
    "        \n",
    "    print(\"Words being ignored due to maxdf (too frequent in corpus) are: \")\n",
    "    if len(maxdf) == 0:\n",
    "        print(\"None\\n\")\n",
    "    else:\n",
    "        print(maxdf)\n",
    "        print('')\n",
    "        \n",
    "    print(\"Words being ignored due to our algorithm are: \")\n",
    "    if len(oliver_algorithm) == 0:\n",
    "        print(\"None\\n\")\n",
    "    else:\n",
    "        print(oliver_algorithm)\n",
    "        print('')\n",
    "#     return res\n"
   ]
  },
  {
   "cell_type": "markdown",
   "metadata": {},
   "source": [
    "#### find coef"
   ]
  },
  {
   "cell_type": "markdown",
   "metadata": {},
   "source": [
    "#### Explain the coef"
   ]
  },
  {
   "cell_type": "code",
   "execution_count": 24,
   "metadata": {},
   "outputs": [],
   "source": [
    "p_dict = {}\n",
    "n_dict = {}\n",
    "sentences = sentiment.count_vect.inverse_transform(sentiment.trainX)\n",
    "for counter in range(0, len(sentiment.train_labels)):\n",
    "    if sentiment.train_labels[counter] == \"POSITIVE\":\n",
    "        for w in sentences[counter]:\n",
    "            if w in p_dict:\n",
    "                p_dict[w] += 1\n",
    "            else:\n",
    "                p_dict[w] = 1\n",
    "    else:\n",
    "        for w in sentences[counter]:\n",
    "            if w in n_dict:\n",
    "                n_dict[w] += 1\n",
    "            else:\n",
    "                n_dict[w] = 1"
   ]
  },
  {
   "cell_type": "code",
   "execution_count": 138,
   "metadata": {},
   "outputs": [],
   "source": [
    "def find_coef(sentence_vect, tfidf_vect, stop_words = stop_words, cls = cls, sentiment = sentiment):\n",
    "    import pandas as pd\n",
    "#     sentence_vect = clean(sentence)\n",
    "    word_list = []\n",
    "    coef_list = []\n",
    "    num_p_list = []\n",
    "    num_n_list = []\n",
    "    tfidf_list = []\n",
    "    count_list = []\n",
    "    contribution_list = []\n",
    "    for word in sentence_vect:\n",
    "        if word in sentiment.count_vect.vocabulary_:\n",
    "#             print(word,\"\\'s coef:\\n\", cls.coef_[0][sentiment.count_vect.vocabulary_[word]])\n",
    "            word_list.append(word)\n",
    "            coef = cls.coef_[0][sentiment.count_vect.vocabulary_[word]]\n",
    "            coef_list.append(coef)\n",
    "            tfidf = tfidf_vect.toarray()[0][sentiment.count_vect.vocabulary_[word]]\n",
    "            tfidf_list.append(tfidf)\n",
    "            contribution_list.append(coef*tfidf)\n",
    "            vec = sentiment.cv.transform([sentence])\n",
    "            count_list.append(vec.toarray()[0][sentiment.training_set_vocabulary[word]])\n",
    "            if word in p_dict:\n",
    "                num_p = p_dict[word]\n",
    "            else:\n",
    "                num_p = 0\n",
    "            if word in n_dict:\n",
    "                num_n = n_dict[word]\n",
    "            else:\n",
    "                num_n = 0\n",
    "#             print(\"Number of \",word,\"in POSITIVE reviews: \",num_p,\"\\tNumber of \",word,\"in NEGATIVE reviews: \",num_n,\"\\n\")\n",
    "            num_p_list.append(num_p)\n",
    "            num_n_list.append(num_n)\n",
    "    dic = {'Feature':word_list, 'Coef':coef_list, 'in POSITIVE':num_p_list,\n",
    "          'in NEGATIVE':num_n_list, 'tfidf val':tfidf_list, 'Original Count':count_list,\n",
    "          'Contribution':contribution_list}\n",
    "    df = pd.DataFrame(dic)\n",
    "    df = df[['Feature','Coef','Original Count','tfidf val','Contribution','in POSITIVE','in NEGATIVE']]\n",
    "#     print(df)\n",
    "    return df"
   ]
  },
  {
   "cell_type": "code",
   "execution_count": 161,
   "metadata": {},
   "outputs": [],
   "source": [
    "def color_negative_red(val):\n",
    "    \"\"\"\n",
    "    Takes a scalar and returns a string with\n",
    "    the css property `'color: red'` for negative\n",
    "    strings, black otherwise.\n",
    "    \"\"\"\n",
    "    try:\n",
    "        color = 'red' if float(val) < 0 else 'black'\n",
    "    except ValueError:\n",
    "        color = 'black'\n",
    "\n",
    "    return 'color: %s' % color"
   ]
  },
  {
   "cell_type": "code",
   "execution_count": 162,
   "metadata": {},
   "outputs": [],
   "source": [
    "def analysis(sentence):\n",
    "    sentence_vect, s_ignored = clean(sentence)\n",
    "    tfidf_vect = sentiment.count_vect.transform([sentence])\n",
    "    find_stop_words(s_ignored)\n",
    "    print(\"Remaining words in the vec:\")\n",
    "    print(sentence_vect)\n",
    "    df = find_coef(sentence_vect, tfidf_vect)\n",
    "    df = df.style.applymap(color_negative_red)\n",
    "    return df"
   ]
  },
  {
   "cell_type": "markdown",
   "metadata": {},
   "source": [
    "### Usage"
   ]
  },
  {
   "cell_type": "code",
   "execution_count": 127,
   "metadata": {},
   "outputs": [],
   "source": [
    "sentence = sentiment.train_data[199]"
   ]
  },
  {
   "cell_type": "code",
   "execution_count": 128,
   "metadata": {},
   "outputs": [
    {
     "data": {
      "text/plain": [
       "\"Add me to the disappointed by Optical Experts list. And I'm also not happy that many of their reviews aren't showing up. People should be warned about this business. Like\""
      ]
     },
     "execution_count": 128,
     "metadata": {},
     "output_type": "execute_result"
    }
   ],
   "source": [
    "sentence"
   ]
  },
  {
   "cell_type": "code",
   "execution_count": 129,
   "metadata": {},
   "outputs": [
    {
     "data": {
      "text/plain": [
       "0"
      ]
     },
     "execution_count": 129,
     "metadata": {},
     "output_type": "execute_result"
    }
   ],
   "source": [
    "sentiment.trainy[199]"
   ]
  },
  {
   "cell_type": "code",
   "execution_count": 130,
   "metadata": {
    "scrolled": true
   },
   "outputs": [
    {
     "name": "stdout",
     "output_type": "stream",
     "text": [
      "Prediction: NEGATIVE\n"
     ]
    }
   ],
   "source": [
    "predict(sentence)"
   ]
  },
  {
   "cell_type": "code",
   "execution_count": 163,
   "metadata": {},
   "outputs": [
    {
     "name": "stdout",
     "output_type": "stream",
     "text": [
      "Words being ignored due to not appearing in training set are: \n",
      "['i', 'm', 't']\n",
      "\n",
      "Words being ignored due to mindf (unfrequent in corpus) are: \n",
      "['optical', 'experts']\n",
      "\n",
      "Words being ignored due to maxdf (too frequent in corpus) are: \n",
      "['to', 'the', 'and', 'of', 'this']\n",
      "\n",
      "Words being ignored due to our algorithm are: \n",
      "['add', 'me', 'to', 'the', 'by', 'optical', 'list', 'and', 'that', 'many', 'of', 'their', 'aren', 'showing', 'up', 'people', 'about', 'this', 'business', 'like']\n",
      "\n",
      "Remaining words in the vec:\n",
      "['disappointed', 'also', 'not', 'happy', 'reviews', 'should', 'be', 'warned']\n"
     ]
    },
    {
     "data": {
      "text/html": [
       "<style  type=\"text/css\" >\n",
       "    #T_d2e54230_8271_11e9_a281_b4ae2bc417aarow0_col0 {\n",
       "            color:  black;\n",
       "        }    #T_d2e54230_8271_11e9_a281_b4ae2bc417aarow0_col1 {\n",
       "            color:  red;\n",
       "        }    #T_d2e54230_8271_11e9_a281_b4ae2bc417aarow0_col2 {\n",
       "            color:  black;\n",
       "        }    #T_d2e54230_8271_11e9_a281_b4ae2bc417aarow0_col3 {\n",
       "            color:  black;\n",
       "        }    #T_d2e54230_8271_11e9_a281_b4ae2bc417aarow0_col4 {\n",
       "            color:  red;\n",
       "        }    #T_d2e54230_8271_11e9_a281_b4ae2bc417aarow0_col5 {\n",
       "            color:  black;\n",
       "        }    #T_d2e54230_8271_11e9_a281_b4ae2bc417aarow0_col6 {\n",
       "            color:  black;\n",
       "        }    #T_d2e54230_8271_11e9_a281_b4ae2bc417aarow1_col0 {\n",
       "            color:  black;\n",
       "        }    #T_d2e54230_8271_11e9_a281_b4ae2bc417aarow1_col1 {\n",
       "            color:  black;\n",
       "        }    #T_d2e54230_8271_11e9_a281_b4ae2bc417aarow1_col2 {\n",
       "            color:  black;\n",
       "        }    #T_d2e54230_8271_11e9_a281_b4ae2bc417aarow1_col3 {\n",
       "            color:  black;\n",
       "        }    #T_d2e54230_8271_11e9_a281_b4ae2bc417aarow1_col4 {\n",
       "            color:  black;\n",
       "        }    #T_d2e54230_8271_11e9_a281_b4ae2bc417aarow1_col5 {\n",
       "            color:  black;\n",
       "        }    #T_d2e54230_8271_11e9_a281_b4ae2bc417aarow1_col6 {\n",
       "            color:  black;\n",
       "        }    #T_d2e54230_8271_11e9_a281_b4ae2bc417aarow2_col0 {\n",
       "            color:  black;\n",
       "        }    #T_d2e54230_8271_11e9_a281_b4ae2bc417aarow2_col1 {\n",
       "            color:  red;\n",
       "        }    #T_d2e54230_8271_11e9_a281_b4ae2bc417aarow2_col2 {\n",
       "            color:  black;\n",
       "        }    #T_d2e54230_8271_11e9_a281_b4ae2bc417aarow2_col3 {\n",
       "            color:  black;\n",
       "        }    #T_d2e54230_8271_11e9_a281_b4ae2bc417aarow2_col4 {\n",
       "            color:  red;\n",
       "        }    #T_d2e54230_8271_11e9_a281_b4ae2bc417aarow2_col5 {\n",
       "            color:  black;\n",
       "        }    #T_d2e54230_8271_11e9_a281_b4ae2bc417aarow2_col6 {\n",
       "            color:  black;\n",
       "        }    #T_d2e54230_8271_11e9_a281_b4ae2bc417aarow3_col0 {\n",
       "            color:  black;\n",
       "        }    #T_d2e54230_8271_11e9_a281_b4ae2bc417aarow3_col1 {\n",
       "            color:  black;\n",
       "        }    #T_d2e54230_8271_11e9_a281_b4ae2bc417aarow3_col2 {\n",
       "            color:  black;\n",
       "        }    #T_d2e54230_8271_11e9_a281_b4ae2bc417aarow3_col3 {\n",
       "            color:  black;\n",
       "        }    #T_d2e54230_8271_11e9_a281_b4ae2bc417aarow3_col4 {\n",
       "            color:  black;\n",
       "        }    #T_d2e54230_8271_11e9_a281_b4ae2bc417aarow3_col5 {\n",
       "            color:  black;\n",
       "        }    #T_d2e54230_8271_11e9_a281_b4ae2bc417aarow3_col6 {\n",
       "            color:  black;\n",
       "        }    #T_d2e54230_8271_11e9_a281_b4ae2bc417aarow4_col0 {\n",
       "            color:  black;\n",
       "        }    #T_d2e54230_8271_11e9_a281_b4ae2bc417aarow4_col1 {\n",
       "            color:  red;\n",
       "        }    #T_d2e54230_8271_11e9_a281_b4ae2bc417aarow4_col2 {\n",
       "            color:  black;\n",
       "        }    #T_d2e54230_8271_11e9_a281_b4ae2bc417aarow4_col3 {\n",
       "            color:  black;\n",
       "        }    #T_d2e54230_8271_11e9_a281_b4ae2bc417aarow4_col4 {\n",
       "            color:  red;\n",
       "        }    #T_d2e54230_8271_11e9_a281_b4ae2bc417aarow4_col5 {\n",
       "            color:  black;\n",
       "        }    #T_d2e54230_8271_11e9_a281_b4ae2bc417aarow4_col6 {\n",
       "            color:  black;\n",
       "        }    #T_d2e54230_8271_11e9_a281_b4ae2bc417aarow5_col0 {\n",
       "            color:  black;\n",
       "        }    #T_d2e54230_8271_11e9_a281_b4ae2bc417aarow5_col1 {\n",
       "            color:  red;\n",
       "        }    #T_d2e54230_8271_11e9_a281_b4ae2bc417aarow5_col2 {\n",
       "            color:  black;\n",
       "        }    #T_d2e54230_8271_11e9_a281_b4ae2bc417aarow5_col3 {\n",
       "            color:  black;\n",
       "        }    #T_d2e54230_8271_11e9_a281_b4ae2bc417aarow5_col4 {\n",
       "            color:  red;\n",
       "        }    #T_d2e54230_8271_11e9_a281_b4ae2bc417aarow5_col5 {\n",
       "            color:  black;\n",
       "        }    #T_d2e54230_8271_11e9_a281_b4ae2bc417aarow5_col6 {\n",
       "            color:  black;\n",
       "        }    #T_d2e54230_8271_11e9_a281_b4ae2bc417aarow6_col0 {\n",
       "            color:  black;\n",
       "        }    #T_d2e54230_8271_11e9_a281_b4ae2bc417aarow6_col1 {\n",
       "            color:  red;\n",
       "        }    #T_d2e54230_8271_11e9_a281_b4ae2bc417aarow6_col2 {\n",
       "            color:  black;\n",
       "        }    #T_d2e54230_8271_11e9_a281_b4ae2bc417aarow6_col3 {\n",
       "            color:  black;\n",
       "        }    #T_d2e54230_8271_11e9_a281_b4ae2bc417aarow6_col4 {\n",
       "            color:  red;\n",
       "        }    #T_d2e54230_8271_11e9_a281_b4ae2bc417aarow6_col5 {\n",
       "            color:  black;\n",
       "        }    #T_d2e54230_8271_11e9_a281_b4ae2bc417aarow6_col6 {\n",
       "            color:  black;\n",
       "        }    #T_d2e54230_8271_11e9_a281_b4ae2bc417aarow7_col0 {\n",
       "            color:  black;\n",
       "        }    #T_d2e54230_8271_11e9_a281_b4ae2bc417aarow7_col1 {\n",
       "            color:  black;\n",
       "        }    #T_d2e54230_8271_11e9_a281_b4ae2bc417aarow7_col2 {\n",
       "            color:  black;\n",
       "        }    #T_d2e54230_8271_11e9_a281_b4ae2bc417aarow7_col3 {\n",
       "            color:  black;\n",
       "        }    #T_d2e54230_8271_11e9_a281_b4ae2bc417aarow7_col4 {\n",
       "            color:  black;\n",
       "        }    #T_d2e54230_8271_11e9_a281_b4ae2bc417aarow7_col5 {\n",
       "            color:  black;\n",
       "        }    #T_d2e54230_8271_11e9_a281_b4ae2bc417aarow7_col6 {\n",
       "            color:  black;\n",
       "        }</style>  \n",
       "<table id=\"T_d2e54230_8271_11e9_a281_b4ae2bc417aa\" > \n",
       "<thead>    <tr> \n",
       "        <th class=\"blank level0\" ></th> \n",
       "        <th class=\"col_heading level0 col0\" >Feature</th> \n",
       "        <th class=\"col_heading level0 col1\" >Coef</th> \n",
       "        <th class=\"col_heading level0 col2\" >Original Count</th> \n",
       "        <th class=\"col_heading level0 col3\" >tfidf val</th> \n",
       "        <th class=\"col_heading level0 col4\" >Contribution</th> \n",
       "        <th class=\"col_heading level0 col5\" >in POSITIVE</th> \n",
       "        <th class=\"col_heading level0 col6\" >in NEGATIVE</th> \n",
       "    </tr></thead> \n",
       "<tbody>    <tr> \n",
       "        <th id=\"T_d2e54230_8271_11e9_a281_b4ae2bc417aalevel0_row0\" class=\"row_heading level0 row0\" >0</th> \n",
       "        <td id=\"T_d2e54230_8271_11e9_a281_b4ae2bc417aarow0_col0\" class=\"data row0 col0\" >disappointed</td> \n",
       "        <td id=\"T_d2e54230_8271_11e9_a281_b4ae2bc417aarow0_col1\" class=\"data row0 col1\" >-3.11596</td> \n",
       "        <td id=\"T_d2e54230_8271_11e9_a281_b4ae2bc417aarow0_col2\" class=\"data row0 col2\" >1</td> \n",
       "        <td id=\"T_d2e54230_8271_11e9_a281_b4ae2bc417aarow0_col3\" class=\"data row0 col3\" >0.353444</td> \n",
       "        <td id=\"T_d2e54230_8271_11e9_a281_b4ae2bc417aarow0_col4\" class=\"data row0 col4\" >-1.10132</td> \n",
       "        <td id=\"T_d2e54230_8271_11e9_a281_b4ae2bc417aarow0_col5\" class=\"data row0 col5\" >15</td> \n",
       "        <td id=\"T_d2e54230_8271_11e9_a281_b4ae2bc417aarow0_col6\" class=\"data row0 col6\" >60</td> \n",
       "    </tr>    <tr> \n",
       "        <th id=\"T_d2e54230_8271_11e9_a281_b4ae2bc417aalevel0_row1\" class=\"row_heading level0 row1\" >1</th> \n",
       "        <td id=\"T_d2e54230_8271_11e9_a281_b4ae2bc417aarow1_col0\" class=\"data row1 col0\" >also</td> \n",
       "        <td id=\"T_d2e54230_8271_11e9_a281_b4ae2bc417aarow1_col1\" class=\"data row1 col1\" >0.748521</td> \n",
       "        <td id=\"T_d2e54230_8271_11e9_a281_b4ae2bc417aarow1_col2\" class=\"data row1 col2\" >1</td> \n",
       "        <td id=\"T_d2e54230_8271_11e9_a281_b4ae2bc417aarow1_col3\" class=\"data row1 col3\" >0.325341</td> \n",
       "        <td id=\"T_d2e54230_8271_11e9_a281_b4ae2bc417aarow1_col4\" class=\"data row1 col4\" >0.243524</td> \n",
       "        <td id=\"T_d2e54230_8271_11e9_a281_b4ae2bc417aarow1_col5\" class=\"data row1 col5\" >72</td> \n",
       "        <td id=\"T_d2e54230_8271_11e9_a281_b4ae2bc417aarow1_col6\" class=\"data row1 col6\" >41</td> \n",
       "    </tr>    <tr> \n",
       "        <th id=\"T_d2e54230_8271_11e9_a281_b4ae2bc417aalevel0_row2\" class=\"row_heading level0 row2\" >2</th> \n",
       "        <td id=\"T_d2e54230_8271_11e9_a281_b4ae2bc417aarow2_col0\" class=\"data row2 col0\" >not</td> \n",
       "        <td id=\"T_d2e54230_8271_11e9_a281_b4ae2bc417aarow2_col1\" class=\"data row2 col1\" >-3.32279</td> \n",
       "        <td id=\"T_d2e54230_8271_11e9_a281_b4ae2bc417aarow2_col2\" class=\"data row2 col2\" >1</td> \n",
       "        <td id=\"T_d2e54230_8271_11e9_a281_b4ae2bc417aarow2_col3\" class=\"data row2 col3\" >0.199847</td> \n",
       "        <td id=\"T_d2e54230_8271_11e9_a281_b4ae2bc417aarow2_col4\" class=\"data row2 col4\" >-0.664049</td> \n",
       "        <td id=\"T_d2e54230_8271_11e9_a281_b4ae2bc417aarow2_col5\" class=\"data row2 col5\" >201</td> \n",
       "        <td id=\"T_d2e54230_8271_11e9_a281_b4ae2bc417aarow2_col6\" class=\"data row2 col6\" >495</td> \n",
       "    </tr>    <tr> \n",
       "        <th id=\"T_d2e54230_8271_11e9_a281_b4ae2bc417aalevel0_row3\" class=\"row_heading level0 row3\" >3</th> \n",
       "        <td id=\"T_d2e54230_8271_11e9_a281_b4ae2bc417aarow3_col0\" class=\"data row3 col0\" >happy</td> \n",
       "        <td id=\"T_d2e54230_8271_11e9_a281_b4ae2bc417aarow3_col1\" class=\"data row3 col1\" >1.92795</td> \n",
       "        <td id=\"T_d2e54230_8271_11e9_a281_b4ae2bc417aarow3_col2\" class=\"data row3 col2\" >1</td> \n",
       "        <td id=\"T_d2e54230_8271_11e9_a281_b4ae2bc417aarow3_col3\" class=\"data row3 col3\" >0.353444</td> \n",
       "        <td id=\"T_d2e54230_8271_11e9_a281_b4ae2bc417aarow3_col4\" class=\"data row3 col4\" >0.681423</td> \n",
       "        <td id=\"T_d2e54230_8271_11e9_a281_b4ae2bc417aarow3_col5\" class=\"data row3 col5\" >53</td> \n",
       "        <td id=\"T_d2e54230_8271_11e9_a281_b4ae2bc417aarow3_col6\" class=\"data row3 col6\" >22</td> \n",
       "    </tr>    <tr> \n",
       "        <th id=\"T_d2e54230_8271_11e9_a281_b4ae2bc417aalevel0_row4\" class=\"row_heading level0 row4\" >4</th> \n",
       "        <td id=\"T_d2e54230_8271_11e9_a281_b4ae2bc417aarow4_col0\" class=\"data row4 col0\" >reviews</td> \n",
       "        <td id=\"T_d2e54230_8271_11e9_a281_b4ae2bc417aarow4_col1\" class=\"data row4 col1\" >-0.801296</td> \n",
       "        <td id=\"T_d2e54230_8271_11e9_a281_b4ae2bc417aarow4_col2\" class=\"data row4 col2\" >1</td> \n",
       "        <td id=\"T_d2e54230_8271_11e9_a281_b4ae2bc417aarow4_col3\" class=\"data row4 col3\" >0.32295</td> \n",
       "        <td id=\"T_d2e54230_8271_11e9_a281_b4ae2bc417aarow4_col4\" class=\"data row4 col4\" >-0.258779</td> \n",
       "        <td id=\"T_d2e54230_8271_11e9_a281_b4ae2bc417aarow4_col5\" class=\"data row4 col5\" >37</td> \n",
       "        <td id=\"T_d2e54230_8271_11e9_a281_b4ae2bc417aarow4_col6\" class=\"data row4 col6\" >80</td> \n",
       "    </tr>    <tr> \n",
       "        <th id=\"T_d2e54230_8271_11e9_a281_b4ae2bc417aalevel0_row5\" class=\"row_heading level0 row5\" >5</th> \n",
       "        <td id=\"T_d2e54230_8271_11e9_a281_b4ae2bc417aarow5_col0\" class=\"data row5 col0\" >should</td> \n",
       "        <td id=\"T_d2e54230_8271_11e9_a281_b4ae2bc417aarow5_col1\" class=\"data row5 col1\" >-1.59571</td> \n",
       "        <td id=\"T_d2e54230_8271_11e9_a281_b4ae2bc417aarow5_col2\" class=\"data row5 col2\" >1</td> \n",
       "        <td id=\"T_d2e54230_8271_11e9_a281_b4ae2bc417aarow5_col3\" class=\"data row5 col3\" >0.365355</td> \n",
       "        <td id=\"T_d2e54230_8271_11e9_a281_b4ae2bc417aarow5_col4\" class=\"data row5 col4\" >-0.583</td> \n",
       "        <td id=\"T_d2e54230_8271_11e9_a281_b4ae2bc417aarow5_col5\" class=\"data row5 col5\" >13</td> \n",
       "        <td id=\"T_d2e54230_8271_11e9_a281_b4ae2bc417aarow5_col6\" class=\"data row5 col6\" >50</td> \n",
       "    </tr>    <tr> \n",
       "        <th id=\"T_d2e54230_8271_11e9_a281_b4ae2bc417aalevel0_row6\" class=\"row_heading level0 row6\" >6</th> \n",
       "        <td id=\"T_d2e54230_8271_11e9_a281_b4ae2bc417aarow6_col0\" class=\"data row6 col0\" >be</td> \n",
       "        <td id=\"T_d2e54230_8271_11e9_a281_b4ae2bc417aarow6_col1\" class=\"data row6 col1\" >-1.4173</td> \n",
       "        <td id=\"T_d2e54230_8271_11e9_a281_b4ae2bc417aarow6_col2\" class=\"data row6 col2\" >1</td> \n",
       "        <td id=\"T_d2e54230_8271_11e9_a281_b4ae2bc417aarow6_col3\" class=\"data row6 col3\" >0.23612</td> \n",
       "        <td id=\"T_d2e54230_8271_11e9_a281_b4ae2bc417aarow6_col4\" class=\"data row6 col4\" >-0.334653</td> \n",
       "        <td id=\"T_d2e54230_8271_11e9_a281_b4ae2bc417aarow6_col5\" class=\"data row6 col5\" >153</td> \n",
       "        <td id=\"T_d2e54230_8271_11e9_a281_b4ae2bc417aarow6_col6\" class=\"data row6 col6\" >259</td> \n",
       "    </tr>    <tr> \n",
       "        <th id=\"T_d2e54230_8271_11e9_a281_b4ae2bc417aalevel0_row7\" class=\"row_heading level0 row7\" >7</th> \n",
       "        <td id=\"T_d2e54230_8271_11e9_a281_b4ae2bc417aarow7_col0\" class=\"data row7 col0\" >warned</td> \n",
       "        <td id=\"T_d2e54230_8271_11e9_a281_b4ae2bc417aarow7_col1\" class=\"data row7 col1\" >0.000443161</td> \n",
       "        <td id=\"T_d2e54230_8271_11e9_a281_b4ae2bc417aarow7_col2\" class=\"data row7 col2\" >1</td> \n",
       "        <td id=\"T_d2e54230_8271_11e9_a281_b4ae2bc417aarow7_col3\" class=\"data row7 col3\" >0.557527</td> \n",
       "        <td id=\"T_d2e54230_8271_11e9_a281_b4ae2bc417aarow7_col4\" class=\"data row7 col4\" >0.000247074</td> \n",
       "        <td id=\"T_d2e54230_8271_11e9_a281_b4ae2bc417aarow7_col5\" class=\"data row7 col5\" >1</td> \n",
       "        <td id=\"T_d2e54230_8271_11e9_a281_b4ae2bc417aarow7_col6\" class=\"data row7 col6\" >2</td> \n",
       "    </tr></tbody> \n",
       "</table> "
      ],
      "text/plain": [
       "<pandas.io.formats.style.Styler at 0x7f9cdad55278>"
      ]
     },
     "execution_count": 163,
     "metadata": {},
     "output_type": "execute_result"
    }
   ],
   "source": [
    "df = analysis(sentence)\n",
    "df"
   ]
  },
  {
   "cell_type": "code",
   "execution_count": null,
   "metadata": {},
   "outputs": [],
   "source": []
  },
  {
   "cell_type": "markdown",
   "metadata": {},
   "source": [
    "### Testing Space"
   ]
  },
  {
   "cell_type": "code",
   "execution_count": 108,
   "metadata": {},
   "outputs": [],
   "source": [
    "sentiment.cv = CountVectorizer(min_df = 3)"
   ]
  },
  {
   "cell_type": "code",
   "execution_count": 106,
   "metadata": {},
   "outputs": [
    {
     "data": {
      "text/plain": [
       "9882"
      ]
     },
     "execution_count": 106,
     "metadata": {},
     "output_type": "execute_result"
    }
   ],
   "source": [
    "len(sentiment.cv.vocabulary_)"
   ]
  },
  {
   "cell_type": "code",
   "execution_count": 107,
   "metadata": {},
   "outputs": [
    {
     "data": {
      "text/plain": [
       "set()"
      ]
     },
     "execution_count": 107,
     "metadata": {},
     "output_type": "execute_result"
    }
   ],
   "source": [
    "sentiment.cv.stop_words_"
   ]
  },
  {
   "cell_type": "code",
   "execution_count": 152,
   "metadata": {},
   "outputs": [
    {
     "data": {
      "text/html": [
       "<style  type=\"text/css\" >\n",
       "</style>  \n",
       "<table id=\"T_05c4b402_8271_11e9_a281_b4ae2bc417aa\" > \n",
       "<thead>    <tr> \n",
       "        <th class=\"blank level0\" ></th> \n",
       "        <th class=\"col_heading level0 col0\" >A</th> \n",
       "        <th class=\"col_heading level0 col1\" >B</th> \n",
       "        <th class=\"col_heading level0 col2\" >C</th> \n",
       "        <th class=\"col_heading level0 col3\" >D</th> \n",
       "        <th class=\"col_heading level0 col4\" >E</th> \n",
       "    </tr></thead> \n",
       "<tbody>    <tr> \n",
       "        <th id=\"T_05c4b402_8271_11e9_a281_b4ae2bc417aalevel0_row0\" class=\"row_heading level0 row0\" >0</th> \n",
       "        <td id=\"T_05c4b402_8271_11e9_a281_b4ae2bc417aarow0_col0\" class=\"data row0 col0\" >1</td> \n",
       "        <td id=\"T_05c4b402_8271_11e9_a281_b4ae2bc417aarow0_col1\" class=\"data row0 col1\" >1.32921</td> \n",
       "        <td id=\"T_05c4b402_8271_11e9_a281_b4ae2bc417aarow0_col2\" class=\"data row0 col2\" >nan</td> \n",
       "        <td id=\"T_05c4b402_8271_11e9_a281_b4ae2bc417aarow0_col3\" class=\"data row0 col3\" >-0.31628</td> \n",
       "        <td id=\"T_05c4b402_8271_11e9_a281_b4ae2bc417aarow0_col4\" class=\"data row0 col4\" >-0.99081</td> \n",
       "    </tr>    <tr> \n",
       "        <th id=\"T_05c4b402_8271_11e9_a281_b4ae2bc417aalevel0_row1\" class=\"row_heading level0 row1\" >1</th> \n",
       "        <td id=\"T_05c4b402_8271_11e9_a281_b4ae2bc417aarow1_col0\" class=\"data row1 col0\" >2</td> \n",
       "        <td id=\"T_05c4b402_8271_11e9_a281_b4ae2bc417aarow1_col1\" class=\"data row1 col1\" >-1.07082</td> \n",
       "        <td id=\"T_05c4b402_8271_11e9_a281_b4ae2bc417aarow1_col2\" class=\"data row1 col2\" >-1.43871</td> \n",
       "        <td id=\"T_05c4b402_8271_11e9_a281_b4ae2bc417aarow1_col3\" class=\"data row1 col3\" >0.564417</td> \n",
       "        <td id=\"T_05c4b402_8271_11e9_a281_b4ae2bc417aarow1_col4\" class=\"data row1 col4\" >0.295722</td> \n",
       "    </tr>    <tr> \n",
       "        <th id=\"T_05c4b402_8271_11e9_a281_b4ae2bc417aalevel0_row2\" class=\"row_heading level0 row2\" >2</th> \n",
       "        <td id=\"T_05c4b402_8271_11e9_a281_b4ae2bc417aarow2_col0\" class=\"data row2 col0\" >3</td> \n",
       "        <td id=\"T_05c4b402_8271_11e9_a281_b4ae2bc417aarow2_col1\" class=\"data row2 col1\" >-1.6264</td> \n",
       "        <td id=\"T_05c4b402_8271_11e9_a281_b4ae2bc417aarow2_col2\" class=\"data row2 col2\" >0.219565</td> \n",
       "        <td id=\"T_05c4b402_8271_11e9_a281_b4ae2bc417aarow2_col3\" class=\"data row2 col3\" >0.678805</td> \n",
       "        <td id=\"T_05c4b402_8271_11e9_a281_b4ae2bc417aarow2_col4\" class=\"data row2 col4\" >1.88927</td> \n",
       "    </tr>    <tr> \n",
       "        <th id=\"T_05c4b402_8271_11e9_a281_b4ae2bc417aalevel0_row3\" class=\"row_heading level0 row3\" >3</th> \n",
       "        <td id=\"T_05c4b402_8271_11e9_a281_b4ae2bc417aarow3_col0\" class=\"data row3 col0\" >4</td> \n",
       "        <td id=\"T_05c4b402_8271_11e9_a281_b4ae2bc417aarow3_col1\" class=\"data row3 col1\" >0.961538</td> \n",
       "        <td id=\"T_05c4b402_8271_11e9_a281_b4ae2bc417aarow3_col2\" class=\"data row3 col2\" >0.104011</td> \n",
       "        <td id=\"T_05c4b402_8271_11e9_a281_b4ae2bc417aarow3_col3\" class=\"data row3 col3\" >-0.481165</td> \n",
       "        <td id=\"T_05c4b402_8271_11e9_a281_b4ae2bc417aarow3_col4\" class=\"data row3 col4\" >0.850229</td> \n",
       "    </tr>    <tr> \n",
       "        <th id=\"T_05c4b402_8271_11e9_a281_b4ae2bc417aalevel0_row4\" class=\"row_heading level0 row4\" >4</th> \n",
       "        <td id=\"T_05c4b402_8271_11e9_a281_b4ae2bc417aarow4_col0\" class=\"data row4 col0\" >5</td> \n",
       "        <td id=\"T_05c4b402_8271_11e9_a281_b4ae2bc417aarow4_col1\" class=\"data row4 col1\" >1.45342</td> \n",
       "        <td id=\"T_05c4b402_8271_11e9_a281_b4ae2bc417aarow4_col2\" class=\"data row4 col2\" >1.05774</td> \n",
       "        <td id=\"T_05c4b402_8271_11e9_a281_b4ae2bc417aarow4_col3\" class=\"data row4 col3\" >0.165562</td> \n",
       "        <td id=\"T_05c4b402_8271_11e9_a281_b4ae2bc417aarow4_col4\" class=\"data row4 col4\" >0.515018</td> \n",
       "    </tr>    <tr> \n",
       "        <th id=\"T_05c4b402_8271_11e9_a281_b4ae2bc417aalevel0_row5\" class=\"row_heading level0 row5\" >5</th> \n",
       "        <td id=\"T_05c4b402_8271_11e9_a281_b4ae2bc417aarow5_col0\" class=\"data row5 col0\" >6</td> \n",
       "        <td id=\"T_05c4b402_8271_11e9_a281_b4ae2bc417aarow5_col1\" class=\"data row5 col1\" >-1.33694</td> \n",
       "        <td id=\"T_05c4b402_8271_11e9_a281_b4ae2bc417aarow5_col2\" class=\"data row5 col2\" >0.562861</td> \n",
       "        <td id=\"T_05c4b402_8271_11e9_a281_b4ae2bc417aarow5_col3\" class=\"data row5 col3\" >1.39285</td> \n",
       "        <td id=\"T_05c4b402_8271_11e9_a281_b4ae2bc417aarow5_col4\" class=\"data row5 col4\" >-0.063328</td> \n",
       "    </tr>    <tr> \n",
       "        <th id=\"T_05c4b402_8271_11e9_a281_b4ae2bc417aalevel0_row6\" class=\"row_heading level0 row6\" >6</th> \n",
       "        <td id=\"T_05c4b402_8271_11e9_a281_b4ae2bc417aarow6_col0\" class=\"data row6 col0\" >7</td> \n",
       "        <td id=\"T_05c4b402_8271_11e9_a281_b4ae2bc417aarow6_col1\" class=\"data row6 col1\" >0.121668</td> \n",
       "        <td id=\"T_05c4b402_8271_11e9_a281_b4ae2bc417aarow6_col2\" class=\"data row6 col2\" >1.2076</td> \n",
       "        <td id=\"T_05c4b402_8271_11e9_a281_b4ae2bc417aarow6_col3\" class=\"data row6 col3\" >-0.00204021</td> \n",
       "        <td id=\"T_05c4b402_8271_11e9_a281_b4ae2bc417aarow6_col4\" class=\"data row6 col4\" >1.6278</td> \n",
       "    </tr>    <tr> \n",
       "        <th id=\"T_05c4b402_8271_11e9_a281_b4ae2bc417aalevel0_row7\" class=\"row_heading level0 row7\" >7</th> \n",
       "        <td id=\"T_05c4b402_8271_11e9_a281_b4ae2bc417aarow7_col0\" class=\"data row7 col0\" >8</td> \n",
       "        <td id=\"T_05c4b402_8271_11e9_a281_b4ae2bc417aarow7_col1\" class=\"data row7 col1\" >0.354493</td> \n",
       "        <td id=\"T_05c4b402_8271_11e9_a281_b4ae2bc417aarow7_col2\" class=\"data row7 col2\" >1.03753</td> \n",
       "        <td id=\"T_05c4b402_8271_11e9_a281_b4ae2bc417aarow7_col3\" class=\"data row7 col3\" >-0.385684</td> \n",
       "        <td id=\"T_05c4b402_8271_11e9_a281_b4ae2bc417aarow7_col4\" class=\"data row7 col4\" >0.519818</td> \n",
       "    </tr>    <tr> \n",
       "        <th id=\"T_05c4b402_8271_11e9_a281_b4ae2bc417aalevel0_row8\" class=\"row_heading level0 row8\" >8</th> \n",
       "        <td id=\"T_05c4b402_8271_11e9_a281_b4ae2bc417aarow8_col0\" class=\"data row8 col0\" >9</td> \n",
       "        <td id=\"T_05c4b402_8271_11e9_a281_b4ae2bc417aarow8_col1\" class=\"data row8 col1\" >1.68658</td> \n",
       "        <td id=\"T_05c4b402_8271_11e9_a281_b4ae2bc417aarow8_col2\" class=\"data row8 col2\" >-1.32596</td> \n",
       "        <td id=\"T_05c4b402_8271_11e9_a281_b4ae2bc417aarow8_col3\" class=\"data row8 col3\" >1.42898</td> \n",
       "        <td id=\"T_05c4b402_8271_11e9_a281_b4ae2bc417aarow8_col4\" class=\"data row8 col4\" >-2.08935</td> \n",
       "    </tr>    <tr> \n",
       "        <th id=\"T_05c4b402_8271_11e9_a281_b4ae2bc417aalevel0_row9\" class=\"row_heading level0 row9\" >9</th> \n",
       "        <td id=\"T_05c4b402_8271_11e9_a281_b4ae2bc417aarow9_col0\" class=\"data row9 col0\" >10</td> \n",
       "        <td id=\"T_05c4b402_8271_11e9_a281_b4ae2bc417aarow9_col1\" class=\"data row9 col1\" >-0.12982</td> \n",
       "        <td id=\"T_05c4b402_8271_11e9_a281_b4ae2bc417aarow9_col2\" class=\"data row9 col2\" >0.631523</td> \n",
       "        <td id=\"T_05c4b402_8271_11e9_a281_b4ae2bc417aarow9_col3\" class=\"data row9 col3\" >-0.586538</td> \n",
       "        <td id=\"T_05c4b402_8271_11e9_a281_b4ae2bc417aarow9_col4\" class=\"data row9 col4\" >0.29072</td> \n",
       "    </tr></tbody> \n",
       "</table> "
      ],
      "text/plain": [
       "<pandas.io.formats.style.Styler at 0x7f9cdadfa208>"
      ]
     },
     "execution_count": 152,
     "metadata": {},
     "output_type": "execute_result"
    }
   ],
   "source": [
    "import pandas as pd\n",
    "import numpy as np\n",
    "\n",
    "np.random.seed(24)\n",
    "df = pd.DataFrame({'A': np.linspace(1, 10, 10)})\n",
    "df = pd.concat([df, pd.DataFrame(np.random.randn(10, 4), columns=list('BCDE'))],\n",
    "               axis=1)\n",
    "df.iloc[0, 2] = np.nan\n",
    "df.style"
   ]
  },
  {
   "cell_type": "code",
   "execution_count": 154,
   "metadata": {},
   "outputs": [
    {
     "ename": "ValueError",
     "evalue": "('cannot convert float NaN to integer', 'occurred at index C')",
     "output_type": "error",
     "traceback": [
      "\u001b[0;31m---------------------------------------------------------------------------\u001b[0m",
      "\u001b[0;31mValueError\u001b[0m                                Traceback (most recent call last)",
      "\u001b[0;32m~/.local/lib/python3.5/site-packages/IPython/core/formatters.py\u001b[0m in \u001b[0;36m__call__\u001b[0;34m(self, obj)\u001b[0m\n\u001b[1;32m    343\u001b[0m             \u001b[0mmethod\u001b[0m \u001b[0;34m=\u001b[0m \u001b[0mget_real_method\u001b[0m\u001b[0;34m(\u001b[0m\u001b[0mobj\u001b[0m\u001b[0;34m,\u001b[0m \u001b[0mself\u001b[0m\u001b[0;34m.\u001b[0m\u001b[0mprint_method\u001b[0m\u001b[0;34m)\u001b[0m\u001b[0;34m\u001b[0m\u001b[0m\n\u001b[1;32m    344\u001b[0m             \u001b[0;32mif\u001b[0m \u001b[0mmethod\u001b[0m \u001b[0;32mis\u001b[0m \u001b[0;32mnot\u001b[0m \u001b[0;32mNone\u001b[0m\u001b[0;34m:\u001b[0m\u001b[0;34m\u001b[0m\u001b[0m\n\u001b[0;32m--> 345\u001b[0;31m                 \u001b[0;32mreturn\u001b[0m \u001b[0mmethod\u001b[0m\u001b[0;34m(\u001b[0m\u001b[0;34m)\u001b[0m\u001b[0;34m\u001b[0m\u001b[0m\n\u001b[0m\u001b[1;32m    346\u001b[0m             \u001b[0;32mreturn\u001b[0m \u001b[0;32mNone\u001b[0m\u001b[0;34m\u001b[0m\u001b[0m\n\u001b[1;32m    347\u001b[0m         \u001b[0;32melse\u001b[0m\u001b[0;34m:\u001b[0m\u001b[0;34m\u001b[0m\u001b[0m\n",
      "\u001b[0;32m~/.local/lib/python3.5/site-packages/pandas/io/formats/style.py\u001b[0m in \u001b[0;36m_repr_html_\u001b[0;34m(self)\u001b[0m\n\u001b[1;32m    149\u001b[0m     \u001b[0;32mdef\u001b[0m \u001b[0m_repr_html_\u001b[0m\u001b[0;34m(\u001b[0m\u001b[0mself\u001b[0m\u001b[0;34m)\u001b[0m\u001b[0;34m:\u001b[0m\u001b[0;34m\u001b[0m\u001b[0m\n\u001b[1;32m    150\u001b[0m         \u001b[0;34m\"\"\"Hooks into Jupyter notebook rich display system.\"\"\"\u001b[0m\u001b[0;34m\u001b[0m\u001b[0m\n\u001b[0;32m--> 151\u001b[0;31m         \u001b[0;32mreturn\u001b[0m \u001b[0mself\u001b[0m\u001b[0;34m.\u001b[0m\u001b[0mrender\u001b[0m\u001b[0;34m(\u001b[0m\u001b[0;34m)\u001b[0m\u001b[0;34m\u001b[0m\u001b[0m\n\u001b[0m\u001b[1;32m    152\u001b[0m \u001b[0;34m\u001b[0m\u001b[0m\n\u001b[1;32m    153\u001b[0m     @Appender(_shared_docs['to_excel'] % dict(\n",
      "\u001b[0;32m~/.local/lib/python3.5/site-packages/pandas/io/formats/style.py\u001b[0m in \u001b[0;36mrender\u001b[0;34m(self, **kwargs)\u001b[0m\n\u001b[1;32m    444\u001b[0m         \u001b[0;34m*\u001b[0m \u001b[0mtable_attributes\u001b[0m\u001b[0;34m\u001b[0m\u001b[0m\n\u001b[1;32m    445\u001b[0m         \"\"\"\n\u001b[0;32m--> 446\u001b[0;31m         \u001b[0mself\u001b[0m\u001b[0;34m.\u001b[0m\u001b[0m_compute\u001b[0m\u001b[0;34m(\u001b[0m\u001b[0;34m)\u001b[0m\u001b[0;34m\u001b[0m\u001b[0m\n\u001b[0m\u001b[1;32m    447\u001b[0m         \u001b[0;31m# TODO: namespace all the pandas keys\u001b[0m\u001b[0;34m\u001b[0m\u001b[0;34m\u001b[0m\u001b[0m\n\u001b[1;32m    448\u001b[0m         \u001b[0md\u001b[0m \u001b[0;34m=\u001b[0m \u001b[0mself\u001b[0m\u001b[0;34m.\u001b[0m\u001b[0m_translate\u001b[0m\u001b[0;34m(\u001b[0m\u001b[0;34m)\u001b[0m\u001b[0;34m\u001b[0m\u001b[0m\n",
      "\u001b[0;32m~/.local/lib/python3.5/site-packages/pandas/io/formats/style.py\u001b[0m in \u001b[0;36m_compute\u001b[0;34m(self)\u001b[0m\n\u001b[1;32m    512\u001b[0m         \u001b[0mr\u001b[0m \u001b[0;34m=\u001b[0m \u001b[0mself\u001b[0m\u001b[0;34m\u001b[0m\u001b[0m\n\u001b[1;32m    513\u001b[0m         \u001b[0;32mfor\u001b[0m \u001b[0mfunc\u001b[0m\u001b[0;34m,\u001b[0m \u001b[0margs\u001b[0m\u001b[0;34m,\u001b[0m \u001b[0mkwargs\u001b[0m \u001b[0;32min\u001b[0m \u001b[0mself\u001b[0m\u001b[0;34m.\u001b[0m\u001b[0m_todo\u001b[0m\u001b[0;34m:\u001b[0m\u001b[0;34m\u001b[0m\u001b[0m\n\u001b[0;32m--> 514\u001b[0;31m             \u001b[0mr\u001b[0m \u001b[0;34m=\u001b[0m \u001b[0mfunc\u001b[0m\u001b[0;34m(\u001b[0m\u001b[0mself\u001b[0m\u001b[0;34m)\u001b[0m\u001b[0;34m(\u001b[0m\u001b[0;34m*\u001b[0m\u001b[0margs\u001b[0m\u001b[0;34m,\u001b[0m \u001b[0;34m**\u001b[0m\u001b[0mkwargs\u001b[0m\u001b[0;34m)\u001b[0m\u001b[0;34m\u001b[0m\u001b[0m\n\u001b[0m\u001b[1;32m    515\u001b[0m         \u001b[0;32mreturn\u001b[0m \u001b[0mr\u001b[0m\u001b[0;34m\u001b[0m\u001b[0m\n\u001b[1;32m    516\u001b[0m \u001b[0;34m\u001b[0m\u001b[0m\n",
      "\u001b[0;32m~/.local/lib/python3.5/site-packages/pandas/io/formats/style.py\u001b[0m in \u001b[0;36m_applymap\u001b[0;34m(self, func, subset, **kwargs)\u001b[0m\n\u001b[1;32m    602\u001b[0m             \u001b[0msubset\u001b[0m \u001b[0;34m=\u001b[0m \u001b[0mpd\u001b[0m\u001b[0;34m.\u001b[0m\u001b[0mIndexSlice\u001b[0m\u001b[0;34m[\u001b[0m\u001b[0;34m:\u001b[0m\u001b[0;34m]\u001b[0m\u001b[0;34m\u001b[0m\u001b[0m\n\u001b[1;32m    603\u001b[0m         \u001b[0msubset\u001b[0m \u001b[0;34m=\u001b[0m \u001b[0m_non_reducing_slice\u001b[0m\u001b[0;34m(\u001b[0m\u001b[0msubset\u001b[0m\u001b[0;34m)\u001b[0m\u001b[0;34m\u001b[0m\u001b[0m\n\u001b[0;32m--> 604\u001b[0;31m         \u001b[0mresult\u001b[0m \u001b[0;34m=\u001b[0m \u001b[0mself\u001b[0m\u001b[0;34m.\u001b[0m\u001b[0mdata\u001b[0m\u001b[0;34m.\u001b[0m\u001b[0mloc\u001b[0m\u001b[0;34m[\u001b[0m\u001b[0msubset\u001b[0m\u001b[0;34m]\u001b[0m\u001b[0;34m.\u001b[0m\u001b[0mapplymap\u001b[0m\u001b[0;34m(\u001b[0m\u001b[0mfunc\u001b[0m\u001b[0;34m)\u001b[0m\u001b[0;34m\u001b[0m\u001b[0m\n\u001b[0m\u001b[1;32m    605\u001b[0m         \u001b[0mself\u001b[0m\u001b[0;34m.\u001b[0m\u001b[0m_update_ctx\u001b[0m\u001b[0;34m(\u001b[0m\u001b[0mresult\u001b[0m\u001b[0;34m)\u001b[0m\u001b[0;34m\u001b[0m\u001b[0m\n\u001b[1;32m    606\u001b[0m         \u001b[0;32mreturn\u001b[0m \u001b[0mself\u001b[0m\u001b[0;34m\u001b[0m\u001b[0m\n",
      "\u001b[0;32m~/.local/lib/python3.5/site-packages/pandas/core/frame.py\u001b[0m in \u001b[0;36mapplymap\u001b[0;34m(self, func)\u001b[0m\n\u001b[1;32m   6070\u001b[0m             \u001b[0;32mreturn\u001b[0m \u001b[0mlib\u001b[0m\u001b[0;34m.\u001b[0m\u001b[0mmap_infer\u001b[0m\u001b[0;34m(\u001b[0m\u001b[0mx\u001b[0m\u001b[0;34m.\u001b[0m\u001b[0mastype\u001b[0m\u001b[0;34m(\u001b[0m\u001b[0mobject\u001b[0m\u001b[0;34m)\u001b[0m\u001b[0;34m.\u001b[0m\u001b[0mvalues\u001b[0m\u001b[0;34m,\u001b[0m \u001b[0mfunc\u001b[0m\u001b[0;34m)\u001b[0m\u001b[0;34m\u001b[0m\u001b[0m\n\u001b[1;32m   6071\u001b[0m \u001b[0;34m\u001b[0m\u001b[0m\n\u001b[0;32m-> 6072\u001b[0;31m         \u001b[0;32mreturn\u001b[0m \u001b[0mself\u001b[0m\u001b[0;34m.\u001b[0m\u001b[0mapply\u001b[0m\u001b[0;34m(\u001b[0m\u001b[0minfer\u001b[0m\u001b[0;34m)\u001b[0m\u001b[0;34m\u001b[0m\u001b[0m\n\u001b[0m\u001b[1;32m   6073\u001b[0m \u001b[0;34m\u001b[0m\u001b[0m\n\u001b[1;32m   6074\u001b[0m     \u001b[0;31m# ----------------------------------------------------------------------\u001b[0m\u001b[0;34m\u001b[0m\u001b[0;34m\u001b[0m\u001b[0m\n",
      "\u001b[0;32m~/.local/lib/python3.5/site-packages/pandas/core/frame.py\u001b[0m in \u001b[0;36mapply\u001b[0;34m(self, func, axis, broadcast, raw, reduce, result_type, args, **kwds)\u001b[0m\n\u001b[1;32m   6012\u001b[0m                          \u001b[0margs\u001b[0m\u001b[0;34m=\u001b[0m\u001b[0margs\u001b[0m\u001b[0;34m,\u001b[0m\u001b[0;34m\u001b[0m\u001b[0m\n\u001b[1;32m   6013\u001b[0m                          kwds=kwds)\n\u001b[0;32m-> 6014\u001b[0;31m         \u001b[0;32mreturn\u001b[0m \u001b[0mop\u001b[0m\u001b[0;34m.\u001b[0m\u001b[0mget_result\u001b[0m\u001b[0;34m(\u001b[0m\u001b[0;34m)\u001b[0m\u001b[0;34m\u001b[0m\u001b[0m\n\u001b[0m\u001b[1;32m   6015\u001b[0m \u001b[0;34m\u001b[0m\u001b[0m\n\u001b[1;32m   6016\u001b[0m     \u001b[0;32mdef\u001b[0m \u001b[0mapplymap\u001b[0m\u001b[0;34m(\u001b[0m\u001b[0mself\u001b[0m\u001b[0;34m,\u001b[0m \u001b[0mfunc\u001b[0m\u001b[0;34m)\u001b[0m\u001b[0;34m:\u001b[0m\u001b[0;34m\u001b[0m\u001b[0m\n",
      "\u001b[0;32m~/.local/lib/python3.5/site-packages/pandas/core/apply.py\u001b[0m in \u001b[0;36mget_result\u001b[0;34m(self)\u001b[0m\n\u001b[1;32m    316\u001b[0m                                       *self.args, **self.kwds)\n\u001b[1;32m    317\u001b[0m \u001b[0;34m\u001b[0m\u001b[0m\n\u001b[0;32m--> 318\u001b[0;31m         \u001b[0;32mreturn\u001b[0m \u001b[0msuper\u001b[0m\u001b[0;34m(\u001b[0m\u001b[0mFrameRowApply\u001b[0m\u001b[0;34m,\u001b[0m \u001b[0mself\u001b[0m\u001b[0;34m)\u001b[0m\u001b[0;34m.\u001b[0m\u001b[0mget_result\u001b[0m\u001b[0;34m(\u001b[0m\u001b[0;34m)\u001b[0m\u001b[0;34m\u001b[0m\u001b[0m\n\u001b[0m\u001b[1;32m    319\u001b[0m \u001b[0;34m\u001b[0m\u001b[0m\n\u001b[1;32m    320\u001b[0m     \u001b[0;32mdef\u001b[0m \u001b[0mapply_broadcast\u001b[0m\u001b[0;34m(\u001b[0m\u001b[0mself\u001b[0m\u001b[0;34m)\u001b[0m\u001b[0;34m:\u001b[0m\u001b[0;34m\u001b[0m\u001b[0m\n",
      "\u001b[0;32m~/.local/lib/python3.5/site-packages/pandas/core/apply.py\u001b[0m in \u001b[0;36mget_result\u001b[0;34m(self)\u001b[0m\n\u001b[1;32m    140\u001b[0m             \u001b[0;32mreturn\u001b[0m \u001b[0mself\u001b[0m\u001b[0;34m.\u001b[0m\u001b[0mapply_raw\u001b[0m\u001b[0;34m(\u001b[0m\u001b[0;34m)\u001b[0m\u001b[0;34m\u001b[0m\u001b[0m\n\u001b[1;32m    141\u001b[0m \u001b[0;34m\u001b[0m\u001b[0m\n\u001b[0;32m--> 142\u001b[0;31m         \u001b[0;32mreturn\u001b[0m \u001b[0mself\u001b[0m\u001b[0;34m.\u001b[0m\u001b[0mapply_standard\u001b[0m\u001b[0;34m(\u001b[0m\u001b[0;34m)\u001b[0m\u001b[0;34m\u001b[0m\u001b[0m\n\u001b[0m\u001b[1;32m    143\u001b[0m \u001b[0;34m\u001b[0m\u001b[0m\n\u001b[1;32m    144\u001b[0m     \u001b[0;32mdef\u001b[0m \u001b[0mapply_empty_result\u001b[0m\u001b[0;34m(\u001b[0m\u001b[0mself\u001b[0m\u001b[0;34m)\u001b[0m\u001b[0;34m:\u001b[0m\u001b[0;34m\u001b[0m\u001b[0m\n",
      "\u001b[0;32m~/.local/lib/python3.5/site-packages/pandas/core/apply.py\u001b[0m in \u001b[0;36mapply_standard\u001b[0;34m(self)\u001b[0m\n\u001b[1;32m    246\u001b[0m \u001b[0;34m\u001b[0m\u001b[0m\n\u001b[1;32m    247\u001b[0m         \u001b[0;31m# compute the result using the series generator\u001b[0m\u001b[0;34m\u001b[0m\u001b[0;34m\u001b[0m\u001b[0m\n\u001b[0;32m--> 248\u001b[0;31m         \u001b[0mself\u001b[0m\u001b[0;34m.\u001b[0m\u001b[0mapply_series_generator\u001b[0m\u001b[0;34m(\u001b[0m\u001b[0;34m)\u001b[0m\u001b[0;34m\u001b[0m\u001b[0m\n\u001b[0m\u001b[1;32m    249\u001b[0m \u001b[0;34m\u001b[0m\u001b[0m\n\u001b[1;32m    250\u001b[0m         \u001b[0;31m# wrap results\u001b[0m\u001b[0;34m\u001b[0m\u001b[0;34m\u001b[0m\u001b[0m\n",
      "\u001b[0;32m~/.local/lib/python3.5/site-packages/pandas/core/apply.py\u001b[0m in \u001b[0;36mapply_series_generator\u001b[0;34m(self)\u001b[0m\n\u001b[1;32m    275\u001b[0m             \u001b[0;32mtry\u001b[0m\u001b[0;34m:\u001b[0m\u001b[0;34m\u001b[0m\u001b[0m\n\u001b[1;32m    276\u001b[0m                 \u001b[0;32mfor\u001b[0m \u001b[0mi\u001b[0m\u001b[0;34m,\u001b[0m \u001b[0mv\u001b[0m \u001b[0;32min\u001b[0m \u001b[0menumerate\u001b[0m\u001b[0;34m(\u001b[0m\u001b[0mseries_gen\u001b[0m\u001b[0;34m)\u001b[0m\u001b[0;34m:\u001b[0m\u001b[0;34m\u001b[0m\u001b[0m\n\u001b[0;32m--> 277\u001b[0;31m                     \u001b[0mresults\u001b[0m\u001b[0;34m[\u001b[0m\u001b[0mi\u001b[0m\u001b[0;34m]\u001b[0m \u001b[0;34m=\u001b[0m \u001b[0mself\u001b[0m\u001b[0;34m.\u001b[0m\u001b[0mf\u001b[0m\u001b[0;34m(\u001b[0m\u001b[0mv\u001b[0m\u001b[0;34m)\u001b[0m\u001b[0;34m\u001b[0m\u001b[0m\n\u001b[0m\u001b[1;32m    278\u001b[0m                     \u001b[0mkeys\u001b[0m\u001b[0;34m.\u001b[0m\u001b[0mappend\u001b[0m\u001b[0;34m(\u001b[0m\u001b[0mv\u001b[0m\u001b[0;34m.\u001b[0m\u001b[0mname\u001b[0m\u001b[0;34m)\u001b[0m\u001b[0;34m\u001b[0m\u001b[0m\n\u001b[1;32m    279\u001b[0m             \u001b[0;32mexcept\u001b[0m \u001b[0mException\u001b[0m \u001b[0;32mas\u001b[0m \u001b[0me\u001b[0m\u001b[0;34m:\u001b[0m\u001b[0;34m\u001b[0m\u001b[0m\n",
      "\u001b[0;32m~/.local/lib/python3.5/site-packages/pandas/core/frame.py\u001b[0m in \u001b[0;36minfer\u001b[0;34m(x)\u001b[0m\n\u001b[1;32m   6068\u001b[0m             \u001b[0;32mif\u001b[0m \u001b[0mx\u001b[0m\u001b[0;34m.\u001b[0m\u001b[0mempty\u001b[0m\u001b[0;34m:\u001b[0m\u001b[0;34m\u001b[0m\u001b[0m\n\u001b[1;32m   6069\u001b[0m                 \u001b[0;32mreturn\u001b[0m \u001b[0mlib\u001b[0m\u001b[0;34m.\u001b[0m\u001b[0mmap_infer\u001b[0m\u001b[0;34m(\u001b[0m\u001b[0mx\u001b[0m\u001b[0;34m,\u001b[0m \u001b[0mfunc\u001b[0m\u001b[0;34m)\u001b[0m\u001b[0;34m\u001b[0m\u001b[0m\n\u001b[0;32m-> 6070\u001b[0;31m             \u001b[0;32mreturn\u001b[0m \u001b[0mlib\u001b[0m\u001b[0;34m.\u001b[0m\u001b[0mmap_infer\u001b[0m\u001b[0;34m(\u001b[0m\u001b[0mx\u001b[0m\u001b[0;34m.\u001b[0m\u001b[0mastype\u001b[0m\u001b[0;34m(\u001b[0m\u001b[0mobject\u001b[0m\u001b[0;34m)\u001b[0m\u001b[0;34m.\u001b[0m\u001b[0mvalues\u001b[0m\u001b[0;34m,\u001b[0m \u001b[0mfunc\u001b[0m\u001b[0;34m)\u001b[0m\u001b[0;34m\u001b[0m\u001b[0m\n\u001b[0m\u001b[1;32m   6071\u001b[0m \u001b[0;34m\u001b[0m\u001b[0m\n\u001b[1;32m   6072\u001b[0m         \u001b[0;32mreturn\u001b[0m \u001b[0mself\u001b[0m\u001b[0;34m.\u001b[0m\u001b[0mapply\u001b[0m\u001b[0;34m(\u001b[0m\u001b[0minfer\u001b[0m\u001b[0;34m)\u001b[0m\u001b[0;34m\u001b[0m\u001b[0m\n",
      "\u001b[0;32mpandas/_libs/src/inference.pyx\u001b[0m in \u001b[0;36mpandas._libs.lib.map_infer\u001b[0;34m()\u001b[0m\n",
      "\u001b[0;32m<ipython-input-148-063a0cf28252>\u001b[0m in \u001b[0;36mcolor_negative_red\u001b[0;34m(val)\u001b[0m\n\u001b[1;32m      6\u001b[0m     \"\"\"\n\u001b[1;32m      7\u001b[0m \u001b[0;31m#     color = 'red' if int(val) < 0 else 'black'\u001b[0m\u001b[0;34m\u001b[0m\u001b[0;34m\u001b[0m\u001b[0m\n\u001b[0;32m----> 8\u001b[0;31m     \u001b[0;32mif\u001b[0m \u001b[0mint\u001b[0m\u001b[0;34m(\u001b[0m\u001b[0mval\u001b[0m\u001b[0;34m)\u001b[0m \u001b[0;34m<\u001b[0m \u001b[0;36m0\u001b[0m\u001b[0;34m:\u001b[0m\u001b[0;34m\u001b[0m\u001b[0m\n\u001b[0m\u001b[1;32m      9\u001b[0m         \u001b[0mcolor\u001b[0m \u001b[0;34m=\u001b[0m \u001b[0;34m'red'\u001b[0m\u001b[0;34m\u001b[0m\u001b[0m\n\u001b[1;32m     10\u001b[0m     \u001b[0;32melif\u001b[0m \u001b[0mint\u001b[0m\u001b[0;34m(\u001b[0m\u001b[0mval\u001b[0m\u001b[0;34m)\u001b[0m \u001b[0;34m>\u001b[0m \u001b[0;36m0\u001b[0m\u001b[0;34m:\u001b[0m\u001b[0;34m\u001b[0m\u001b[0m\n",
      "\u001b[0;31mValueError\u001b[0m: ('cannot convert float NaN to integer', 'occurred at index C')"
     ]
    },
    {
     "data": {
      "text/plain": [
       "<pandas.io.formats.style.Styler at 0x7f9cdae58a90>"
      ]
     },
     "execution_count": 154,
     "metadata": {},
     "output_type": "execute_result"
    }
   ],
   "source": [
    "s = df.style.applymap(color_negative_red)\n",
    "s"
   ]
  },
  {
   "cell_type": "code",
   "execution_count": null,
   "metadata": {},
   "outputs": [],
   "source": []
  }
 ],
 "metadata": {
  "kernelspec": {
   "display_name": "Python 3",
   "language": "python",
   "name": "python3"
  },
  "language_info": {
   "codemirror_mode": {
    "name": "ipython",
    "version": 3
   },
   "file_extension": ".py",
   "mimetype": "text/x-python",
   "name": "python",
   "nbconvert_exporter": "python",
   "pygments_lexer": "ipython3",
   "version": "3.5.2"
  }
 },
 "nbformat": 4,
 "nbformat_minor": 2
}
