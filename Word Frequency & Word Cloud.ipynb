{
 "cells": [
  {
   "cell_type": "code",
   "execution_count": 1,
   "metadata": {},
   "outputs": [],
   "source": [
    "from collections import defaultdict\n",
    "import numpy as np\n",
    "import pandas as pd\n",
    "from imageio import imread, imwrite\n",
    "from PIL import Image\n",
    "from scipy.misc import imsave\n",
    "import matplotlib.pyplot as plt\n",
    "\n",
    "stopwords = set(STOPWORDS) "
   ]
  },
  {
   "cell_type": "markdown",
   "metadata": {},
   "source": [
    "# Load Data File"
   ]
  },
  {
   "cell_type": "code",
   "execution_count": 2,
   "metadata": {},
   "outputs": [
    {
     "data": {
      "text/plain": [
       "(58844, 21)"
      ]
     },
     "execution_count": 2,
     "metadata": {},
     "output_type": "execute_result"
    }
   ],
   "source": [
    "datafile = 'employee_reviews_clean.csv'\n",
    "dataset = pd.read_csv(datafile)\n",
    "dataset.shape"
   ]
  },
  {
   "cell_type": "code",
   "execution_count": 110,
   "metadata": {},
   "outputs": [
    {
     "name": "stdout",
     "output_type": "stream",
     "text": [
      "2007\n",
      "4784\n"
     ]
    }
   ],
   "source": [
    "with open('positive-words.txt') as infile:\n",
    "    word_pos = [l[:-1] for l in infile if not l.startswith(';')]\n",
    "with open('negative-words.txt',encoding = \"ISO-8859-1\") as infile:\n",
    "    word_neg = [l[:-1] for l in infile if not l.startswith(';')]    \n",
    "print(len(word_pos))\n",
    "print(len(word_neg))"
   ]
  },
  {
   "cell_type": "markdown",
   "metadata": {},
   "source": [
    "# Split Data (company-wise and rating-wise)"
   ]
  },
  {
   "cell_type": "code",
   "execution_count": 3,
   "metadata": {},
   "outputs": [
    {
     "name": "stdout",
     "output_type": "stream",
     "text": [
      "facebook:  27405\n",
      "netflix:   10710\n",
      "google:    141708\n",
      "apple:     235767\n",
      "amazon:    523551\n",
      "microsoft: 296583\n",
      "\n",
      "five:      438186\n",
      "four:      408660\n",
      "three:     226254\n",
      "two:       89649\n",
      "one:       72975\n"
     ]
    }
   ],
   "source": [
    "# Company wise data split\n",
    "facebook = dataset[dataset['company'] == 'facebook']\n",
    "netflix = dataset[dataset['company'] == 'netflix']\n",
    "google = dataset[dataset['company'] == 'google']\n",
    "apple = dataset[dataset['company'] == 'apple']\n",
    "amazon = dataset[dataset['company'] == 'amazon']\n",
    "microsoft = dataset[dataset['company'] == 'microsoft']\n",
    "print('facebook: ', facebook.size)\n",
    "print('netflix:  ', netflix.size)\n",
    "print('google:   ', google.size)\n",
    "print('apple:    ', apple.size)\n",
    "print('amazon:   ', amazon.size)\n",
    "print('microsoft:', microsoft.size)\n",
    "print()\n",
    "\n",
    "# Rating wise data split\n",
    "five = dataset[dataset['overall-ratings'] == 5]\n",
    "four = dataset[dataset['overall-ratings'] == 4]\n",
    "three = dataset[dataset['overall-ratings'] == 3]\n",
    "two = dataset[dataset['overall-ratings'] == 2]\n",
    "one = dataset[dataset['overall-ratings'] == 1]\n",
    "print('five:     ', five.size)\n",
    "print('four:     ', four.size)\n",
    "print('three:    ', three.size)\n",
    "print('two:      ', two.size)\n",
    "print('one:      ', one.size)"
   ]
  },
  {
   "cell_type": "markdown",
   "metadata": {},
   "source": [
    "# Word Cloud Related Functions"
   ]
  },
  {
   "cell_type": "code",
   "execution_count": 154,
   "metadata": {},
   "outputs": [],
   "source": [
    "def generate_word_frequency_dict(column,sw,n=2000):\n",
    "    word_count = defaultdict(int)\n",
    "    for r in column:\n",
    "        if not isinstance(r,str): continue\n",
    "        for w in r.split():\n",
    "            word_count[w] += 1\n",
    "    counts = [(word_count[w],w) for w in word_count]\n",
    "    counts.sort()\n",
    "    counts.reverse()\n",
    "    words = {}\n",
    "    for x in counts[:n]:\n",
    "        if x[1] in sw or x[1].isdigit(): continue\n",
    "        words[x[1]] = x[0]\n",
    "    #words = [x[1] for x in counts[:2000]]\n",
    "    return words"
   ]
  },
  {
   "cell_type": "code",
   "execution_count": 123,
   "metadata": {},
   "outputs": [],
   "source": [
    "def generate_setiment_wf_dict(wf_d,direction):\n",
    "    words = {}\n",
    "    for w in wf_d:\n",
    "        if w in direction:\n",
    "            words[w] = wf_d[w]\n",
    "    return words"
   ]
  },
  {
   "cell_type": "code",
   "execution_count": 275,
   "metadata": {},
   "outputs": [],
   "source": [
    "def generate_word_cloud(d,mask,font,bgc,fc,outf):\n",
    "        \n",
    "    wordcloud = WordCloud(background_color=bgc,\n",
    "                          mask=mask,\n",
    "                          stopwords=STOPWORDS,\n",
    "                          scale=4,\n",
    "                          #max_font_size=200,\n",
    "                          #min_font_size=5,\n",
    "                          #max_words=100,\n",
    "                          width=2000,\n",
    "                          height=2000,\n",
    "                          font_path=font)\n",
    "    wordcloud.generate_from_frequencies(d)\n",
    "    wordcloud.recolor(color_func=fc)\n",
    "    wordcloud.to_file(outf)\n",
    "    \n",
    "def generate_word_cloud_default(d,outf,bgc='black'):\n",
    "    wordcloud = WordCloud(background_color=bgc, scale=4)\n",
    "    wordcloud.generate_from_frequencies(d)\n",
    "    wordcloud.to_file(outf)"
   ]
  },
  {
   "cell_type": "markdown",
   "metadata": {},
   "source": [
    "# Facebook"
   ]
  },
  {
   "cell_type": "code",
   "execution_count": 125,
   "metadata": {},
   "outputs": [],
   "source": [
    "# Facebook utility\n",
    "fb_sw = ['facebook','fb','lot','lots','also','thing','things','company','really']\n",
    "fb_dir = 'fb/'\n",
    "fb_mask = imread(fb_dir+\"fb.png\")\n",
    "fb_color = ImageColorGenerator(imread(fb_dir+'fb_color.png'))\n",
    "fb_font = fb_dir+'facebook-letter-faces.ttf'"
   ]
  },
  {
   "cell_type": "code",
   "execution_count": 126,
   "metadata": {
    "scrolled": false
   },
   "outputs": [],
   "source": [
    "# Facebook pros\n",
    "wf_pros_facebook = generate_word_frequency_dict(facebook['pros_clean'],fb_sw)\n",
    "swf_pros_facebook = generate_setiment_wf_dict(wf_pros_facebook,word_pos)\n",
    "fb_pros_outf = fb_dir+'wc_pros_fb.png'\n",
    "generate_word_cloud(swf_pros_facebook,fb_mask,fb_font,\"white\",fb_color,fb_pros_outf)"
   ]
  },
  {
   "cell_type": "code",
   "execution_count": 127,
   "metadata": {},
   "outputs": [],
   "source": [
    "# Facebook cons\n",
    "wf_cons_facebook = generate_word_frequency_dict(facebook['cons_clean'],fb_sw)\n",
    "swf_cons_facebook = generate_setiment_wf_dict(wf_cons_facebook,word_neg)\n",
    "fb_cons_outf = fb_dir+'wc_cons_fb.png'\n",
    "generate_word_cloud(swf_cons_facebook,fb_mask,fb_font,\"white\",fb_color,fb_cons_outf)"
   ]
  },
  {
   "cell_type": "code",
   "execution_count": 134,
   "metadata": {},
   "outputs": [],
   "source": [
    "# Facebook summary\n",
    "wf_sum_facebook = generate_word_frequency_dict(facebook['summary_clean'],fb_sw)\n",
    "fb_sum_outf = fb_dir+'wc_summary_fb.png'\n",
    "generate_word_cloud(wf_sum_facebook,fb_mask,fb_font,\"white\",fb_color,fb_sum_outf)"
   ]
  },
  {
   "cell_type": "markdown",
   "metadata": {},
   "source": [
    "# Netflix"
   ]
  },
  {
   "cell_type": "code",
   "execution_count": 161,
   "metadata": {},
   "outputs": [],
   "source": [
    "# Netflix utility\n",
    "nf_sw = ['netflix','company','cons']\n",
    "nf_dir = 'netflix/'\n",
    "nf_mask = imread(nf_dir+'netflix.png')\n",
    "nf_color = ImageColorGenerator(imread(nf_dir+'netflix_color.png'))\n",
    "nf_font = nf_dir+'netflix_font.otf'"
   ]
  },
  {
   "cell_type": "code",
   "execution_count": 162,
   "metadata": {},
   "outputs": [],
   "source": [
    "# Netflix pros\n",
    "wf_pros_netflix = generate_word_frequency_dict(netflix['pros_clean'], nf_sw)\n",
    "swf_pros_netflix = generate_setiment_wf_dict(wf_pros_netflix,word_pos)\n",
    "nf_pros_outf = nf_dir+'wc_pros_netflix.png'\n",
    "generate_word_cloud(swf_pros_netflix,nf_mask,nf_font,\"black\",nf_color,nf_pros_outf)"
   ]
  },
  {
   "cell_type": "code",
   "execution_count": 163,
   "metadata": {},
   "outputs": [],
   "source": [
    "# Netflix cons\n",
    "wf_cons_netflix = generate_word_frequency_dict(netflix['cons_clean'], nf_sw,5000)\n",
    "swf_cons_netflix = generate_setiment_wf_dict(wf_cons_netflix,word_neg)\n",
    "nf_cons_outf = nf_dir+'wc_cons_netflix.png'\n",
    "generate_word_cloud(swf_cons_netflix,nf_mask,nf_font,\"black\",nf_color,nf_cons_outf)"
   ]
  },
  {
   "cell_type": "code",
   "execution_count": 167,
   "metadata": {},
   "outputs": [],
   "source": [
    "# Netflix summary\n",
    "wf_sum_netflix = generate_word_frequency_dict(netflix['summary_clean'], nf_sw)\n",
    "#swf_sum_netflix = generate_setiment_wf_dict(wf_sum_netflix,word_neg+word_pos)\n",
    "nf_sum_outf = nf_dir+'wc_summary_netflix.png'\n",
    "generate_word_cloud(wf_sum_netflix,nf_mask,nf_font,\"black\",nf_color,nf_sum_outf)"
   ]
  },
  {
   "cell_type": "markdown",
   "metadata": {},
   "source": [
    "# Google"
   ]
  },
  {
   "cell_type": "code",
   "execution_count": 193,
   "metadata": {},
   "outputs": [],
   "source": [
    "# Google utility\n",
    "gg_sw = ['google','company','really','lot','lots','cons']\n",
    "gg_dir = 'google/'\n",
    "gg_mask = imread(gg_dir+'google.png')\n",
    "gg_color = ImageColorGenerator(imread(gg_dir+'google_color.png'))\n",
    "gg_font = gg_dir+'GoogleSans-Regular.ttf'"
   ]
  },
  {
   "cell_type": "code",
   "execution_count": 191,
   "metadata": {},
   "outputs": [],
   "source": [
    "# Google pros\n",
    "wf_pros_google = generate_word_frequency_dict(google['pros_clean'], gg_sw)\n",
    "#swf_pros_google = generate_setiment_wf_dict(wf_pros_google,word_pos)\n",
    "gg_pros_outf = gg_dir+'wc_pros_google.png'\n",
    "generate_word_cloud(wf_pros_google,gg_mask,gg_font,\"white\",gg_color,gg_pros_outf)"
   ]
  },
  {
   "cell_type": "code",
   "execution_count": 194,
   "metadata": {},
   "outputs": [],
   "source": [
    "# Google cons\n",
    "wf_cons_google = generate_word_frequency_dict(google['cons_clean'], gg_sw)\n",
    "swf_cons_google = generate_setiment_wf_dict(wf_cons_google,word_neg)\n",
    "gg_cons_outf = gg_dir+'wc_cons_google.png'\n",
    "generate_word_cloud(swf_cons_google,gg_mask,gg_font,\"white\",gg_color,gg_cons_outf)"
   ]
  },
  {
   "cell_type": "code",
   "execution_count": 195,
   "metadata": {},
   "outputs": [],
   "source": [
    "# Google Summary\n",
    "wf_sum_google = generate_word_frequency_dict(google['summary_clean'], gg_sw)\n",
    "gg_sum_outf = gg_dir+'wc_summary_google.png'\n",
    "generate_word_cloud(wf_sum_google,gg_mask,gg_font,\"white\",gg_color,gg_sum_outf)"
   ]
  },
  {
   "cell_type": "markdown",
   "metadata": {},
   "source": [
    "# Apple"
   ]
  },
  {
   "cell_type": "code",
   "execution_count": 214,
   "metadata": {},
   "outputs": [],
   "source": [
    "# Apple utility\n",
    "ap_sw = ['apple','company','pros','cons','really','lot','lots']\n",
    "ap_dir = 'apple/'\n",
    "ap_mask = imread(ap_dir+'apple.png')\n",
    "ap_color = ImageColorGenerator(imread(ap_dir+'apple_color.png'))\n",
    "ap_font = ap_dir+'SF-Pro-Display-Regular.otf'"
   ]
  },
  {
   "cell_type": "code",
   "execution_count": 215,
   "metadata": {},
   "outputs": [],
   "source": [
    "# Apple pros\n",
    "wf_pros_apple = generate_word_frequency_dict(apple['pros_clean'], ap_sw)\n",
    "#swf_pros_apple = generate_setiment_wf_dict(wf_pros_apple,word_pos)\n",
    "ap_pros_outf = ap_dir+'wc_pros_apple.png'\n",
    "generate_word_cloud(wf_pros_apple,ap_mask,ap_font,\"white\",ap_color,ap_pros_outf)"
   ]
  },
  {
   "cell_type": "code",
   "execution_count": 216,
   "metadata": {},
   "outputs": [],
   "source": [
    "# Apple cons\n",
    "wf_cons_apple = generate_word_frequency_dict(apple['cons_clean'], ap_sw)\n",
    "swf_cons_apple = generate_setiment_wf_dict(wf_cons_apple,word_neg)\n",
    "ap_cons_outf = ap_dir+'wc_cons_apple.png'\n",
    "generate_word_cloud(swf_cons_apple,ap_mask,ap_font,\"white\",ap_color,ap_cons_outf)"
   ]
  },
  {
   "cell_type": "code",
   "execution_count": 217,
   "metadata": {},
   "outputs": [],
   "source": [
    "# Apple summary\n",
    "wf_sum_apple = generate_word_frequency_dict(apple['summary_clean'], ap_sw)\n",
    "ap_sum_outf = ap_dir+'wc_summary_apple.png'\n",
    "generate_word_cloud(wf_sum_apple,ap_mask,ap_font,\"white\",ap_color,ap_sum_outf)"
   ]
  },
  {
   "cell_type": "markdown",
   "metadata": {},
   "source": [
    "# Amazon"
   ]
  },
  {
   "cell_type": "code",
   "execution_count": 218,
   "metadata": {},
   "outputs": [],
   "source": [
    "# Amazon utility\n",
    "am_sw = ['amazon','company','pros','cons','really','lot','lots']\n",
    "am_dir = 'amazon/'\n",
    "am_mask = imread(am_dir+'amazon.png')\n",
    "am_color = ImageColorGenerator(imread(am_dir+'amazon_color.png'))\n",
    "am_font = am_dir+'AmazonEmber_Bd.ttf'"
   ]
  },
  {
   "cell_type": "code",
   "execution_count": 220,
   "metadata": {},
   "outputs": [],
   "source": [
    "# Amazon pros\n",
    "wf_pros_amazon = generate_word_frequency_dict(amazon['pros_clean'], am_sw)\n",
    "swf_pros_amazon = generate_setiment_wf_dict(wf_pros_amazon,word_pos)\n",
    "am_pros_outf = am_dir+'wc_pros_amazon.png'\n",
    "generate_word_cloud(swf_pros_amazon,am_mask,am_font,\"black\",am_color,am_pros_outf)"
   ]
  },
  {
   "cell_type": "code",
   "execution_count": 221,
   "metadata": {},
   "outputs": [],
   "source": [
    "# Amazon cons\n",
    "wf_cons_amazon = generate_word_frequency_dict(amazon['cons_clean'], am_sw)\n",
    "swf_cons_amazon = generate_setiment_wf_dict(wf_cons_amazon,word_neg)\n",
    "am_cons_outf = am_dir+'wc_cons_amazon.png'\n",
    "generate_word_cloud(swf_cons_amazon,am_mask,am_font,\"black\",am_color,am_cons_outf)"
   ]
  },
  {
   "cell_type": "code",
   "execution_count": 222,
   "metadata": {},
   "outputs": [],
   "source": [
    "# Amazon summary\n",
    "wf_sum_amazon = generate_word_frequency_dict(amazon['summary_clean'], am_sw)\n",
    "am_sum_outf = am_dir+'wc_summary_amazon.png'\n",
    "generate_word_cloud(wf_sum_amazon,am_mask,am_font,\"black\",am_color,am_sum_outf)"
   ]
  },
  {
   "cell_type": "markdown",
   "metadata": {},
   "source": [
    "# Microsoft"
   ]
  },
  {
   "cell_type": "code",
   "execution_count": 254,
   "metadata": {},
   "outputs": [],
   "source": [
    "# Microsoft utility\n",
    "ms_sw = ['microsoft','company','pros','cons','really','lot','lots']\n",
    "ms_dir = 'microsoft/'\n",
    "ms_mask = imread(ms_dir+'microsoft.png')\n",
    "ms_color = ImageColorGenerator(imread(ms_dir+'microsoft_color4.png'))\n",
    "ms_font = ms_dir+'Microsoft_Logo.ttf'"
   ]
  },
  {
   "cell_type": "code",
   "execution_count": 255,
   "metadata": {},
   "outputs": [],
   "source": [
    "# Microsoft pros\n",
    "wf_pros_microsoft = generate_word_frequency_dict(microsoft['pros_clean'], ms_sw)\n",
    "swf_pros_microsoft = generate_setiment_wf_dict(wf_pros_microsoft,word_pos)\n",
    "ms_pros_outf = ms_dir+'wc_pros_microsoft.png'\n",
    "generate_word_cloud(swf_pros_microsoft,ms_mask,ms_font,\"black\",ms_color,ms_pros_outf)"
   ]
  },
  {
   "cell_type": "code",
   "execution_count": 262,
   "metadata": {},
   "outputs": [],
   "source": [
    "# Microsoft cons\n",
    "wf_cons_microsoft = generate_word_frequency_dict(microsoft['cons_clean'], ms_sw)\n",
    "swf_cons_microsoft = generate_setiment_wf_dict(wf_cons_microsoft,word_neg)\n",
    "ms_cons_outf = ms_dir+'wc_cons_microsoft.png'\n",
    "generate_word_cloud(swf_cons_microsoft,ms_mask,ms_font,\"black\",ms_color,ms_cons_outf)"
   ]
  },
  {
   "cell_type": "code",
   "execution_count": 259,
   "metadata": {},
   "outputs": [],
   "source": [
    "# Microsoft summary\n",
    "wf_sum_microsoft = generate_word_frequency_dict(microsoft['summary_clean'], ms_sw)\n",
    "ms_sum_outf = ms_dir+'wc_summary_microsoft.png'\n",
    "generate_word_cloud(wf_sum_microsoft,ms_mask,ms_font,\"black\",ms_color,ms_sum_outf)"
   ]
  },
  {
   "cell_type": "markdown",
   "metadata": {},
   "source": [
    "# Ratings"
   ]
  },
  {
   "cell_type": "code",
   "execution_count": 280,
   "metadata": {},
   "outputs": [],
   "source": [
    "# Rating\n",
    "rating_based_dir = 'rating/'\n",
    "r_sw = ['company','amazon','netflix','google','microsoft','apple','really','lot','lots','work']\n",
    "# 4 and 5 stars rating\n",
    "wf_good = generate_word_frequency_dict(list(five['summary_clean']) + list(four['summary_clean']), r_sw+word_neg)\n",
    "#swf_good = generate_word_frequency_dict(wf_good,word_pos)\n",
    "good_outf = rating_based_dir + 'wc_good_ratings.png'\n",
    "generate_word_cloud_default(wf_good,good_outf,'white')\n",
    "# 1 and 2 stars rating\n",
    "wf_bad = generate_word_frequency_dict(list(one['summary_clean']) + list(two['summary_clean']), r_sw+word_pos)\n",
    "#swf_bad = generate_word_frequency_dict(wf_bad,word_neg)\n",
    "bad_outf = rating_based_dir + 'wc_bad_ratings.png'\n",
    "generate_word_cloud_default(wf_bad,bad_outf)"
   ]
  },
  {
   "cell_type": "markdown",
   "metadata": {},
   "source": [
    "### TODO: Refactor codes to be more efficient\n",
    "### TODO: Some word clouds use setiment and some do not (need double check for word cloud quality)"
   ]
  },
  {
   "cell_type": "code",
   "execution_count": null,
   "metadata": {},
   "outputs": [],
   "source": []
  }
 ],
 "metadata": {
  "kernelspec": {
   "display_name": "Python 3",
   "language": "python",
   "name": "python3"
  },
  "language_info": {
   "codemirror_mode": {
    "name": "ipython",
    "version": 3
   },
   "file_extension": ".py",
   "mimetype": "text/x-python",
   "name": "python",
   "nbconvert_exporter": "python",
   "pygments_lexer": "ipython3",
   "version": "3.7.1"
  }
 },
 "nbformat": 4,
 "nbformat_minor": 2
}
