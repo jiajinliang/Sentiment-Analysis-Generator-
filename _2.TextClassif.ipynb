{
 "cells": [
  {
   "cell_type": "markdown",
   "metadata": {},
   "source": [
    "# Spring 2019 Statistical NLP, UCSD\n",
    "Programming Assignment 2: Text Classification <br>\n"
   ]
  },
  {
   "cell_type": "code",
   "execution_count": 66,
   "metadata": {},
   "outputs": [],
   "source": [
    "import sentiment as sentimentinterface\n",
    "import classify \n",
    "import timeit\n",
    "import numpy as np\n",
    "\n",
    "import matplotlib.pyplot as plt\n",
    "plt.switch_backend('agg')\n",
    "import matplotlib.ticker as ticker\n",
    "%matplotlib inline"
   ]
  },
  {
   "cell_type": "markdown",
   "metadata": {},
   "source": [
    "## 1. Inspect the Feature representation"
   ]
  },
  {
   "cell_type": "code",
   "execution_count": 67,
   "metadata": {},
   "outputs": [
    {
     "name": "stdout",
     "output_type": "stream",
     "text": [
      "Reading data\n",
      "-- train data\n",
      "sentiment/train.tsv\n",
      "4582\n",
      "-- dev data\n",
      "sentiment/dev.tsv\n",
      "458\n",
      "-- transforming data and labels\n"
     ]
    }
   ],
   "source": [
    "print(\"Reading data\")\n",
    "tarfname = \"data/sentiment.tar.gz\"\n",
    "sentiment = sentimentinterface.read_files(tarfname)\n",
    "    "
   ]
  },
  {
   "cell_type": "code",
   "execution_count": 68,
   "metadata": {},
   "outputs": [
    {
     "name": "stdout",
     "output_type": "stream",
     "text": [
      "ordered\n",
      "chicken\n"
     ]
    }
   ],
   "source": [
    "print((sentiment.count_vect.get_feature_names()[6150])) # map id to word\n",
    "print((sentiment.count_vect.get_feature_names()[1791]))"
   ]
  },
  {
   "cell_type": "code",
   "execution_count": 69,
   "metadata": {},
   "outputs": [
    {
     "name": "stdout",
     "output_type": "stream",
     "text": [
      "  (0, 4665)\t1\n",
      "  (0, 5810)\t1\n",
      "  (0, 1791)\t1\n",
      "  (0, 6150)\t1\n",
      "  (0, 5981)\t1\n",
      "  (0, 4653)\t1\n",
      "  (0, 1452)\t1\n",
      "  (0, 9333)\t1\n",
      "  (0, 7572)\t1\n",
      "  (0, 1470)\t1\n",
      "  (0, 6057)\t1\n",
      "  (0, 8278)\t1\n",
      "  (0, 5487)\t1\n",
      "  (0, 5090)\t1\n",
      "  (0, 1266)\t2\n",
      "  (0, 5821)\t2\n",
      "  (0, 9689)\t1\n",
      "  (0, 8864)\t1\n",
      "  (0, 3468)\t1\n",
      "  (0, 8764)\t2\n",
      "  (0, 3581)\t1\n",
      "  (0, 5927)\t1\n",
      "  (0, 4997)\t1\n",
      "  (0, 9592)\t1\n",
      "[array(['it', 'mushroom', 'chicken', 'ordered', 'not', 'is', 'but',\n",
      "       'vegetarian', 'saying', 'by', 'off', 'start', 'me', 'let',\n",
      "       'boyfriend', 'my', 'with', 'time', 'first', 'the', 'for', 'night',\n",
      "       'last', 'went'], dtype='<U25')]\n"
     ]
    }
   ],
   "source": [
    "print(sentiment.trainX[0])\n",
    "print(sentiment.count_vect.inverse_transform(sentiment.trainX[0]))"
   ]
  },
  {
   "cell_type": "code",
   "execution_count": 70,
   "metadata": {},
   "outputs": [
    {
     "name": "stdout",
     "output_type": "stream",
     "text": [
      "Went last night for the first time with my boyfriend. Let me start off by saying I'm vegetarian, but my boyfriend is not. I ordered the chicken v mushroom, it\n",
      "~~~~~~~~~~~~~~~~~~~~~~~~~~~~~~~~~~~~~~~~~~~~~~~~~~\n",
      "['it' 'mushroom' 'chicken' 'ordered' 'not' 'is' 'but' 'vegetarian'\n",
      " 'saying' 'by' 'off' 'start' 'me' 'let' 'boyfriend' 'my' 'with' 'time'\n",
      " 'first' 'the' 'for' 'night' 'last' 'went']\n",
      "[0 0 0 ... 0 0 0]   (0, 4665)\t1\n",
      "  (0, 5810)\t1\n",
      "  (0, 1791)\t1\n",
      "  (0, 6150)\t1\n",
      "  (0, 5981)\t1\n",
      "  (0, 4653)\t1\n",
      "  (0, 1452)\t1\n",
      "  (0, 9333)\t1\n",
      "  (0, 7572)\t1\n",
      "  (0, 1470)\t1\n",
      "  (0, 6057)\t1\n",
      "  (0, 8278)\t1\n",
      "  (0, 5487)\t1\n",
      "  (0, 5090)\t1\n",
      "  (0, 1266)\t2\n",
      "  (0, 5821)\t2\n",
      "  (0, 9689)\t1\n",
      "  (0, 8864)\t1\n",
      "  (0, 3468)\t1\n",
      "  (0, 8764)\t2\n",
      "  (0, 3581)\t1\n",
      "  (0, 5927)\t1\n",
      "  (0, 4997)\t1\n",
      "  (0, 9592)\t1\n"
     ]
    }
   ],
   "source": [
    "array = sentiment.trainX # the vocabulary dictionary and return term-document matrix\n",
    "print(sentiment.train_data[0]) # the first entry in training data\n",
    "X = sentiment.trainX # term-document matrix; \n",
    "#print(X.toarray().shape) #X : array, [n_samples, n_features]\n",
    "print('~'*50)\n",
    "print(sentiment.count_vect.inverse_transform(X)[0]) # Return terms with nonzero entries in X[0].\n",
    "X_arr = X.toarray()\n",
    "print(X_arr[0], X[0])"
   ]
  },
  {
   "cell_type": "markdown",
   "metadata": {},
   "source": [
    "# 2. Inspect the label representation"
   ]
  },
  {
   "cell_type": "code",
   "execution_count": 71,
   "metadata": {},
   "outputs": [
    {
     "name": "stdout",
     "output_type": "stream",
     "text": [
      "target labels  ['NEGATIVE' 'POSITIVE']\n",
      "target labels  [1 1 0 0 1]\n",
      "['NEGATIVE', 'POSITIVE']\n",
      "[0, 1]\n",
      "['POSITIVE', 'POSITIVE', 'NEGATIVE', 'NEGATIVE', 'POSITIVE']\n"
     ]
    },
    {
     "name": "stderr",
     "output_type": "stream",
     "text": [
      "c:\\program files (x86)\\microsoft visual studio\\shared\\anaconda3_64\\lib\\site-packages\\sklearn\\preprocessing\\label.py:151: DeprecationWarning: The truth value of an empty array is ambiguous. Returning False, but in future this will result in an error. Use `array.size > 0` to check that an array is not empty.\n",
      "  if diff:\n"
     ]
    }
   ],
   "source": [
    "print('target labels ', sentiment.target_labels)\n",
    "print('target labels ', sentiment.trainy[:5]) # show the labels of the first 5 training examples\n",
    "print(list(sentiment.le.classes_))\n",
    "print(list(sentiment.le.transform(['NEGATIVE', 'POSITIVE'])))\n",
    "print(list(sentiment.le.inverse_transform(list(sentiment.trainy[:5]))))\n"
   ]
  },
  {
   "cell_type": "markdown",
   "metadata": {},
   "source": [
    "# 3. Take a look at the data"
   ]
  },
  {
   "cell_type": "code",
   "execution_count": 72,
   "metadata": {},
   "outputs": [
    {
     "name": "stdout",
     "output_type": "stream",
     "text": [
      "Went last night for the first time with my boyfriend. Let me start off by saying I'm vegetarian, but my boyfriend is not. I ordered the chicken v mushroom, it\n"
     ]
    },
    {
     "data": {
      "image/png": "[encoded data removed]",
      "text/plain": [
       "<matplotlib.figure.Figure at 0x21e80214048>"
      ]
     },
     "metadata": {
      "needs_background": "light"
     },
     "output_type": "display_data"
    }
   ],
   "source": [
    "print(sentiment.train_data[0])\n",
    "\n",
    "lens = []\n",
    "for review in sentiment.train_data:\n",
    "    lens.append(len(review.split()))\n",
    "plt.hist(lens, color='m')\n",
    "plt.axvline(np.mean(lens), color='c', linestyle='dashed', linewidth=2,label='mean review length: '+str(np.mean(lens)))\n",
    "plt.legend()\n",
    "plt.show()"
   ]
  },
  {
   "cell_type": "markdown",
   "metadata": {},
   "source": [
    "# 4. Train the classifier"
   ]
  },
  {
   "cell_type": "code",
   "execution_count": 73,
   "metadata": {},
   "outputs": [],
   "source": [
    "cls = classify.train_classifier(sentiment.trainX, sentiment.trainy)"
   ]
  },
  {
   "cell_type": "code",
   "execution_count": 76,
   "metadata": {},
   "outputs": [
    {
     "data": {
      "text/plain": [
       "True"
      ]
     },
     "execution_count": 76,
     "metadata": {},
     "output_type": "execute_result"
    }
   ],
   "source": [
    "\"fine\" in sentiment.count_vect.get_feature_names()"
   ]
  },
  {
   "cell_type": "markdown",
   "metadata": {},
   "source": [
    "# 5. What are the decisive features"
   ]
  },
  {
   "cell_type": "code",
   "execution_count": 74,
   "metadata": {},
   "outputs": [
    {
     "name": "stdout",
     "output_type": "stream",
     "text": [
      "--------------------------------------------------\n",
      "Top k=8\n",
      "--------------------------------------------------\n",
      "perfect\n",
      "best\n",
      "great\n",
      "easy\n",
      "awesome\n",
      "delicious\n",
      "amazing\n",
      "excellent\n",
      "--------------------------------------------------\n",
      "Bottom k=8\n",
      "--------------------------------------------------\n",
      "worst\n",
      "horrible\n",
      "terrible\n",
      "disappointing\n",
      "average\n",
      "meh\n",
      "excited\n",
      "overpriced\n"
     ]
    }
   ],
   "source": [
    "coefficients=cls.coef_[0]\n",
    "k = 8\n",
    "top_k =np.argsort(coefficients)[-k:]\n",
    "top_k_words = []\n",
    "\n",
    "print('-'*50)\n",
    "print('Top k=%d' %k)\n",
    "print('-'*50)\n",
    "\n",
    "for i in top_k:\n",
    "    print(sentiment.count_vect.get_feature_names()[i])\n",
    "    top_k_words.append(sentiment.count_vect.get_feature_names()[i])\n",
    "#print(sentiment.count_ve\n",
    "print('-'*50)\n",
    "print('Bottom k=%d' %k)\n",
    "print('-'*50)\n",
    "#top_k = np.argpartition(coefficients, -k)[-k:]\n",
    "bottom_k =np.argsort(coefficients)[:k]\n",
    "bottom_k_words = []\n",
    "#print(top_k)\n",
    "for i in bottom_k:\n",
    "    print(sentiment.count_vect.get_feature_names()[i])\n",
    "    bottom_k_words.append(sentiment.count_vect.get_feature_names()[i])\n",
    "\n",
    "#print(sentiment.count_ve"
   ]
  },
  {
   "cell_type": "markdown",
   "metadata": {},
   "source": [
    "# 6. How is the classifier doing edge cases\n",
    "\n",
    "## 6 a) reviews that contain top-k words\n",
    " in this case we expect predictions to be mostly POSITIVE (i.e LABEL=1)\n"
   ]
  },
  {
   "cell_type": "code",
   "execution_count": 9,
   "metadata": {},
   "outputs": [
    {
     "name": "stdout",
     "output_type": "stream",
     "text": [
      "  Accuracy on these reviews  is: 0.8762886597938144\n"
     ]
    },
    {
     "data": {
      "image/png": "[encoded data removed]",
      "text/plain": [
       "<Figure size 432x288 with 1 Axes>"
      ]
     },
     "metadata": {
      "needs_background": "light"
     },
     "output_type": "display_data"
    }
   ],
   "source": [
    "top_k_reviews = []\n",
    "top_k_labels = []\n",
    "for j in range(len(sentiment.dev_data)):\n",
    "    review = sentiment.dev_data[j]\n",
    "    for word in top_k_words:\n",
    "        if word in review:\n",
    "            top_k_reviews.append(review)\n",
    "            top_k_labels.append(sentiment.dev_labels[j])\n",
    "            break\n",
    "    \n",
    "        #print(review)\n",
    "dev_X = sentiment.count_vect.transform(top_k_reviews)\n",
    "classify.evaluate(dev_X, sentiment.le.transform(top_k_labels), cls, 'these reviews')\n",
    "\n",
    "\n",
    "yp = cls.predict_proba(dev_X) \n",
    "#print(yp.shape)\n",
    "plt.plot(yp[:,0],'b.') # ['0: NEGATIVE', '1:POSITIVE'] \n",
    "plt.plot(yp[:,1],'ro') \n",
    "plt.title('Classifier Predictions on reviews with topk words (highly positive)')\n",
    "plt.ylabel('Predicted score')\n",
    "plt.xlabel('Example #')\n",
    "plt.show()"
   ]
  },
  {
   "cell_type": "markdown",
   "metadata": {},
   "source": [
    "## 6b) reviews that contain bottom-k words\n",
    " in this case we expect predictions to be mostly NEGATIVE (i.e LABEL=0)"
   ]
  },
  {
   "cell_type": "code",
   "execution_count": 10,
   "metadata": {},
   "outputs": [
    {
     "name": "stdout",
     "output_type": "stream",
     "text": [
      "  Accuracy on these reviews  is: 0.9473684210526315\n"
     ]
    },
    {
     "data": {
      "image/png": "[encoded data removed]",
      "text/plain": [
       "<Figure size 432x288 with 1 Axes>"
      ]
     },
     "metadata": {
      "needs_background": "light"
     },
     "output_type": "display_data"
    }
   ],
   "source": [
    "bottom_k_reviews = []\n",
    "bottom_k_labels = []\n",
    "for j in range(len(sentiment.dev_data)):\n",
    "    review = sentiment.dev_data[j]\n",
    "    for word in bottom_k_words:\n",
    "        if word in review:\n",
    "            bottom_k_reviews.append(review)\n",
    "            bottom_k_labels.append(sentiment.dev_labels[j])\n",
    "            break\n",
    "    \n",
    "        #print(review)\n",
    "dev_X = sentiment.count_vect.transform(bottom_k_reviews)\n",
    "classify.evaluate(dev_X, sentiment.le.transform(bottom_k_labels), cls, 'these reviews')\n",
    "yp = cls.predict_proba(dev_X) \n",
    "#print(yp.shape)\n",
    "plt.plot(yp[:,0],'b.') # ['0: NEGATIVE', '1:POSITIVE'] \n",
    "plt.plot(yp[:,1],'ro') \n",
    "plt.show()"
   ]
  }
 ],
 "metadata": {
  "kernelspec": {
   "display_name": "Python 3",
   "language": "python",
   "name": "python3"
  },
  "language_info": {
   "codemirror_mode": {
    "name": "ipython",
    "version": 3
   },
   "file_extension": ".py",
   "mimetype": "text/x-python",
   "name": "python",
   "nbconvert_exporter": "python",
   "pygments_lexer": "ipython3",
   "version": "3.7.1"
  }
 },
 "nbformat": 4,
 "nbformat_minor": 2
}
